{
 "cells": [
  {
   "cell_type": "code",
   "execution_count": 1,
   "id": "b08aff2f",
   "metadata": {},
   "outputs": [],
   "source": [
    "import pandas as pd\n",
    "import numpy as np\n",
    "import matplotlib.pyplot as plt\n",
    "import seaborn as sns\n",
    "\n",
    "from sklearn.metrics import f1_score, recall_score, precision_score, precision_recall_curve\n",
    "import torch\n",
    "from sklearn.model_selection import train_test_split\n"
   ]
  },
  {
   "cell_type": "code",
   "execution_count": 2,
   "id": "3872aba8",
   "metadata": {},
   "outputs": [],
   "source": [
    "#!pip install maru"
   ]
  },
  {
   "cell_type": "code",
   "execution_count": 3,
   "id": "eb787959",
   "metadata": {},
   "outputs": [],
   "source": [
    "import maru"
   ]
  },
  {
   "cell_type": "code",
   "execution_count": 4,
   "id": "53f1ecf2",
   "metadata": {},
   "outputs": [
    {
     "data": {
      "text/plain": [
       "((63438, 5), (29960, 4))"
      ]
     },
     "execution_count": 4,
     "metadata": {},
     "output_type": "execute_result"
    }
   ],
   "source": [
    "train = pd.read_csv('./train.csv')\n",
    "test = pd.read_csv('./test.csv')\n",
    "train.shape , test.shape"
   ]
  },
  {
   "cell_type": "code",
   "execution_count": 5,
   "id": "8b09d55a",
   "metadata": {},
   "outputs": [],
   "source": [
    "features = pd.concat([train.drop(['stress'], axis=1), test]) "
   ]
  },
  {
   "cell_type": "code",
   "execution_count": 6,
   "id": "359f4b39",
   "metadata": {},
   "outputs": [],
   "source": [
    "labels = train.stress"
   ]
  },
  {
   "cell_type": "code",
   "execution_count": 7,
   "id": "695dddb5",
   "metadata": {},
   "outputs": [
    {
     "data": {
      "text/plain": [
       "((63438, 5), (29960, 4), (93398, 4))"
      ]
     },
     "execution_count": 7,
     "metadata": {},
     "output_type": "execute_result"
    }
   ],
   "source": [
    "train.shape , test.shape, features.shape"
   ]
  },
  {
   "cell_type": "code",
   "execution_count": 8,
   "id": "e8edb251",
   "metadata": {},
   "outputs": [
    {
     "data": {
      "text/html": [
       "<div>\n",
       "<style scoped>\n",
       "    .dataframe tbody tr th:only-of-type {\n",
       "        vertical-align: middle;\n",
       "    }\n",
       "\n",
       "    .dataframe tbody tr th {\n",
       "        vertical-align: top;\n",
       "    }\n",
       "\n",
       "    .dataframe thead th {\n",
       "        text-align: right;\n",
       "    }\n",
       "</style>\n",
       "<table border=\"1\" class=\"dataframe\">\n",
       "  <thead>\n",
       "    <tr style=\"text-align: right;\">\n",
       "      <th></th>\n",
       "      <th>id</th>\n",
       "      <th>word</th>\n",
       "      <th>num_syllables</th>\n",
       "      <th>lemma</th>\n",
       "    </tr>\n",
       "  </thead>\n",
       "  <tbody>\n",
       "    <tr>\n",
       "      <th>0</th>\n",
       "      <td>0</td>\n",
       "      <td>румяной</td>\n",
       "      <td>3</td>\n",
       "      <td>румяный</td>\n",
       "    </tr>\n",
       "    <tr>\n",
       "      <th>1</th>\n",
       "      <td>1</td>\n",
       "      <td>цифрами</td>\n",
       "      <td>3</td>\n",
       "      <td>цифра</td>\n",
       "    </tr>\n",
       "    <tr>\n",
       "      <th>2</th>\n",
       "      <td>2</td>\n",
       "      <td>слугами</td>\n",
       "      <td>3</td>\n",
       "      <td>слуга</td>\n",
       "    </tr>\n",
       "    <tr>\n",
       "      <th>3</th>\n",
       "      <td>3</td>\n",
       "      <td>выбирает</td>\n",
       "      <td>4</td>\n",
       "      <td>выбирать</td>\n",
       "    </tr>\n",
       "    <tr>\n",
       "      <th>4</th>\n",
       "      <td>4</td>\n",
       "      <td>управдом</td>\n",
       "      <td>3</td>\n",
       "      <td>управдом</td>\n",
       "    </tr>\n",
       "  </tbody>\n",
       "</table>\n",
       "</div>"
      ],
      "text/plain": [
       "   id      word  num_syllables     lemma\n",
       "0   0   румяной              3   румяный\n",
       "1   1   цифрами              3     цифра\n",
       "2   2   слугами              3     слуга\n",
       "3   3  выбирает              4  выбирать\n",
       "4   4  управдом              3  управдом"
      ]
     },
     "execution_count": 8,
     "metadata": {},
     "output_type": "execute_result"
    }
   ],
   "source": [
    "features.head()"
   ]
  },
  {
   "cell_type": "code",
   "execution_count": 9,
   "id": "e3e798e2",
   "metadata": {},
   "outputs": [
    {
     "data": {
      "image/png": "[encoded data removed]",
      "text/plain": [
       "<Figure size 432x288 with 1 Axes>"
      ]
     },
     "metadata": {
      "needs_background": "light"
     },
     "output_type": "display_data"
    }
   ],
   "source": [
    "sns.countplot(x=train.stress)\n",
    "plt.show()"
   ]
  },
  {
   "cell_type": "code",
   "execution_count": 10,
   "id": "8c90aa10",
   "metadata": {},
   "outputs": [
    {
     "data": {
      "text/plain": [
       "array([2, 1, 3, 4, 5, 6])"
      ]
     },
     "execution_count": 10,
     "metadata": {},
     "output_type": "execute_result"
    }
   ],
   "source": [
    "train.stress.unique()"
   ]
  },
  {
   "cell_type": "code",
   "execution_count": 11,
   "id": "a13dd6bf",
   "metadata": {},
   "outputs": [
    {
     "name": "stdout",
     "output_type": "stream",
     "text": [
      "<class 'pandas.core.frame.DataFrame'>\n",
      "Int64Index: 93398 entries, 0 to 29959\n",
      "Data columns (total 4 columns):\n",
      " #   Column         Non-Null Count  Dtype \n",
      "---  ------         --------------  ----- \n",
      " 0   id             93398 non-null  int64 \n",
      " 1   word           93398 non-null  object\n",
      " 2   num_syllables  93398 non-null  int64 \n",
      " 3   lemma          93398 non-null  object\n",
      "dtypes: int64(2), object(2)\n",
      "memory usage: 3.6+ MB\n"
     ]
    }
   ],
   "source": [
    "features.info()"
   ]
  },
  {
   "cell_type": "code",
   "execution_count": null,
   "id": "5156d71e",
   "metadata": {},
   "outputs": [],
   "source": []
  },
  {
   "cell_type": "code",
   "execution_count": 12,
   "id": "57d2bf7a",
   "metadata": {},
   "outputs": [],
   "source": [
    "def LCS(stringA, stringB):\n",
    "    lenStringA = 1 + len(stringA)\n",
    "    lenStringB = 1 + len(stringB)\n",
    "\n",
    "    matrix = [[0] * (lenStringB) for i in range(lenStringA)]\n",
    "\n",
    "    substringLength = 0\n",
    "    endIndex = 0\n",
    "\n",
    "    for aIndex in range(1, lenStringA):\n",
    "        for bIndex in range(1, lenStringB):\n",
    "\n",
    "            if stringA[aIndex - 1] == stringB[bIndex - 1]:\n",
    "\n",
    "                matrix[aIndex][bIndex] = matrix[aIndex - 1][bIndex - 1] + 1\n",
    "\n",
    "                if matrix[aIndex][bIndex] > substringLength:\n",
    "\n",
    "                    substringLength = matrix[aIndex][bIndex]\n",
    "                    endIndex = aIndex\n",
    "\n",
    "            else:\n",
    "\n",
    "                matrix[aIndex][bIndex] = 0\n",
    "\n",
    "    return stringA[endIndex - substringLength: endIndex]"
   ]
  },
  {
   "cell_type": "code",
   "execution_count": 13,
   "id": "861559d7",
   "metadata": {},
   "outputs": [],
   "source": [
    "features['maxsubstring_len'] = features.apply(lambda x: len(LCS(x.word, x.lemma)), axis=1)"
   ]
  },
  {
   "cell_type": "code",
   "execution_count": 14,
   "id": "2fafab7b",
   "metadata": {},
   "outputs": [
    {
     "data": {
      "text/html": [
       "<div>\n",
       "<style scoped>\n",
       "    .dataframe tbody tr th:only-of-type {\n",
       "        vertical-align: middle;\n",
       "    }\n",
       "\n",
       "    .dataframe tbody tr th {\n",
       "        vertical-align: top;\n",
       "    }\n",
       "\n",
       "    .dataframe thead th {\n",
       "        text-align: right;\n",
       "    }\n",
       "</style>\n",
       "<table border=\"1\" class=\"dataframe\">\n",
       "  <thead>\n",
       "    <tr style=\"text-align: right;\">\n",
       "      <th></th>\n",
       "      <th>id</th>\n",
       "      <th>word</th>\n",
       "      <th>num_syllables</th>\n",
       "      <th>lemma</th>\n",
       "      <th>maxsubstring_len</th>\n",
       "    </tr>\n",
       "  </thead>\n",
       "  <tbody>\n",
       "    <tr>\n",
       "      <th>0</th>\n",
       "      <td>0</td>\n",
       "      <td>румяной</td>\n",
       "      <td>3</td>\n",
       "      <td>румяный</td>\n",
       "      <td>5</td>\n",
       "    </tr>\n",
       "    <tr>\n",
       "      <th>1</th>\n",
       "      <td>1</td>\n",
       "      <td>цифрами</td>\n",
       "      <td>3</td>\n",
       "      <td>цифра</td>\n",
       "      <td>5</td>\n",
       "    </tr>\n",
       "    <tr>\n",
       "      <th>2</th>\n",
       "      <td>2</td>\n",
       "      <td>слугами</td>\n",
       "      <td>3</td>\n",
       "      <td>слуга</td>\n",
       "      <td>5</td>\n",
       "    </tr>\n",
       "    <tr>\n",
       "      <th>3</th>\n",
       "      <td>3</td>\n",
       "      <td>выбирает</td>\n",
       "      <td>4</td>\n",
       "      <td>выбирать</td>\n",
       "      <td>6</td>\n",
       "    </tr>\n",
       "    <tr>\n",
       "      <th>4</th>\n",
       "      <td>4</td>\n",
       "      <td>управдом</td>\n",
       "      <td>3</td>\n",
       "      <td>управдом</td>\n",
       "      <td>8</td>\n",
       "    </tr>\n",
       "  </tbody>\n",
       "</table>\n",
       "</div>"
      ],
      "text/plain": [
       "   id      word  num_syllables     lemma  maxsubstring_len\n",
       "0   0   румяной              3   румяный                 5\n",
       "1   1   цифрами              3     цифра                 5\n",
       "2   2   слугами              3     слуга                 5\n",
       "3   3  выбирает              4  выбирать                 6\n",
       "4   4  управдом              3  управдом                 8"
      ]
     },
     "execution_count": 14,
     "metadata": {},
     "output_type": "execute_result"
    }
   ],
   "source": [
    "features.head()"
   ]
  },
  {
   "cell_type": "code",
   "execution_count": 15,
   "id": "911611fb",
   "metadata": {},
   "outputs": [],
   "source": [
    "features['is_cia'] = features.word.apply(lambda x: (x[-3:] == 'ция')*1)"
   ]
  },
  {
   "cell_type": "code",
   "execution_count": 16,
   "id": "6963fa9d",
   "metadata": {},
   "outputs": [
    {
     "data": {
      "text/html": [
       "<div>\n",
       "<style scoped>\n",
       "    .dataframe tbody tr th:only-of-type {\n",
       "        vertical-align: middle;\n",
       "    }\n",
       "\n",
       "    .dataframe tbody tr th {\n",
       "        vertical-align: top;\n",
       "    }\n",
       "\n",
       "    .dataframe thead th {\n",
       "        text-align: right;\n",
       "    }\n",
       "</style>\n",
       "<table border=\"1\" class=\"dataframe\">\n",
       "  <thead>\n",
       "    <tr style=\"text-align: right;\">\n",
       "      <th></th>\n",
       "      <th>id</th>\n",
       "      <th>num_syllables</th>\n",
       "      <th>maxsubstring_len</th>\n",
       "      <th>is_cia</th>\n",
       "    </tr>\n",
       "  </thead>\n",
       "  <tbody>\n",
       "    <tr>\n",
       "      <th>count</th>\n",
       "      <td>228.000000</td>\n",
       "      <td>228.000000</td>\n",
       "      <td>228.000000</td>\n",
       "      <td>228.0</td>\n",
       "    </tr>\n",
       "    <tr>\n",
       "      <th>mean</th>\n",
       "      <td>28229.868421</td>\n",
       "      <td>4.934211</td>\n",
       "      <td>9.824561</td>\n",
       "      <td>1.0</td>\n",
       "    </tr>\n",
       "    <tr>\n",
       "      <th>std</th>\n",
       "      <td>18339.493567</td>\n",
       "      <td>0.839585</td>\n",
       "      <td>1.910996</td>\n",
       "      <td>0.0</td>\n",
       "    </tr>\n",
       "    <tr>\n",
       "      <th>min</th>\n",
       "      <td>79.000000</td>\n",
       "      <td>3.000000</td>\n",
       "      <td>5.000000</td>\n",
       "      <td>1.0</td>\n",
       "    </tr>\n",
       "    <tr>\n",
       "      <th>25%</th>\n",
       "      <td>11462.750000</td>\n",
       "      <td>4.000000</td>\n",
       "      <td>9.000000</td>\n",
       "      <td>1.0</td>\n",
       "    </tr>\n",
       "    <tr>\n",
       "      <th>50%</th>\n",
       "      <td>26151.000000</td>\n",
       "      <td>5.000000</td>\n",
       "      <td>10.000000</td>\n",
       "      <td>1.0</td>\n",
       "    </tr>\n",
       "    <tr>\n",
       "      <th>75%</th>\n",
       "      <td>42376.250000</td>\n",
       "      <td>6.000000</td>\n",
       "      <td>11.000000</td>\n",
       "      <td>1.0</td>\n",
       "    </tr>\n",
       "    <tr>\n",
       "      <th>max</th>\n",
       "      <td>62952.000000</td>\n",
       "      <td>6.000000</td>\n",
       "      <td>15.000000</td>\n",
       "      <td>1.0</td>\n",
       "    </tr>\n",
       "  </tbody>\n",
       "</table>\n",
       "</div>"
      ],
      "text/plain": [
       "                 id  num_syllables  maxsubstring_len  is_cia\n",
       "count    228.000000     228.000000        228.000000   228.0\n",
       "mean   28229.868421       4.934211          9.824561     1.0\n",
       "std    18339.493567       0.839585          1.910996     0.0\n",
       "min       79.000000       3.000000          5.000000     1.0\n",
       "25%    11462.750000       4.000000          9.000000     1.0\n",
       "50%    26151.000000       5.000000         10.000000     1.0\n",
       "75%    42376.250000       6.000000         11.000000     1.0\n",
       "max    62952.000000       6.000000         15.000000     1.0"
      ]
     },
     "execution_count": 16,
     "metadata": {},
     "output_type": "execute_result"
    }
   ],
   "source": [
    "features[features.is_cia==1.0].describe()"
   ]
  },
  {
   "cell_type": "code",
   "execution_count": 17,
   "id": "051e5d05",
   "metadata": {},
   "outputs": [],
   "source": [
    "glass = {'а', 'о', 'у', 'э', 'ы', 'я', 'ё', 'ю', 'я', 'и'}"
   ]
  },
  {
   "cell_type": "code",
   "execution_count": null,
   "id": "6db138ff",
   "metadata": {},
   "outputs": [],
   "source": []
  },
  {
   "cell_type": "code",
   "execution_count": null,
   "id": "e12cd464",
   "metadata": {},
   "outputs": [],
   "source": []
  },
  {
   "cell_type": "code",
   "execution_count": null,
   "id": "71d7b188",
   "metadata": {},
   "outputs": [],
   "source": []
  },
  {
   "cell_type": "code",
   "execution_count": 18,
   "id": "61c514e4",
   "metadata": {},
   "outputs": [
    {
     "data": {
      "text/html": [
       "<div>\n",
       "<style scoped>\n",
       "    .dataframe tbody tr th:only-of-type {\n",
       "        vertical-align: middle;\n",
       "    }\n",
       "\n",
       "    .dataframe tbody tr th {\n",
       "        vertical-align: top;\n",
       "    }\n",
       "\n",
       "    .dataframe thead th {\n",
       "        text-align: right;\n",
       "    }\n",
       "</style>\n",
       "<table border=\"1\" class=\"dataframe\">\n",
       "  <thead>\n",
       "    <tr style=\"text-align: right;\">\n",
       "      <th></th>\n",
       "      <th>id</th>\n",
       "      <th>word</th>\n",
       "      <th>num_syllables</th>\n",
       "      <th>lemma</th>\n",
       "      <th>maxsubstring_len</th>\n",
       "      <th>is_cia</th>\n",
       "    </tr>\n",
       "  </thead>\n",
       "  <tbody>\n",
       "    <tr>\n",
       "      <th>0</th>\n",
       "      <td>0</td>\n",
       "      <td>румяной</td>\n",
       "      <td>3</td>\n",
       "      <td>румяный</td>\n",
       "      <td>5</td>\n",
       "      <td>0</td>\n",
       "    </tr>\n",
       "    <tr>\n",
       "      <th>1</th>\n",
       "      <td>1</td>\n",
       "      <td>цифрами</td>\n",
       "      <td>3</td>\n",
       "      <td>цифра</td>\n",
       "      <td>5</td>\n",
       "      <td>0</td>\n",
       "    </tr>\n",
       "    <tr>\n",
       "      <th>2</th>\n",
       "      <td>2</td>\n",
       "      <td>слугами</td>\n",
       "      <td>3</td>\n",
       "      <td>слуга</td>\n",
       "      <td>5</td>\n",
       "      <td>0</td>\n",
       "    </tr>\n",
       "    <tr>\n",
       "      <th>3</th>\n",
       "      <td>3</td>\n",
       "      <td>выбирает</td>\n",
       "      <td>4</td>\n",
       "      <td>выбирать</td>\n",
       "      <td>6</td>\n",
       "      <td>0</td>\n",
       "    </tr>\n",
       "    <tr>\n",
       "      <th>4</th>\n",
       "      <td>4</td>\n",
       "      <td>управдом</td>\n",
       "      <td>3</td>\n",
       "      <td>управдом</td>\n",
       "      <td>8</td>\n",
       "      <td>0</td>\n",
       "    </tr>\n",
       "    <tr>\n",
       "      <th>...</th>\n",
       "      <td>...</td>\n",
       "      <td>...</td>\n",
       "      <td>...</td>\n",
       "      <td>...</td>\n",
       "      <td>...</td>\n",
       "      <td>...</td>\n",
       "    </tr>\n",
       "    <tr>\n",
       "      <th>63433</th>\n",
       "      <td>63433</td>\n",
       "      <td>экзамена</td>\n",
       "      <td>4</td>\n",
       "      <td>экзамен</td>\n",
       "      <td>7</td>\n",
       "      <td>0</td>\n",
       "    </tr>\n",
       "    <tr>\n",
       "      <th>63434</th>\n",
       "      <td>63434</td>\n",
       "      <td>культурой</td>\n",
       "      <td>3</td>\n",
       "      <td>культура</td>\n",
       "      <td>7</td>\n",
       "      <td>0</td>\n",
       "    </tr>\n",
       "    <tr>\n",
       "      <th>63435</th>\n",
       "      <td>63435</td>\n",
       "      <td>объемной</td>\n",
       "      <td>3</td>\n",
       "      <td>объемный</td>\n",
       "      <td>6</td>\n",
       "      <td>0</td>\n",
       "    </tr>\n",
       "    <tr>\n",
       "      <th>63436</th>\n",
       "      <td>63436</td>\n",
       "      <td>участком</td>\n",
       "      <td>3</td>\n",
       "      <td>участок</td>\n",
       "      <td>5</td>\n",
       "      <td>0</td>\n",
       "    </tr>\n",
       "    <tr>\n",
       "      <th>63437</th>\n",
       "      <td>63437</td>\n",
       "      <td>ташкента</td>\n",
       "      <td>3</td>\n",
       "      <td>ташкент</td>\n",
       "      <td>7</td>\n",
       "      <td>0</td>\n",
       "    </tr>\n",
       "  </tbody>\n",
       "</table>\n",
       "<p>63438 rows × 6 columns</p>\n",
       "</div>"
      ],
      "text/plain": [
       "          id       word  num_syllables     lemma  maxsubstring_len  is_cia\n",
       "0          0    румяной              3   румяный                 5       0\n",
       "1          1    цифрами              3     цифра                 5       0\n",
       "2          2    слугами              3     слуга                 5       0\n",
       "3          3   выбирает              4  выбирать                 6       0\n",
       "4          4   управдом              3  управдом                 8       0\n",
       "...      ...        ...            ...       ...               ...     ...\n",
       "63433  63433   экзамена              4   экзамен                 7       0\n",
       "63434  63434  культурой              3  культура                 7       0\n",
       "63435  63435   объемной              3  объемный                 6       0\n",
       "63436  63436   участком              3   участок                 5       0\n",
       "63437  63437   ташкента              3   ташкент                 7       0\n",
       "\n",
       "[63438 rows x 6 columns]"
      ]
     },
     "execution_count": 18,
     "metadata": {},
     "output_type": "execute_result"
    }
   ],
   "source": [
    "features[:len(train)]"
   ]
  },
  {
   "cell_type": "code",
   "execution_count": 19,
   "id": "5d212776",
   "metadata": {},
   "outputs": [
    {
     "data": {
      "text/html": [
       "<div>\n",
       "<style scoped>\n",
       "    .dataframe tbody tr th:only-of-type {\n",
       "        vertical-align: middle;\n",
       "    }\n",
       "\n",
       "    .dataframe tbody tr th {\n",
       "        vertical-align: top;\n",
       "    }\n",
       "\n",
       "    .dataframe thead th {\n",
       "        text-align: right;\n",
       "    }\n",
       "</style>\n",
       "<table border=\"1\" class=\"dataframe\">\n",
       "  <thead>\n",
       "    <tr style=\"text-align: right;\">\n",
       "      <th></th>\n",
       "      <th>id</th>\n",
       "      <th>word</th>\n",
       "      <th>num_syllables</th>\n",
       "      <th>lemma</th>\n",
       "      <th>maxsubstring_len</th>\n",
       "      <th>is_cia</th>\n",
       "    </tr>\n",
       "  </thead>\n",
       "  <tbody>\n",
       "  </tbody>\n",
       "</table>\n",
       "</div>"
      ],
      "text/plain": [
       "Empty DataFrame\n",
       "Columns: [id, word, num_syllables, lemma, maxsubstring_len, is_cia]\n",
       "Index: []"
      ]
     },
     "execution_count": 19,
     "metadata": {},
     "output_type": "execute_result"
    }
   ],
   "source": [
    "\n",
    "features['word'] = features.word.apply(lambda x: x.replace(\"ё\", \"е\"))\n",
    "features[features.word.str.find(\"ё\")!=-1]"
   ]
  },
  {
   "cell_type": "code",
   "execution_count": 20,
   "id": "14e8abc0",
   "metadata": {},
   "outputs": [],
   "source": [
    "analyzer = maru.get_analyzer(tagger='crf', lemmatizer='pymorphy')\n",
    "analyzed = features.word.to_list()\n",
    "#analyzed = analyzer.analyze(analyzed)\n",
    "tags_morth = []"
   ]
  },
  {
   "cell_type": "code",
   "execution_count": 21,
   "id": "4ca8c77b",
   "metadata": {},
   "outputs": [],
   "source": [
    "analyzed = analyzer.analyze(analyzed)\n",
    "for morph in analyzed:\n",
    "    tags_morth.append(morph.tag)"
   ]
  },
  {
   "cell_type": "code",
   "execution_count": null,
   "id": "e6ab7543",
   "metadata": {},
   "outputs": [],
   "source": []
  },
  {
   "cell_type": "code",
   "execution_count": 22,
   "id": "0acea250",
   "metadata": {},
   "outputs": [
    {
     "name": "stdout",
     "output_type": "stream",
     "text": [
      "[ADJ NOUN VERB NUM ADV PRON H ADP DET CONJ PART INTJ UNKN]\n"
     ]
    },
    {
     "data": {
      "text/plain": [
       "array(['ADJECTIVE', 'NOUN', 'VERB', 'NUMERICAL', 'ADVERB', 'PRONOUN',\n",
       "       'INTRODUCTION', 'ADPOSITION', 'DETERMINANT', 'CONJUNCTION',\n",
       "       'PARTICLE', 'INTERJECTION', 'UNKNOWN'], dtype=object)"
      ]
     },
     "execution_count": 22,
     "metadata": {},
     "output_type": "execute_result"
    }
   ],
   "source": [
    "pos = pd.DataFrame([x.pos for x in tags_morth], columns=['Part_of_speach'])\n",
    "print(pos.Part_of_speach.unique())\n",
    "pos.Part_of_speach = pos.Part_of_speach.apply(lambda x: str(x)[str(x).find('.')+1:])\n",
    "pos.Part_of_speach.unique()\n"
   ]
  },
  {
   "cell_type": "code",
   "execution_count": 23,
   "id": "4d82e55b",
   "metadata": {},
   "outputs": [
    {
     "data": {
      "image/png": "[encoded data removed]",
      "text/plain": [
       "<Figure size 432x288 with 1 Axes>"
      ]
     },
     "metadata": {
      "needs_background": "light"
     },
     "output_type": "display_data"
    }
   ],
   "source": [
    "sns.countplot(x=pos.Part_of_speach)\n",
    "plt.xticks(rotation = 90)\n",
    "plt.show()"
   ]
  },
  {
   "cell_type": "code",
   "execution_count": 24,
   "id": "0bb502ba",
   "metadata": {},
   "outputs": [
    {
     "data": {
      "text/html": [
       "<div>\n",
       "<style scoped>\n",
       "    .dataframe tbody tr th:only-of-type {\n",
       "        vertical-align: middle;\n",
       "    }\n",
       "\n",
       "    .dataframe tbody tr th {\n",
       "        vertical-align: top;\n",
       "    }\n",
       "\n",
       "    .dataframe thead th {\n",
       "        text-align: right;\n",
       "    }\n",
       "</style>\n",
       "<table border=\"1\" class=\"dataframe\">\n",
       "  <thead>\n",
       "    <tr style=\"text-align: right;\">\n",
       "      <th></th>\n",
       "      <th>id</th>\n",
       "      <th>word</th>\n",
       "      <th>num_syllables</th>\n",
       "      <th>lemma</th>\n",
       "      <th>maxsubstring_len</th>\n",
       "      <th>is_cia</th>\n",
       "      <th>Part_of_speach</th>\n",
       "    </tr>\n",
       "  </thead>\n",
       "  <tbody>\n",
       "    <tr>\n",
       "      <th>0</th>\n",
       "      <td>0</td>\n",
       "      <td>румяной</td>\n",
       "      <td>3</td>\n",
       "      <td>румяный</td>\n",
       "      <td>5</td>\n",
       "      <td>0</td>\n",
       "      <td>ADJECTIVE</td>\n",
       "    </tr>\n",
       "    <tr>\n",
       "      <th>1</th>\n",
       "      <td>1</td>\n",
       "      <td>цифрами</td>\n",
       "      <td>3</td>\n",
       "      <td>цифра</td>\n",
       "      <td>5</td>\n",
       "      <td>0</td>\n",
       "      <td>NOUN</td>\n",
       "    </tr>\n",
       "    <tr>\n",
       "      <th>2</th>\n",
       "      <td>2</td>\n",
       "      <td>слугами</td>\n",
       "      <td>3</td>\n",
       "      <td>слуга</td>\n",
       "      <td>5</td>\n",
       "      <td>0</td>\n",
       "      <td>NOUN</td>\n",
       "    </tr>\n",
       "    <tr>\n",
       "      <th>3</th>\n",
       "      <td>3</td>\n",
       "      <td>выбирает</td>\n",
       "      <td>4</td>\n",
       "      <td>выбирать</td>\n",
       "      <td>6</td>\n",
       "      <td>0</td>\n",
       "      <td>VERB</td>\n",
       "    </tr>\n",
       "    <tr>\n",
       "      <th>4</th>\n",
       "      <td>4</td>\n",
       "      <td>управдом</td>\n",
       "      <td>3</td>\n",
       "      <td>управдом</td>\n",
       "      <td>8</td>\n",
       "      <td>0</td>\n",
       "      <td>NOUN</td>\n",
       "    </tr>\n",
       "    <tr>\n",
       "      <th>...</th>\n",
       "      <td>...</td>\n",
       "      <td>...</td>\n",
       "      <td>...</td>\n",
       "      <td>...</td>\n",
       "      <td>...</td>\n",
       "      <td>...</td>\n",
       "      <td>...</td>\n",
       "    </tr>\n",
       "    <tr>\n",
       "      <th>29955</th>\n",
       "      <td>29955</td>\n",
       "      <td>донбасса</td>\n",
       "      <td>3</td>\n",
       "      <td>донбасс</td>\n",
       "      <td>7</td>\n",
       "      <td>0</td>\n",
       "      <td>NOUN</td>\n",
       "    </tr>\n",
       "    <tr>\n",
       "      <th>29956</th>\n",
       "      <td>29956</td>\n",
       "      <td>обложка</td>\n",
       "      <td>3</td>\n",
       "      <td>обложка</td>\n",
       "      <td>7</td>\n",
       "      <td>0</td>\n",
       "      <td>NOUN</td>\n",
       "    </tr>\n",
       "    <tr>\n",
       "      <th>29957</th>\n",
       "      <td>29957</td>\n",
       "      <td>правителя</td>\n",
       "      <td>4</td>\n",
       "      <td>правитель</td>\n",
       "      <td>8</td>\n",
       "      <td>0</td>\n",
       "      <td>ADJECTIVE</td>\n",
       "    </tr>\n",
       "    <tr>\n",
       "      <th>29958</th>\n",
       "      <td>29958</td>\n",
       "      <td>шерстяной</td>\n",
       "      <td>3</td>\n",
       "      <td>шерстяной</td>\n",
       "      <td>9</td>\n",
       "      <td>0</td>\n",
       "      <td>NOUN</td>\n",
       "    </tr>\n",
       "    <tr>\n",
       "      <th>29959</th>\n",
       "      <td>29959</td>\n",
       "      <td>оптимизации</td>\n",
       "      <td>6</td>\n",
       "      <td>оптимизация</td>\n",
       "      <td>10</td>\n",
       "      <td>0</td>\n",
       "      <td>ADJECTIVE</td>\n",
       "    </tr>\n",
       "  </tbody>\n",
       "</table>\n",
       "<p>93398 rows × 7 columns</p>\n",
       "</div>"
      ],
      "text/plain": [
       "          id         word  num_syllables        lemma  maxsubstring_len  \\\n",
       "0          0      румяной              3      румяный                 5   \n",
       "1          1      цифрами              3        цифра                 5   \n",
       "2          2      слугами              3        слуга                 5   \n",
       "3          3     выбирает              4     выбирать                 6   \n",
       "4          4     управдом              3     управдом                 8   \n",
       "...      ...          ...            ...          ...               ...   \n",
       "29955  29955     донбасса              3      донбасс                 7   \n",
       "29956  29956      обложка              3      обложка                 7   \n",
       "29957  29957    правителя              4    правитель                 8   \n",
       "29958  29958    шерстяной              3    шерстяной                 9   \n",
       "29959  29959  оптимизации              6  оптимизация                10   \n",
       "\n",
       "       is_cia Part_of_speach  \n",
       "0           0      ADJECTIVE  \n",
       "1           0           NOUN  \n",
       "2           0           NOUN  \n",
       "3           0           VERB  \n",
       "4           0           NOUN  \n",
       "...       ...            ...  \n",
       "29955       0           NOUN  \n",
       "29956       0           NOUN  \n",
       "29957       0      ADJECTIVE  \n",
       "29958       0           NOUN  \n",
       "29959       0      ADJECTIVE  \n",
       "\n",
       "[93398 rows x 7 columns]"
      ]
     },
     "execution_count": 24,
     "metadata": {},
     "output_type": "execute_result"
    }
   ],
   "source": [
    "features['Part_of_speach'] = pos\n",
    "features"
   ]
  },
  {
   "cell_type": "code",
   "execution_count": 25,
   "id": "563fd740",
   "metadata": {},
   "outputs": [
    {
     "data": {
      "text/html": [
       "<div>\n",
       "<style scoped>\n",
       "    .dataframe tbody tr th:only-of-type {\n",
       "        vertical-align: middle;\n",
       "    }\n",
       "\n",
       "    .dataframe tbody tr th {\n",
       "        vertical-align: top;\n",
       "    }\n",
       "\n",
       "    .dataframe thead th {\n",
       "        text-align: right;\n",
       "    }\n",
       "</style>\n",
       "<table border=\"1\" class=\"dataframe\">\n",
       "  <thead>\n",
       "    <tr style=\"text-align: right;\">\n",
       "      <th></th>\n",
       "      <th>id</th>\n",
       "      <th>word</th>\n",
       "      <th>num_syllables</th>\n",
       "      <th>lemma</th>\n",
       "      <th>maxsubstring_len</th>\n",
       "      <th>is_cia</th>\n",
       "      <th>Part_of_speach</th>\n",
       "    </tr>\n",
       "  </thead>\n",
       "  <tbody>\n",
       "    <tr>\n",
       "      <th>473</th>\n",
       "      <td>473</td>\n",
       "      <td>этакая</td>\n",
       "      <td>4</td>\n",
       "      <td>этакий</td>\n",
       "      <td>4</td>\n",
       "      <td>0</td>\n",
       "      <td>DETERMINANT</td>\n",
       "    </tr>\n",
       "    <tr>\n",
       "      <th>526</th>\n",
       "      <td>526</td>\n",
       "      <td>таковыми</td>\n",
       "      <td>4</td>\n",
       "      <td>таковой</td>\n",
       "      <td>5</td>\n",
       "      <td>0</td>\n",
       "      <td>DETERMINANT</td>\n",
       "    </tr>\n",
       "    <tr>\n",
       "      <th>1533</th>\n",
       "      <td>1533</td>\n",
       "      <td>многому</td>\n",
       "      <td>3</td>\n",
       "      <td>многое</td>\n",
       "      <td>5</td>\n",
       "      <td>0</td>\n",
       "      <td>DETERMINANT</td>\n",
       "    </tr>\n",
       "    <tr>\n",
       "      <th>1803</th>\n",
       "      <td>1803</td>\n",
       "      <td>ихние</td>\n",
       "      <td>3</td>\n",
       "      <td>ихний</td>\n",
       "      <td>4</td>\n",
       "      <td>0</td>\n",
       "      <td>DETERMINANT</td>\n",
       "    </tr>\n",
       "    <tr>\n",
       "      <th>2236</th>\n",
       "      <td>2236</td>\n",
       "      <td>марлю</td>\n",
       "      <td>2</td>\n",
       "      <td>марля</td>\n",
       "      <td>4</td>\n",
       "      <td>0</td>\n",
       "      <td>DETERMINANT</td>\n",
       "    </tr>\n",
       "    <tr>\n",
       "      <th>...</th>\n",
       "      <td>...</td>\n",
       "      <td>...</td>\n",
       "      <td>...</td>\n",
       "      <td>...</td>\n",
       "      <td>...</td>\n",
       "      <td>...</td>\n",
       "      <td>...</td>\n",
       "    </tr>\n",
       "    <tr>\n",
       "      <th>25739</th>\n",
       "      <td>25739</td>\n",
       "      <td>опорной</td>\n",
       "      <td>3</td>\n",
       "      <td>опорный</td>\n",
       "      <td>5</td>\n",
       "      <td>0</td>\n",
       "      <td>DETERMINANT</td>\n",
       "    </tr>\n",
       "    <tr>\n",
       "      <th>25977</th>\n",
       "      <td>25977</td>\n",
       "      <td>заднюю</td>\n",
       "      <td>3</td>\n",
       "      <td>задний</td>\n",
       "      <td>4</td>\n",
       "      <td>0</td>\n",
       "      <td>DETERMINANT</td>\n",
       "    </tr>\n",
       "    <tr>\n",
       "      <th>27469</th>\n",
       "      <td>27469</td>\n",
       "      <td>метафизика</td>\n",
       "      <td>5</td>\n",
       "      <td>метафизика</td>\n",
       "      <td>10</td>\n",
       "      <td>0</td>\n",
       "      <td>DETERMINANT</td>\n",
       "    </tr>\n",
       "    <tr>\n",
       "      <th>28054</th>\n",
       "      <td>28054</td>\n",
       "      <td>радужно</td>\n",
       "      <td>3</td>\n",
       "      <td>радужно</td>\n",
       "      <td>7</td>\n",
       "      <td>0</td>\n",
       "      <td>DETERMINANT</td>\n",
       "    </tr>\n",
       "    <tr>\n",
       "      <th>29657</th>\n",
       "      <td>29657</td>\n",
       "      <td>посещаемые</td>\n",
       "      <td>6</td>\n",
       "      <td>посещать</td>\n",
       "      <td>6</td>\n",
       "      <td>0</td>\n",
       "      <td>DETERMINANT</td>\n",
       "    </tr>\n",
       "  </tbody>\n",
       "</table>\n",
       "<p>156 rows × 7 columns</p>\n",
       "</div>"
      ],
      "text/plain": [
       "          id        word  num_syllables       lemma  maxsubstring_len  is_cia  \\\n",
       "473      473      этакая              4      этакий                 4       0   \n",
       "526      526    таковыми              4     таковой                 5       0   \n",
       "1533    1533     многому              3      многое                 5       0   \n",
       "1803    1803       ихние              3       ихний                 4       0   \n",
       "2236    2236       марлю              2       марля                 4       0   \n",
       "...      ...         ...            ...         ...               ...     ...   \n",
       "25739  25739     опорной              3     опорный                 5       0   \n",
       "25977  25977      заднюю              3      задний                 4       0   \n",
       "27469  27469  метафизика              5  метафизика                10       0   \n",
       "28054  28054     радужно              3     радужно                 7       0   \n",
       "29657  29657  посещаемые              6    посещать                 6       0   \n",
       "\n",
       "      Part_of_speach  \n",
       "473      DETERMINANT  \n",
       "526      DETERMINANT  \n",
       "1533     DETERMINANT  \n",
       "1803     DETERMINANT  \n",
       "2236     DETERMINANT  \n",
       "...              ...  \n",
       "25739    DETERMINANT  \n",
       "25977    DETERMINANT  \n",
       "27469    DETERMINANT  \n",
       "28054    DETERMINANT  \n",
       "29657    DETERMINANT  \n",
       "\n",
       "[156 rows x 7 columns]"
      ]
     },
     "execution_count": 25,
     "metadata": {},
     "output_type": "execute_result"
    }
   ],
   "source": [
    "features[features.Part_of_speach == 'DETERMINANT']"
   ]
  },
  {
   "cell_type": "code",
   "execution_count": 26,
   "id": "7790ff37",
   "metadata": {},
   "outputs": [
    {
     "name": "stdout",
     "output_type": "stream",
     "text": [
      "[None Inan Anim]\n"
     ]
    },
    {
     "data": {
      "text/plain": [
       "array([None, 'INANIMATE', 'ANIMATE'], dtype=object)"
      ]
     },
     "execution_count": 26,
     "metadata": {},
     "output_type": "execute_result"
    }
   ],
   "source": [
    "pos = pd.DataFrame([x.animacy for x in tags_morth], columns=['animacy'])\n",
    "print(pos.animacy.unique())\n",
    "pos.animacy = pos.animacy.apply(lambda x: str(x)[str(x).find('.')+1:] if x else  None)\n",
    "pos.animacy.unique()"
   ]
  },
  {
   "cell_type": "code",
   "execution_count": 27,
   "id": "b47c9e78",
   "metadata": {},
   "outputs": [
    {
     "name": "stdout",
     "output_type": "stream",
     "text": [
      "<class 'pandas.core.series.Series'>\n",
      "RangeIndex: 93398 entries, 0 to 93397\n",
      "Series name: animacy\n",
      "Non-Null Count  Dtype \n",
      "--------------  ----- \n",
      "44131 non-null  object\n",
      "dtypes: object(1)\n",
      "memory usage: 729.8+ KB\n",
      "None\n"
     ]
    },
    {
     "data": {
      "text/plain": [
       "<AxesSubplot:xlabel='animacy', ylabel='count'>"
      ]
     },
     "execution_count": 27,
     "metadata": {},
     "output_type": "execute_result"
    },
    {
     "data": {
      "image/png": "[encoded data removed]",
      "text/plain": [
       "<Figure size 432x288 with 1 Axes>"
      ]
     },
     "metadata": {
      "needs_background": "light"
     },
     "output_type": "display_data"
    }
   ],
   "source": [
    "print(pos.animacy.info())\n",
    "sns.countplot(x=pos.animacy)"
   ]
  },
  {
   "cell_type": "code",
   "execution_count": 28,
   "id": "2b11187e",
   "metadata": {},
   "outputs": [
    {
     "data": {
      "text/plain": [
       "<AxesSubplot:xlabel='animacy', ylabel='count'>"
      ]
     },
     "execution_count": 28,
     "metadata": {},
     "output_type": "execute_result"
    },
    {
     "data": {
      "image/png": "[encoded data removed]",
      "text/plain": [
       "<Figure size 432x288 with 1 Axes>"
      ]
     },
     "metadata": {
      "needs_background": "light"
     },
     "output_type": "display_data"
    }
   ],
   "source": [
    "pos.animacy.fillna(\"None\", inplace=True)\n",
    "sns.countplot(x=pos.animacy)"
   ]
  },
  {
   "cell_type": "code",
   "execution_count": null,
   "id": "4706a1f4",
   "metadata": {},
   "outputs": [],
   "source": []
  },
  {
   "cell_type": "code",
   "execution_count": 29,
   "id": "775ef113",
   "metadata": {},
   "outputs": [
    {
     "name": "stdout",
     "output_type": "stream",
     "text": [
      "[None Imp Perf]\n"
     ]
    },
    {
     "data": {
      "text/plain": [
       "array([None, 'IMPERFECT', 'PERFECT'], dtype=object)"
      ]
     },
     "execution_count": 29,
     "metadata": {},
     "output_type": "execute_result"
    }
   ],
   "source": [
    "pos['aspect'] = pd.DataFrame([x.aspect for x in tags_morth], columns=['aspect'])\n",
    "print(pos.aspect.unique())\n",
    "pos.aspect = pos.aspect.apply(lambda x: str(x)[str(x).find('.')+1:] if x else  None)\n",
    "pos.aspect.unique()"
   ]
  },
  {
   "cell_type": "code",
   "execution_count": 30,
   "id": "5775456e",
   "metadata": {},
   "outputs": [
    {
     "data": {
      "text/plain": [
       "<AxesSubplot:xlabel='aspect', ylabel='count'>"
      ]
     },
     "execution_count": 30,
     "metadata": {},
     "output_type": "execute_result"
    },
    {
     "data": {
      "image/png": "[encoded data removed]",
      "text/plain": [
       "<Figure size 432x288 with 1 Axes>"
      ]
     },
     "metadata": {
      "needs_background": "light"
     },
     "output_type": "display_data"
    }
   ],
   "source": [
    "pos.aspect.fillna(\"None\", inplace=True)\n",
    "sns.countplot(x=pos.aspect)"
   ]
  },
  {
   "cell_type": "code",
   "execution_count": 31,
   "id": "5f37c1ce",
   "metadata": {},
   "outputs": [],
   "source": [
    "attribute_maru = ['case','degree','gender','mood', 'number', 'numform', 'person', 'tense',\n",
    "                 'variant', 'verbform', 'voice']"
   ]
  },
  {
   "cell_type": "code",
   "execution_count": 32,
   "id": "0bb814a7",
   "metadata": {},
   "outputs": [
    {
     "name": "stdout",
     "output_type": "stream",
     "text": [
      "[Ins None Acc Gen Nom Dat Loc]\n"
     ]
    },
    {
     "data": {
      "image/png": "[encoded data removed]",
      "text/plain": [
       "<Figure size 432x288 with 1 Axes>"
      ]
     },
     "metadata": {
      "needs_background": "light"
     },
     "output_type": "display_data"
    },
    {
     "name": "stdout",
     "output_type": "stream",
     "text": [
      "[Pos None Cmp]\n"
     ]
    },
    {
     "data": {
      "image/png": "[encoded data removed]",
      "text/plain": [
       "<Figure size 432x288 with 1 Axes>"
      ]
     },
     "metadata": {
      "needs_background": "light"
     },
     "output_type": "display_data"
    },
    {
     "name": "stdout",
     "output_type": "stream",
     "text": [
      "[Fem Masc None Neut]\n"
     ]
    },
    {
     "data": {
      "image/png": "[encoded data removed]",
      "text/plain": [
       "<Figure size 432x288 with 1 Axes>"
      ]
     },
     "metadata": {
      "needs_background": "light"
     },
     "output_type": "display_data"
    },
    {
     "name": "stdout",
     "output_type": "stream",
     "text": [
      "[None Ind Imp]\n"
     ]
    },
    {
     "data": {
      "image/png": "[encoded data removed]",
      "text/plain": [
       "<Figure size 432x288 with 1 Axes>"
      ]
     },
     "metadata": {
      "needs_background": "light"
     },
     "output_type": "display_data"
    },
    {
     "name": "stdout",
     "output_type": "stream",
     "text": [
      "[Sing Plur None]\n"
     ]
    },
    {
     "data": {
      "image/png": "[encoded data removed]",
      "text/plain": [
       "<Figure size 432x288 with 1 Axes>"
      ]
     },
     "metadata": {
      "needs_background": "light"
     },
     "output_type": "display_data"
    },
    {
     "name": "stdout",
     "output_type": "stream",
     "text": [
      "[None]\n"
     ]
    },
    {
     "data": {
      "image/png": "[encoded data removed]",
      "text/plain": [
       "<Figure size 432x288 with 1 Axes>"
      ]
     },
     "metadata": {
      "needs_background": "light"
     },
     "output_type": "display_data"
    },
    {
     "name": "stdout",
     "output_type": "stream",
     "text": [
      "[None 3 2 1]\n"
     ]
    },
    {
     "data": {
      "image/png": "[encoded data removed]",
      "text/plain": [
       "<Figure size 432x288 with 1 Axes>"
      ]
     },
     "metadata": {
      "needs_background": "light"
     },
     "output_type": "display_data"
    },
    {
     "name": "stdout",
     "output_type": "stream",
     "text": [
      "[None Pres Past Fut]\n"
     ]
    },
    {
     "data": {
      "image/png": "[encoded data removed]",
      "text/plain": [
       "<Figure size 432x288 with 1 Axes>"
      ]
     },
     "metadata": {
      "needs_background": "light"
     },
     "output_type": "display_data"
    },
    {
     "name": "stdout",
     "output_type": "stream",
     "text": [
      "[Full None Short]\n"
     ]
    },
    {
     "data": {
      "image/png": "[encoded data removed]",
      "text/plain": [
       "<Figure size 432x288 with 1 Axes>"
      ]
     },
     "metadata": {
      "needs_background": "light"
     },
     "output_type": "display_data"
    },
    {
     "name": "stdout",
     "output_type": "stream",
     "text": [
      "[None Fin Inf Conv]\n"
     ]
    },
    {
     "data": {
      "image/png": "[encoded data removed]",
      "text/plain": [
       "<Figure size 432x288 with 1 Axes>"
      ]
     },
     "metadata": {
      "needs_background": "light"
     },
     "output_type": "display_data"
    },
    {
     "name": "stdout",
     "output_type": "stream",
     "text": [
      "[None Act Mid]\n"
     ]
    },
    {
     "data": {
      "image/png": "[encoded data removed]",
      "text/plain": [
       "<Figure size 432x288 with 1 Axes>"
      ]
     },
     "metadata": {
      "needs_background": "light"
     },
     "output_type": "display_data"
    }
   ],
   "source": [
    "for atr in attribute_maru:\n",
    "    pos[atr] = pd.DataFrame([getattr(x, atr) for x in tags_morth], columns=[atr])\n",
    "    print(pos[atr].unique())\n",
    "    pos[atr] = pos[atr].apply(lambda x: str(x)[str(x).find('.')+1:] if x else  None)\n",
    "    pos[atr].unique()\n",
    "    pos[atr].fillna(\"None\", inplace=True)\n",
    "    sns.countplot(x=pos[atr])\n",
    "    plt.show()"
   ]
  },
  {
   "cell_type": "code",
   "execution_count": 33,
   "id": "23e9159e",
   "metadata": {},
   "outputs": [],
   "source": [
    "#     pos: PartOfSpeech\n",
    "#     animacy: Optional[Animacy] = None\n",
    "#     aspect: Optional[Aspect] = None\n",
    "#     case: Optional[Case] = None\n",
    "#     degree: Optional[Degree] = None\n",
    "#     gender: Optional[Gender] = None\n",
    "#     mood: Optional[Mood] = None\n",
    "#     number: Optional[Number] = None\n",
    "#     numform: Optional[NumericalForm] = None\n",
    "#     person: Optional[Person] = None\n",
    "#     tense: Optional[Tense] = None\n",
    "#     variant: Optional[Variant] = None\n",
    "#     verbform: Optional[VerbForm] = None\n",
    "#     voice: Optional[Voice] = None"
   ]
  },
  {
   "cell_type": "code",
   "execution_count": 34,
   "id": "e64b4404",
   "metadata": {},
   "outputs": [
    {
     "data": {
      "text/plain": [
       "array(['None'], dtype=object)"
      ]
     },
     "execution_count": 34,
     "metadata": {},
     "output_type": "execute_result"
    }
   ],
   "source": [
    "pos.numform.unique()"
   ]
  },
  {
   "cell_type": "code",
   "execution_count": 35,
   "id": "ec957dae",
   "metadata": {},
   "outputs": [],
   "source": [
    "pos.drop(['numform'],axis=1, inplace=True)"
   ]
  },
  {
   "cell_type": "code",
   "execution_count": 36,
   "id": "80b77ef9",
   "metadata": {},
   "outputs": [
    {
     "data": {
      "text/html": [
       "<div>\n",
       "<style scoped>\n",
       "    .dataframe tbody tr th:only-of-type {\n",
       "        vertical-align: middle;\n",
       "    }\n",
       "\n",
       "    .dataframe tbody tr th {\n",
       "        vertical-align: top;\n",
       "    }\n",
       "\n",
       "    .dataframe thead th {\n",
       "        text-align: right;\n",
       "    }\n",
       "</style>\n",
       "<table border=\"1\" class=\"dataframe\">\n",
       "  <thead>\n",
       "    <tr style=\"text-align: right;\">\n",
       "      <th></th>\n",
       "      <th>animacy</th>\n",
       "      <th>aspect</th>\n",
       "      <th>case</th>\n",
       "      <th>degree</th>\n",
       "      <th>gender</th>\n",
       "      <th>mood</th>\n",
       "      <th>number</th>\n",
       "      <th>person</th>\n",
       "      <th>tense</th>\n",
       "      <th>variant</th>\n",
       "      <th>verbform</th>\n",
       "      <th>voice</th>\n",
       "    </tr>\n",
       "  </thead>\n",
       "  <tbody>\n",
       "    <tr>\n",
       "      <th>0</th>\n",
       "      <td>None</td>\n",
       "      <td>None</td>\n",
       "      <td>INSTRUCTIVE</td>\n",
       "      <td>POSITIVE</td>\n",
       "      <td>FEMININE</td>\n",
       "      <td>None</td>\n",
       "      <td>SINGULAR</td>\n",
       "      <td>None</td>\n",
       "      <td>None</td>\n",
       "      <td>FULL</td>\n",
       "      <td>None</td>\n",
       "      <td>None</td>\n",
       "    </tr>\n",
       "    <tr>\n",
       "      <th>1</th>\n",
       "      <td>INANIMATE</td>\n",
       "      <td>None</td>\n",
       "      <td>INSTRUCTIVE</td>\n",
       "      <td>None</td>\n",
       "      <td>FEMININE</td>\n",
       "      <td>None</td>\n",
       "      <td>PLURAL</td>\n",
       "      <td>None</td>\n",
       "      <td>None</td>\n",
       "      <td>None</td>\n",
       "      <td>None</td>\n",
       "      <td>None</td>\n",
       "    </tr>\n",
       "    <tr>\n",
       "      <th>2</th>\n",
       "      <td>ANIMATE</td>\n",
       "      <td>None</td>\n",
       "      <td>INSTRUCTIVE</td>\n",
       "      <td>None</td>\n",
       "      <td>MASCULINE</td>\n",
       "      <td>None</td>\n",
       "      <td>PLURAL</td>\n",
       "      <td>None</td>\n",
       "      <td>None</td>\n",
       "      <td>None</td>\n",
       "      <td>None</td>\n",
       "      <td>None</td>\n",
       "    </tr>\n",
       "    <tr>\n",
       "      <th>3</th>\n",
       "      <td>None</td>\n",
       "      <td>IMPERFECT</td>\n",
       "      <td>None</td>\n",
       "      <td>None</td>\n",
       "      <td>None</td>\n",
       "      <td>INDICATIVE</td>\n",
       "      <td>SINGULAR</td>\n",
       "      <td>THIRD</td>\n",
       "      <td>PRESENT</td>\n",
       "      <td>None</td>\n",
       "      <td>FINITE</td>\n",
       "      <td>ACTIVE</td>\n",
       "    </tr>\n",
       "    <tr>\n",
       "      <th>4</th>\n",
       "      <td>ANIMATE</td>\n",
       "      <td>None</td>\n",
       "      <td>INSTRUCTIVE</td>\n",
       "      <td>None</td>\n",
       "      <td>MASCULINE</td>\n",
       "      <td>None</td>\n",
       "      <td>SINGULAR</td>\n",
       "      <td>None</td>\n",
       "      <td>None</td>\n",
       "      <td>None</td>\n",
       "      <td>None</td>\n",
       "      <td>None</td>\n",
       "    </tr>\n",
       "    <tr>\n",
       "      <th>...</th>\n",
       "      <td>...</td>\n",
       "      <td>...</td>\n",
       "      <td>...</td>\n",
       "      <td>...</td>\n",
       "      <td>...</td>\n",
       "      <td>...</td>\n",
       "      <td>...</td>\n",
       "      <td>...</td>\n",
       "      <td>...</td>\n",
       "      <td>...</td>\n",
       "      <td>...</td>\n",
       "      <td>...</td>\n",
       "    </tr>\n",
       "    <tr>\n",
       "      <th>93393</th>\n",
       "      <td>INANIMATE</td>\n",
       "      <td>None</td>\n",
       "      <td>GENITIVE</td>\n",
       "      <td>None</td>\n",
       "      <td>MASCULINE</td>\n",
       "      <td>None</td>\n",
       "      <td>SINGULAR</td>\n",
       "      <td>None</td>\n",
       "      <td>None</td>\n",
       "      <td>None</td>\n",
       "      <td>None</td>\n",
       "      <td>None</td>\n",
       "    </tr>\n",
       "    <tr>\n",
       "      <th>93394</th>\n",
       "      <td>INANIMATE</td>\n",
       "      <td>None</td>\n",
       "      <td>NOMINATIVE</td>\n",
       "      <td>None</td>\n",
       "      <td>FEMININE</td>\n",
       "      <td>None</td>\n",
       "      <td>SINGULAR</td>\n",
       "      <td>None</td>\n",
       "      <td>None</td>\n",
       "      <td>None</td>\n",
       "      <td>None</td>\n",
       "      <td>None</td>\n",
       "    </tr>\n",
       "    <tr>\n",
       "      <th>93395</th>\n",
       "      <td>ANIMATE</td>\n",
       "      <td>None</td>\n",
       "      <td>GENITIVE</td>\n",
       "      <td>None</td>\n",
       "      <td>MASCULINE</td>\n",
       "      <td>None</td>\n",
       "      <td>SINGULAR</td>\n",
       "      <td>None</td>\n",
       "      <td>None</td>\n",
       "      <td>None</td>\n",
       "      <td>None</td>\n",
       "      <td>None</td>\n",
       "    </tr>\n",
       "    <tr>\n",
       "      <th>93396</th>\n",
       "      <td>None</td>\n",
       "      <td>None</td>\n",
       "      <td>GENITIVE</td>\n",
       "      <td>POSITIVE</td>\n",
       "      <td>FEMININE</td>\n",
       "      <td>None</td>\n",
       "      <td>SINGULAR</td>\n",
       "      <td>None</td>\n",
       "      <td>None</td>\n",
       "      <td>FULL</td>\n",
       "      <td>None</td>\n",
       "      <td>None</td>\n",
       "    </tr>\n",
       "    <tr>\n",
       "      <th>93397</th>\n",
       "      <td>INANIMATE</td>\n",
       "      <td>None</td>\n",
       "      <td>GENITIVE</td>\n",
       "      <td>None</td>\n",
       "      <td>FEMININE</td>\n",
       "      <td>None</td>\n",
       "      <td>SINGULAR</td>\n",
       "      <td>None</td>\n",
       "      <td>None</td>\n",
       "      <td>None</td>\n",
       "      <td>None</td>\n",
       "      <td>None</td>\n",
       "    </tr>\n",
       "  </tbody>\n",
       "</table>\n",
       "<p>93398 rows × 12 columns</p>\n",
       "</div>"
      ],
      "text/plain": [
       "         animacy     aspect         case    degree     gender        mood  \\\n",
       "0           None       None  INSTRUCTIVE  POSITIVE   FEMININE        None   \n",
       "1      INANIMATE       None  INSTRUCTIVE      None   FEMININE        None   \n",
       "2        ANIMATE       None  INSTRUCTIVE      None  MASCULINE        None   \n",
       "3           None  IMPERFECT         None      None       None  INDICATIVE   \n",
       "4        ANIMATE       None  INSTRUCTIVE      None  MASCULINE        None   \n",
       "...          ...        ...          ...       ...        ...         ...   \n",
       "93393  INANIMATE       None     GENITIVE      None  MASCULINE        None   \n",
       "93394  INANIMATE       None   NOMINATIVE      None   FEMININE        None   \n",
       "93395    ANIMATE       None     GENITIVE      None  MASCULINE        None   \n",
       "93396       None       None     GENITIVE  POSITIVE   FEMININE        None   \n",
       "93397  INANIMATE       None     GENITIVE      None   FEMININE        None   \n",
       "\n",
       "         number person    tense variant verbform   voice  \n",
       "0      SINGULAR   None     None    FULL     None    None  \n",
       "1        PLURAL   None     None    None     None    None  \n",
       "2        PLURAL   None     None    None     None    None  \n",
       "3      SINGULAR  THIRD  PRESENT    None   FINITE  ACTIVE  \n",
       "4      SINGULAR   None     None    None     None    None  \n",
       "...         ...    ...      ...     ...      ...     ...  \n",
       "93393  SINGULAR   None     None    None     None    None  \n",
       "93394  SINGULAR   None     None    None     None    None  \n",
       "93395  SINGULAR   None     None    None     None    None  \n",
       "93396  SINGULAR   None     None    FULL     None    None  \n",
       "93397  SINGULAR   None     None    None     None    None  \n",
       "\n",
       "[93398 rows x 12 columns]"
      ]
     },
     "execution_count": 36,
     "metadata": {},
     "output_type": "execute_result"
    }
   ],
   "source": [
    "pos"
   ]
  },
  {
   "cell_type": "code",
   "execution_count": 37,
   "id": "bc77c167",
   "metadata": {},
   "outputs": [],
   "source": [
    "for col in pos.columns:\n",
    "    features[col] = pos[col]"
   ]
  },
  {
   "cell_type": "code",
   "execution_count": 38,
   "id": "da634125",
   "metadata": {},
   "outputs": [
    {
     "data": {
      "text/html": [
       "<div>\n",
       "<style scoped>\n",
       "    .dataframe tbody tr th:only-of-type {\n",
       "        vertical-align: middle;\n",
       "    }\n",
       "\n",
       "    .dataframe tbody tr th {\n",
       "        vertical-align: top;\n",
       "    }\n",
       "\n",
       "    .dataframe thead th {\n",
       "        text-align: right;\n",
       "    }\n",
       "</style>\n",
       "<table border=\"1\" class=\"dataframe\">\n",
       "  <thead>\n",
       "    <tr style=\"text-align: right;\">\n",
       "      <th></th>\n",
       "      <th>id</th>\n",
       "      <th>word</th>\n",
       "      <th>num_syllables</th>\n",
       "      <th>lemma</th>\n",
       "      <th>maxsubstring_len</th>\n",
       "      <th>is_cia</th>\n",
       "      <th>Part_of_speach</th>\n",
       "      <th>animacy</th>\n",
       "      <th>aspect</th>\n",
       "      <th>case</th>\n",
       "      <th>degree</th>\n",
       "      <th>gender</th>\n",
       "      <th>mood</th>\n",
       "      <th>number</th>\n",
       "      <th>person</th>\n",
       "      <th>tense</th>\n",
       "      <th>variant</th>\n",
       "      <th>verbform</th>\n",
       "      <th>voice</th>\n",
       "    </tr>\n",
       "  </thead>\n",
       "  <tbody>\n",
       "    <tr>\n",
       "      <th>0</th>\n",
       "      <td>0</td>\n",
       "      <td>румяной</td>\n",
       "      <td>3</td>\n",
       "      <td>румяный</td>\n",
       "      <td>5</td>\n",
       "      <td>0</td>\n",
       "      <td>ADJECTIVE</td>\n",
       "      <td>None</td>\n",
       "      <td>None</td>\n",
       "      <td>INSTRUCTIVE</td>\n",
       "      <td>POSITIVE</td>\n",
       "      <td>FEMININE</td>\n",
       "      <td>None</td>\n",
       "      <td>SINGULAR</td>\n",
       "      <td>None</td>\n",
       "      <td>None</td>\n",
       "      <td>FULL</td>\n",
       "      <td>None</td>\n",
       "      <td>None</td>\n",
       "    </tr>\n",
       "    <tr>\n",
       "      <th>1</th>\n",
       "      <td>1</td>\n",
       "      <td>цифрами</td>\n",
       "      <td>3</td>\n",
       "      <td>цифра</td>\n",
       "      <td>5</td>\n",
       "      <td>0</td>\n",
       "      <td>NOUN</td>\n",
       "      <td>INANIMATE</td>\n",
       "      <td>None</td>\n",
       "      <td>INSTRUCTIVE</td>\n",
       "      <td>None</td>\n",
       "      <td>FEMININE</td>\n",
       "      <td>None</td>\n",
       "      <td>PLURAL</td>\n",
       "      <td>None</td>\n",
       "      <td>None</td>\n",
       "      <td>None</td>\n",
       "      <td>None</td>\n",
       "      <td>None</td>\n",
       "    </tr>\n",
       "    <tr>\n",
       "      <th>2</th>\n",
       "      <td>2</td>\n",
       "      <td>слугами</td>\n",
       "      <td>3</td>\n",
       "      <td>слуга</td>\n",
       "      <td>5</td>\n",
       "      <td>0</td>\n",
       "      <td>NOUN</td>\n",
       "      <td>ANIMATE</td>\n",
       "      <td>None</td>\n",
       "      <td>INSTRUCTIVE</td>\n",
       "      <td>None</td>\n",
       "      <td>MASCULINE</td>\n",
       "      <td>None</td>\n",
       "      <td>PLURAL</td>\n",
       "      <td>None</td>\n",
       "      <td>None</td>\n",
       "      <td>None</td>\n",
       "      <td>None</td>\n",
       "      <td>None</td>\n",
       "    </tr>\n",
       "    <tr>\n",
       "      <th>3</th>\n",
       "      <td>3</td>\n",
       "      <td>выбирает</td>\n",
       "      <td>4</td>\n",
       "      <td>выбирать</td>\n",
       "      <td>6</td>\n",
       "      <td>0</td>\n",
       "      <td>VERB</td>\n",
       "      <td>None</td>\n",
       "      <td>IMPERFECT</td>\n",
       "      <td>None</td>\n",
       "      <td>None</td>\n",
       "      <td>None</td>\n",
       "      <td>INDICATIVE</td>\n",
       "      <td>SINGULAR</td>\n",
       "      <td>THIRD</td>\n",
       "      <td>PRESENT</td>\n",
       "      <td>None</td>\n",
       "      <td>FINITE</td>\n",
       "      <td>ACTIVE</td>\n",
       "    </tr>\n",
       "    <tr>\n",
       "      <th>4</th>\n",
       "      <td>4</td>\n",
       "      <td>управдом</td>\n",
       "      <td>3</td>\n",
       "      <td>управдом</td>\n",
       "      <td>8</td>\n",
       "      <td>0</td>\n",
       "      <td>NOUN</td>\n",
       "      <td>ANIMATE</td>\n",
       "      <td>None</td>\n",
       "      <td>INSTRUCTIVE</td>\n",
       "      <td>None</td>\n",
       "      <td>MASCULINE</td>\n",
       "      <td>None</td>\n",
       "      <td>SINGULAR</td>\n",
       "      <td>None</td>\n",
       "      <td>None</td>\n",
       "      <td>None</td>\n",
       "      <td>None</td>\n",
       "      <td>None</td>\n",
       "    </tr>\n",
       "  </tbody>\n",
       "</table>\n",
       "</div>"
      ],
      "text/plain": [
       "   id      word  num_syllables     lemma  maxsubstring_len  is_cia  \\\n",
       "0   0   румяной              3   румяный                 5       0   \n",
       "1   1   цифрами              3     цифра                 5       0   \n",
       "2   2   слугами              3     слуга                 5       0   \n",
       "3   3  выбирает              4  выбирать                 6       0   \n",
       "4   4  управдом              3  управдом                 8       0   \n",
       "\n",
       "  Part_of_speach    animacy     aspect         case    degree     gender  \\\n",
       "0      ADJECTIVE       None       None  INSTRUCTIVE  POSITIVE   FEMININE   \n",
       "1           NOUN  INANIMATE       None  INSTRUCTIVE      None   FEMININE   \n",
       "2           NOUN    ANIMATE       None  INSTRUCTIVE      None  MASCULINE   \n",
       "3           VERB       None  IMPERFECT         None      None       None   \n",
       "4           NOUN    ANIMATE       None  INSTRUCTIVE      None  MASCULINE   \n",
       "\n",
       "         mood    number person    tense variant verbform   voice  \n",
       "0        None  SINGULAR   None     None    FULL     None    None  \n",
       "1        None    PLURAL   None     None    None     None    None  \n",
       "2        None    PLURAL   None     None    None     None    None  \n",
       "3  INDICATIVE  SINGULAR  THIRD  PRESENT    None   FINITE  ACTIVE  \n",
       "4        None  SINGULAR   None     None    None     None    None  "
      ]
     },
     "execution_count": 38,
     "metadata": {},
     "output_type": "execute_result"
    }
   ],
   "source": [
    "features.head()"
   ]
  },
  {
   "cell_type": "code",
   "execution_count": 39,
   "id": "0e1f7d44",
   "metadata": {},
   "outputs": [
    {
     "data": {
      "text/plain": [
       "(93398, 19)"
      ]
     },
     "execution_count": 39,
     "metadata": {},
     "output_type": "execute_result"
    }
   ],
   "source": [
    "features.shape"
   ]
  },
  {
   "cell_type": "code",
   "execution_count": 40,
   "id": "74c8c68c",
   "metadata": {},
   "outputs": [],
   "source": [
    "attribute_maru.pop(attribute_maru.index('numform'))\n",
    "features = pd.get_dummies(data=features, columns=attribute_maru)\n"
   ]
  },
  {
   "cell_type": "code",
   "execution_count": 41,
   "id": "6a5664c0",
   "metadata": {},
   "outputs": [
    {
     "data": {
      "text/plain": [
       "(93398, 47)"
      ]
     },
     "execution_count": 41,
     "metadata": {},
     "output_type": "execute_result"
    }
   ],
   "source": [
    "features.shape"
   ]
  },
  {
   "cell_type": "code",
   "execution_count": 42,
   "id": "a1ee8a25",
   "metadata": {},
   "outputs": [],
   "source": [
    "features = pd.get_dummies(data=features, columns=['Part_of_speach', 'animacy', 'aspect'])"
   ]
  },
  {
   "cell_type": "code",
   "execution_count": 43,
   "id": "3e7ca2b7",
   "metadata": {},
   "outputs": [
    {
     "name": "stdout",
     "output_type": "stream",
     "text": [
      "<class 'pandas.core.frame.DataFrame'>\n",
      "Int64Index: 93398 entries, 0 to 29959\n",
      "Data columns (total 63 columns):\n",
      " #   Column                       Non-Null Count  Dtype \n",
      "---  ------                       --------------  ----- \n",
      " 0   id                           93398 non-null  int64 \n",
      " 1   word                         93398 non-null  object\n",
      " 2   num_syllables                93398 non-null  int64 \n",
      " 3   lemma                        93398 non-null  object\n",
      " 4   maxsubstring_len             93398 non-null  int64 \n",
      " 5   is_cia                       93398 non-null  int64 \n",
      " 6   case_ACCUSATIVE              93398 non-null  uint8 \n",
      " 7   case_DATIVE                  93398 non-null  uint8 \n",
      " 8   case_GENITIVE                93398 non-null  uint8 \n",
      " 9   case_INSTRUCTIVE             93398 non-null  uint8 \n",
      " 10  case_LOCATIVE                93398 non-null  uint8 \n",
      " 11  case_NOMINATIVE              93398 non-null  uint8 \n",
      " 12  case_None                    93398 non-null  uint8 \n",
      " 13  degree_COMPARATIVE           93398 non-null  uint8 \n",
      " 14  degree_None                  93398 non-null  uint8 \n",
      " 15  degree_POSITIVE              93398 non-null  uint8 \n",
      " 16  gender_FEMININE              93398 non-null  uint8 \n",
      " 17  gender_MASCULINE             93398 non-null  uint8 \n",
      " 18  gender_NEUTER                93398 non-null  uint8 \n",
      " 19  gender_None                  93398 non-null  uint8 \n",
      " 20  mood_IMPERATIVE              93398 non-null  uint8 \n",
      " 21  mood_INDICATIVE              93398 non-null  uint8 \n",
      " 22  mood_None                    93398 non-null  uint8 \n",
      " 23  number_None                  93398 non-null  uint8 \n",
      " 24  number_PLURAL                93398 non-null  uint8 \n",
      " 25  number_SINGULAR              93398 non-null  uint8 \n",
      " 26  person_FIRST                 93398 non-null  uint8 \n",
      " 27  person_None                  93398 non-null  uint8 \n",
      " 28  person_SECOND                93398 non-null  uint8 \n",
      " 29  person_THIRD                 93398 non-null  uint8 \n",
      " 30  tense_FUTURE                 93398 non-null  uint8 \n",
      " 31  tense_None                   93398 non-null  uint8 \n",
      " 32  tense_PAST                   93398 non-null  uint8 \n",
      " 33  tense_PRESENT                93398 non-null  uint8 \n",
      " 34  variant_FULL                 93398 non-null  uint8 \n",
      " 35  variant_None                 93398 non-null  uint8 \n",
      " 36  variant_SHORT                93398 non-null  uint8 \n",
      " 37  verbform_CONVERB             93398 non-null  uint8 \n",
      " 38  verbform_FINITE              93398 non-null  uint8 \n",
      " 39  verbform_INFINITIVE          93398 non-null  uint8 \n",
      " 40  verbform_None                93398 non-null  uint8 \n",
      " 41  voice_ACTIVE                 93398 non-null  uint8 \n",
      " 42  voice_MIDDLE                 93398 non-null  uint8 \n",
      " 43  voice_None                   93398 non-null  uint8 \n",
      " 44  Part_of_speach_ADJECTIVE     93398 non-null  uint8 \n",
      " 45  Part_of_speach_ADPOSITION    93398 non-null  uint8 \n",
      " 46  Part_of_speach_ADVERB        93398 non-null  uint8 \n",
      " 47  Part_of_speach_CONJUNCTION   93398 non-null  uint8 \n",
      " 48  Part_of_speach_DETERMINANT   93398 non-null  uint8 \n",
      " 49  Part_of_speach_INTERJECTION  93398 non-null  uint8 \n",
      " 50  Part_of_speach_INTRODUCTION  93398 non-null  uint8 \n",
      " 51  Part_of_speach_NOUN          93398 non-null  uint8 \n",
      " 52  Part_of_speach_NUMERICAL     93398 non-null  uint8 \n",
      " 53  Part_of_speach_PARTICLE      93398 non-null  uint8 \n",
      " 54  Part_of_speach_PRONOUN       93398 non-null  uint8 \n",
      " 55  Part_of_speach_UNKNOWN       93398 non-null  uint8 \n",
      " 56  Part_of_speach_VERB          93398 non-null  uint8 \n",
      " 57  animacy_ANIMATE              93398 non-null  uint8 \n",
      " 58  animacy_INANIMATE            93398 non-null  uint8 \n",
      " 59  animacy_None                 93398 non-null  uint8 \n",
      " 60  aspect_IMPERFECT             93398 non-null  uint8 \n",
      " 61  aspect_None                  93398 non-null  uint8 \n",
      " 62  aspect_PERFECT               93398 non-null  uint8 \n",
      "dtypes: int64(4), object(2), uint8(57)\n",
      "memory usage: 10.1+ MB\n"
     ]
    }
   ],
   "source": [
    "features.info()"
   ]
  },
  {
   "cell_type": "code",
   "execution_count": 44,
   "id": "4bf53c8a",
   "metadata": {},
   "outputs": [
    {
     "data": {
      "text/plain": [
       "Index(['id', 'word', 'num_syllables', 'lemma', 'maxsubstring_len', 'is_cia',\n",
       "       'case_ACCUSATIVE', 'case_DATIVE', 'case_GENITIVE', 'case_INSTRUCTIVE',\n",
       "       'case_LOCATIVE', 'case_NOMINATIVE', 'case_None', 'degree_COMPARATIVE',\n",
       "       'degree_None', 'degree_POSITIVE', 'gender_FEMININE', 'gender_MASCULINE',\n",
       "       'gender_NEUTER', 'gender_None', 'mood_IMPERATIVE', 'mood_INDICATIVE',\n",
       "       'mood_None', 'number_None', 'number_PLURAL', 'number_SINGULAR',\n",
       "       'person_FIRST', 'person_None', 'person_SECOND', 'person_THIRD',\n",
       "       'tense_FUTURE', 'tense_None', 'tense_PAST', 'tense_PRESENT',\n",
       "       'variant_FULL', 'variant_None', 'variant_SHORT', 'verbform_CONVERB',\n",
       "       'verbform_FINITE', 'verbform_INFINITIVE', 'verbform_None',\n",
       "       'voice_ACTIVE', 'voice_MIDDLE', 'voice_None',\n",
       "       'Part_of_speach_ADJECTIVE', 'Part_of_speach_ADPOSITION',\n",
       "       'Part_of_speach_ADVERB', 'Part_of_speach_CONJUNCTION',\n",
       "       'Part_of_speach_DETERMINANT', 'Part_of_speach_INTERJECTION',\n",
       "       'Part_of_speach_INTRODUCTION', 'Part_of_speach_NOUN',\n",
       "       'Part_of_speach_NUMERICAL', 'Part_of_speach_PARTICLE',\n",
       "       'Part_of_speach_PRONOUN', 'Part_of_speach_UNKNOWN',\n",
       "       'Part_of_speach_VERB', 'animacy_ANIMATE', 'animacy_INANIMATE',\n",
       "       'animacy_None', 'aspect_IMPERFECT', 'aspect_None', 'aspect_PERFECT'],\n",
       "      dtype='object')"
      ]
     },
     "execution_count": 44,
     "metadata": {},
     "output_type": "execute_result"
    }
   ],
   "source": [
    "features.columns"
   ]
  },
  {
   "cell_type": "code",
   "execution_count": 45,
   "id": "4cacfe4b",
   "metadata": {},
   "outputs": [
    {
     "data": {
      "text/html": [
       "<div>\n",
       "<style scoped>\n",
       "    .dataframe tbody tr th:only-of-type {\n",
       "        vertical-align: middle;\n",
       "    }\n",
       "\n",
       "    .dataframe tbody tr th {\n",
       "        vertical-align: top;\n",
       "    }\n",
       "\n",
       "    .dataframe thead th {\n",
       "        text-align: right;\n",
       "    }\n",
       "</style>\n",
       "<table border=\"1\" class=\"dataframe\">\n",
       "  <thead>\n",
       "    <tr style=\"text-align: right;\">\n",
       "      <th></th>\n",
       "      <th>id</th>\n",
       "      <th>word</th>\n",
       "      <th>num_syllables</th>\n",
       "      <th>lemma</th>\n",
       "      <th>maxsubstring_len</th>\n",
       "      <th>is_cia</th>\n",
       "      <th>case_ACCUSATIVE</th>\n",
       "      <th>case_DATIVE</th>\n",
       "      <th>case_GENITIVE</th>\n",
       "      <th>case_INSTRUCTIVE</th>\n",
       "      <th>...</th>\n",
       "      <th>Part_of_speach_PARTICLE</th>\n",
       "      <th>Part_of_speach_PRONOUN</th>\n",
       "      <th>Part_of_speach_UNKNOWN</th>\n",
       "      <th>Part_of_speach_VERB</th>\n",
       "      <th>animacy_ANIMATE</th>\n",
       "      <th>animacy_INANIMATE</th>\n",
       "      <th>animacy_None</th>\n",
       "      <th>aspect_IMPERFECT</th>\n",
       "      <th>aspect_None</th>\n",
       "      <th>aspect_PERFECT</th>\n",
       "    </tr>\n",
       "  </thead>\n",
       "  <tbody>\n",
       "    <tr>\n",
       "      <th>291</th>\n",
       "      <td>291</td>\n",
       "      <td>вольтметр</td>\n",
       "      <td>2</td>\n",
       "      <td>вольтметр</td>\n",
       "      <td>9</td>\n",
       "      <td>0</td>\n",
       "      <td>0</td>\n",
       "      <td>0</td>\n",
       "      <td>0</td>\n",
       "      <td>0</td>\n",
       "      <td>...</td>\n",
       "      <td>0</td>\n",
       "      <td>0</td>\n",
       "      <td>0</td>\n",
       "      <td>0</td>\n",
       "      <td>0</td>\n",
       "      <td>1</td>\n",
       "      <td>0</td>\n",
       "      <td>0</td>\n",
       "      <td>1</td>\n",
       "      <td>0</td>\n",
       "    </tr>\n",
       "    <tr>\n",
       "      <th>656</th>\n",
       "      <td>656</td>\n",
       "      <td>метрополитена</td>\n",
       "      <td>6</td>\n",
       "      <td>метрополитен</td>\n",
       "      <td>12</td>\n",
       "      <td>0</td>\n",
       "      <td>0</td>\n",
       "      <td>0</td>\n",
       "      <td>1</td>\n",
       "      <td>0</td>\n",
       "      <td>...</td>\n",
       "      <td>0</td>\n",
       "      <td>0</td>\n",
       "      <td>0</td>\n",
       "      <td>0</td>\n",
       "      <td>0</td>\n",
       "      <td>1</td>\n",
       "      <td>0</td>\n",
       "      <td>0</td>\n",
       "      <td>1</td>\n",
       "      <td>0</td>\n",
       "    </tr>\n",
       "    <tr>\n",
       "      <th>938</th>\n",
       "      <td>938</td>\n",
       "      <td>геометрической</td>\n",
       "      <td>6</td>\n",
       "      <td>геометрический</td>\n",
       "      <td>12</td>\n",
       "      <td>0</td>\n",
       "      <td>0</td>\n",
       "      <td>0</td>\n",
       "      <td>1</td>\n",
       "      <td>0</td>\n",
       "      <td>...</td>\n",
       "      <td>0</td>\n",
       "      <td>0</td>\n",
       "      <td>0</td>\n",
       "      <td>0</td>\n",
       "      <td>0</td>\n",
       "      <td>0</td>\n",
       "      <td>1</td>\n",
       "      <td>0</td>\n",
       "      <td>1</td>\n",
       "      <td>0</td>\n",
       "    </tr>\n",
       "    <tr>\n",
       "      <th>1028</th>\n",
       "      <td>1028</td>\n",
       "      <td>анемометры</td>\n",
       "      <td>5</td>\n",
       "      <td>анемометр</td>\n",
       "      <td>9</td>\n",
       "      <td>0</td>\n",
       "      <td>1</td>\n",
       "      <td>0</td>\n",
       "      <td>0</td>\n",
       "      <td>0</td>\n",
       "      <td>...</td>\n",
       "      <td>0</td>\n",
       "      <td>0</td>\n",
       "      <td>0</td>\n",
       "      <td>0</td>\n",
       "      <td>0</td>\n",
       "      <td>1</td>\n",
       "      <td>0</td>\n",
       "      <td>0</td>\n",
       "      <td>1</td>\n",
       "      <td>0</td>\n",
       "    </tr>\n",
       "    <tr>\n",
       "      <th>2243</th>\n",
       "      <td>2243</td>\n",
       "      <td>деметра</td>\n",
       "      <td>3</td>\n",
       "      <td>деметра</td>\n",
       "      <td>7</td>\n",
       "      <td>0</td>\n",
       "      <td>0</td>\n",
       "      <td>0</td>\n",
       "      <td>1</td>\n",
       "      <td>0</td>\n",
       "      <td>...</td>\n",
       "      <td>0</td>\n",
       "      <td>0</td>\n",
       "      <td>0</td>\n",
       "      <td>0</td>\n",
       "      <td>1</td>\n",
       "      <td>0</td>\n",
       "      <td>0</td>\n",
       "      <td>0</td>\n",
       "      <td>1</td>\n",
       "      <td>0</td>\n",
       "    </tr>\n",
       "    <tr>\n",
       "      <th>...</th>\n",
       "      <td>...</td>\n",
       "      <td>...</td>\n",
       "      <td>...</td>\n",
       "      <td>...</td>\n",
       "      <td>...</td>\n",
       "      <td>...</td>\n",
       "      <td>...</td>\n",
       "      <td>...</td>\n",
       "      <td>...</td>\n",
       "      <td>...</td>\n",
       "      <td>...</td>\n",
       "      <td>...</td>\n",
       "      <td>...</td>\n",
       "      <td>...</td>\n",
       "      <td>...</td>\n",
       "      <td>...</td>\n",
       "      <td>...</td>\n",
       "      <td>...</td>\n",
       "      <td>...</td>\n",
       "      <td>...</td>\n",
       "      <td>...</td>\n",
       "    </tr>\n",
       "    <tr>\n",
       "      <th>24036</th>\n",
       "      <td>24036</td>\n",
       "      <td>диаметры</td>\n",
       "      <td>4</td>\n",
       "      <td>диаметр</td>\n",
       "      <td>7</td>\n",
       "      <td>0</td>\n",
       "      <td>0</td>\n",
       "      <td>0</td>\n",
       "      <td>0</td>\n",
       "      <td>0</td>\n",
       "      <td>...</td>\n",
       "      <td>0</td>\n",
       "      <td>0</td>\n",
       "      <td>0</td>\n",
       "      <td>0</td>\n",
       "      <td>0</td>\n",
       "      <td>0</td>\n",
       "      <td>1</td>\n",
       "      <td>0</td>\n",
       "      <td>1</td>\n",
       "      <td>0</td>\n",
       "    </tr>\n",
       "    <tr>\n",
       "      <th>24539</th>\n",
       "      <td>24539</td>\n",
       "      <td>термометра</td>\n",
       "      <td>4</td>\n",
       "      <td>термометр</td>\n",
       "      <td>9</td>\n",
       "      <td>0</td>\n",
       "      <td>0</td>\n",
       "      <td>0</td>\n",
       "      <td>0</td>\n",
       "      <td>0</td>\n",
       "      <td>...</td>\n",
       "      <td>0</td>\n",
       "      <td>0</td>\n",
       "      <td>0</td>\n",
       "      <td>0</td>\n",
       "      <td>0</td>\n",
       "      <td>0</td>\n",
       "      <td>1</td>\n",
       "      <td>0</td>\n",
       "      <td>1</td>\n",
       "      <td>0</td>\n",
       "    </tr>\n",
       "    <tr>\n",
       "      <th>25315</th>\n",
       "      <td>25315</td>\n",
       "      <td>метрический</td>\n",
       "      <td>4</td>\n",
       "      <td>метрический</td>\n",
       "      <td>11</td>\n",
       "      <td>0</td>\n",
       "      <td>0</td>\n",
       "      <td>0</td>\n",
       "      <td>0</td>\n",
       "      <td>1</td>\n",
       "      <td>...</td>\n",
       "      <td>0</td>\n",
       "      <td>0</td>\n",
       "      <td>0</td>\n",
       "      <td>0</td>\n",
       "      <td>0</td>\n",
       "      <td>1</td>\n",
       "      <td>0</td>\n",
       "      <td>0</td>\n",
       "      <td>1</td>\n",
       "      <td>0</td>\n",
       "    </tr>\n",
       "    <tr>\n",
       "      <th>25481</th>\n",
       "      <td>25481</td>\n",
       "      <td>диаметра</td>\n",
       "      <td>4</td>\n",
       "      <td>диаметр</td>\n",
       "      <td>7</td>\n",
       "      <td>0</td>\n",
       "      <td>1</td>\n",
       "      <td>0</td>\n",
       "      <td>0</td>\n",
       "      <td>0</td>\n",
       "      <td>...</td>\n",
       "      <td>0</td>\n",
       "      <td>0</td>\n",
       "      <td>0</td>\n",
       "      <td>0</td>\n",
       "      <td>0</td>\n",
       "      <td>0</td>\n",
       "      <td>1</td>\n",
       "      <td>0</td>\n",
       "      <td>1</td>\n",
       "      <td>0</td>\n",
       "    </tr>\n",
       "    <tr>\n",
       "      <th>27288</th>\n",
       "      <td>27288</td>\n",
       "      <td>параметра</td>\n",
       "      <td>4</td>\n",
       "      <td>параметр</td>\n",
       "      <td>8</td>\n",
       "      <td>0</td>\n",
       "      <td>0</td>\n",
       "      <td>0</td>\n",
       "      <td>0</td>\n",
       "      <td>0</td>\n",
       "      <td>...</td>\n",
       "      <td>0</td>\n",
       "      <td>0</td>\n",
       "      <td>0</td>\n",
       "      <td>0</td>\n",
       "      <td>0</td>\n",
       "      <td>1</td>\n",
       "      <td>0</td>\n",
       "      <td>0</td>\n",
       "      <td>1</td>\n",
       "      <td>0</td>\n",
       "    </tr>\n",
       "  </tbody>\n",
       "</table>\n",
       "<p>101 rows × 63 columns</p>\n",
       "</div>"
      ],
      "text/plain": [
       "          id            word  num_syllables           lemma  maxsubstring_len  \\\n",
       "291      291       вольтметр              2       вольтметр                 9   \n",
       "656      656   метрополитена              6    метрополитен                12   \n",
       "938      938  геометрической              6  геометрический                12   \n",
       "1028    1028      анемометры              5       анемометр                 9   \n",
       "2243    2243         деметра              3         деметра                 7   \n",
       "...      ...             ...            ...             ...               ...   \n",
       "24036  24036        диаметры              4         диаметр                 7   \n",
       "24539  24539      термометра              4       термометр                 9   \n",
       "25315  25315     метрический              4     метрический                11   \n",
       "25481  25481        диаметра              4         диаметр                 7   \n",
       "27288  27288       параметра              4        параметр                 8   \n",
       "\n",
       "       is_cia  case_ACCUSATIVE  case_DATIVE  case_GENITIVE  case_INSTRUCTIVE  \\\n",
       "291         0                0            0              0                 0   \n",
       "656         0                0            0              1                 0   \n",
       "938         0                0            0              1                 0   \n",
       "1028        0                1            0              0                 0   \n",
       "2243        0                0            0              1                 0   \n",
       "...       ...              ...          ...            ...               ...   \n",
       "24036       0                0            0              0                 0   \n",
       "24539       0                0            0              0                 0   \n",
       "25315       0                0            0              0                 1   \n",
       "25481       0                1            0              0                 0   \n",
       "27288       0                0            0              0                 0   \n",
       "\n",
       "       ...  Part_of_speach_PARTICLE  Part_of_speach_PRONOUN  \\\n",
       "291    ...                        0                       0   \n",
       "656    ...                        0                       0   \n",
       "938    ...                        0                       0   \n",
       "1028   ...                        0                       0   \n",
       "2243   ...                        0                       0   \n",
       "...    ...                      ...                     ...   \n",
       "24036  ...                        0                       0   \n",
       "24539  ...                        0                       0   \n",
       "25315  ...                        0                       0   \n",
       "25481  ...                        0                       0   \n",
       "27288  ...                        0                       0   \n",
       "\n",
       "       Part_of_speach_UNKNOWN  Part_of_speach_VERB  animacy_ANIMATE  \\\n",
       "291                         0                    0                0   \n",
       "656                         0                    0                0   \n",
       "938                         0                    0                0   \n",
       "1028                        0                    0                0   \n",
       "2243                        0                    0                1   \n",
       "...                       ...                  ...              ...   \n",
       "24036                       0                    0                0   \n",
       "24539                       0                    0                0   \n",
       "25315                       0                    0                0   \n",
       "25481                       0                    0                0   \n",
       "27288                       0                    0                0   \n",
       "\n",
       "       animacy_INANIMATE  animacy_None  aspect_IMPERFECT  aspect_None  \\\n",
       "291                    1             0                 0            1   \n",
       "656                    1             0                 0            1   \n",
       "938                    0             1                 0            1   \n",
       "1028                   1             0                 0            1   \n",
       "2243                   0             0                 0            1   \n",
       "...                  ...           ...               ...          ...   \n",
       "24036                  0             1                 0            1   \n",
       "24539                  0             1                 0            1   \n",
       "25315                  1             0                 0            1   \n",
       "25481                  0             1                 0            1   \n",
       "27288                  1             0                 0            1   \n",
       "\n",
       "       aspect_PERFECT  \n",
       "291                 0  \n",
       "656                 0  \n",
       "938                 0  \n",
       "1028                0  \n",
       "2243                0  \n",
       "...               ...  \n",
       "24036               0  \n",
       "24539               0  \n",
       "25315               0  \n",
       "25481               0  \n",
       "27288               0  \n",
       "\n",
       "[101 rows x 63 columns]"
      ]
     },
     "execution_count": 45,
     "metadata": {},
     "output_type": "execute_result"
    }
   ],
   "source": [
    "features[features.word.str.find('метр')+1!=0]"
   ]
  },
  {
   "cell_type": "code",
   "execution_count": 46,
   "id": "df37487f",
   "metadata": {},
   "outputs": [],
   "source": [
    "features['is_ist'] = features.word.str.contains('ист')*1\n",
    "features['н'] = features.word.str.contains('н')*1\n",
    "features['ск'] = features.word.str.contains('ск')*1\n",
    "features['овк'] = features.word.str.contains('овк')*1\n",
    "features['чат'] = features.word.str.contains('чат')*1\n",
    "features['ив'] = features.word.str.contains('ив')*1\n",
    "features['ев'] = features.word.str.contains('ев')*1\n",
    "features['ева'] = features.word.str.contains('ева')*1\n",
    "features['ованн'] = features.word.str.contains('ован')*1\n",
    "features['щик'] = features.word.str.contains('щик')*1\n",
    "features['ыва'] = features.word.str.contains('ыва')*1\n",
    "features['способный'] = features.word.str.contains('способный')*1\n",
    "features['видный'] = features.word.str.contains('видный')*1\n",
    "features['швили'] = features.word.str.contains('швили')*1\n",
    "features['адзе'] = features.word.str.contains('адзе')*1\n",
    "features['метр'] = features.word.str.find('метр')+1\n",
    "features['порт'] = features.word.str.find('порт')+1\n",
    "features['бал'] = features.word.str.contains('бал')*1\n",
    "features['вед'] = features.word.str.contains('вед')*1\n"
   ]
  },
  {
   "cell_type": "code",
   "execution_count": 47,
   "id": "a39d43a7",
   "metadata": {},
   "outputs": [],
   "source": [
    "# features['no_ideas'] = features.apply(lambda x: x.num_syllables if x.word.str)\n",
    "data = []\n",
    "for word, num in zip(features.word, features.num_syllables):\n",
    "    if word[-2] not in glass and word[-1] not in glass:\n",
    "        data.append(num)\n",
    "    else:\n",
    "        if num!=1:\n",
    "            data.append(num-1)\n",
    "        else:\n",
    "            data.append(num)"
   ]
  },
  {
   "cell_type": "code",
   "execution_count": 48,
   "id": "d86013dc",
   "metadata": {},
   "outputs": [
    {
     "data": {
      "text/plain": [
       "(93398, (93398, 82))"
      ]
     },
     "execution_count": 48,
     "metadata": {},
     "output_type": "execute_result"
    }
   ],
   "source": [
    "len(data), features.shape"
   ]
  },
  {
   "cell_type": "code",
   "execution_count": 49,
   "id": "fa1051a2",
   "metadata": {},
   "outputs": [],
   "source": [
    "features['no_idea'] = pd.DataFrame(data)"
   ]
  },
  {
   "cell_type": "code",
   "execution_count": 50,
   "id": "61c15eb9",
   "metadata": {},
   "outputs": [
    {
     "name": "stdout",
     "output_type": "stream",
     "text": [
      "[2, 2, 2, 4, 2]\n"
     ]
    },
    {
     "data": {
      "text/html": [
       "<div>\n",
       "<style scoped>\n",
       "    .dataframe tbody tr th:only-of-type {\n",
       "        vertical-align: middle;\n",
       "    }\n",
       "\n",
       "    .dataframe tbody tr th {\n",
       "        vertical-align: top;\n",
       "    }\n",
       "\n",
       "    .dataframe thead th {\n",
       "        text-align: right;\n",
       "    }\n",
       "</style>\n",
       "<table border=\"1\" class=\"dataframe\">\n",
       "  <thead>\n",
       "    <tr style=\"text-align: right;\">\n",
       "      <th></th>\n",
       "      <th>id</th>\n",
       "      <th>word</th>\n",
       "      <th>num_syllables</th>\n",
       "      <th>lemma</th>\n",
       "      <th>maxsubstring_len</th>\n",
       "      <th>is_cia</th>\n",
       "      <th>case_ACCUSATIVE</th>\n",
       "      <th>case_DATIVE</th>\n",
       "      <th>case_GENITIVE</th>\n",
       "      <th>case_INSTRUCTIVE</th>\n",
       "      <th>...</th>\n",
       "      <th>ыва</th>\n",
       "      <th>способный</th>\n",
       "      <th>видный</th>\n",
       "      <th>швили</th>\n",
       "      <th>адзе</th>\n",
       "      <th>метр</th>\n",
       "      <th>порт</th>\n",
       "      <th>бал</th>\n",
       "      <th>вед</th>\n",
       "      <th>no_idea</th>\n",
       "    </tr>\n",
       "  </thead>\n",
       "  <tbody>\n",
       "    <tr>\n",
       "      <th>0</th>\n",
       "      <td>0</td>\n",
       "      <td>румяной</td>\n",
       "      <td>3</td>\n",
       "      <td>румяный</td>\n",
       "      <td>5</td>\n",
       "      <td>0</td>\n",
       "      <td>0</td>\n",
       "      <td>0</td>\n",
       "      <td>0</td>\n",
       "      <td>1</td>\n",
       "      <td>...</td>\n",
       "      <td>0</td>\n",
       "      <td>0</td>\n",
       "      <td>0</td>\n",
       "      <td>0</td>\n",
       "      <td>0</td>\n",
       "      <td>0</td>\n",
       "      <td>0</td>\n",
       "      <td>0</td>\n",
       "      <td>0</td>\n",
       "      <td>2</td>\n",
       "    </tr>\n",
       "    <tr>\n",
       "      <th>1</th>\n",
       "      <td>1</td>\n",
       "      <td>цифрами</td>\n",
       "      <td>3</td>\n",
       "      <td>цифра</td>\n",
       "      <td>5</td>\n",
       "      <td>0</td>\n",
       "      <td>0</td>\n",
       "      <td>0</td>\n",
       "      <td>0</td>\n",
       "      <td>1</td>\n",
       "      <td>...</td>\n",
       "      <td>0</td>\n",
       "      <td>0</td>\n",
       "      <td>0</td>\n",
       "      <td>0</td>\n",
       "      <td>0</td>\n",
       "      <td>0</td>\n",
       "      <td>0</td>\n",
       "      <td>0</td>\n",
       "      <td>0</td>\n",
       "      <td>2</td>\n",
       "    </tr>\n",
       "    <tr>\n",
       "      <th>2</th>\n",
       "      <td>2</td>\n",
       "      <td>слугами</td>\n",
       "      <td>3</td>\n",
       "      <td>слуга</td>\n",
       "      <td>5</td>\n",
       "      <td>0</td>\n",
       "      <td>0</td>\n",
       "      <td>0</td>\n",
       "      <td>0</td>\n",
       "      <td>1</td>\n",
       "      <td>...</td>\n",
       "      <td>0</td>\n",
       "      <td>0</td>\n",
       "      <td>0</td>\n",
       "      <td>0</td>\n",
       "      <td>0</td>\n",
       "      <td>0</td>\n",
       "      <td>0</td>\n",
       "      <td>0</td>\n",
       "      <td>0</td>\n",
       "      <td>2</td>\n",
       "    </tr>\n",
       "    <tr>\n",
       "      <th>3</th>\n",
       "      <td>3</td>\n",
       "      <td>выбирает</td>\n",
       "      <td>4</td>\n",
       "      <td>выбирать</td>\n",
       "      <td>6</td>\n",
       "      <td>0</td>\n",
       "      <td>0</td>\n",
       "      <td>0</td>\n",
       "      <td>0</td>\n",
       "      <td>0</td>\n",
       "      <td>...</td>\n",
       "      <td>0</td>\n",
       "      <td>0</td>\n",
       "      <td>0</td>\n",
       "      <td>0</td>\n",
       "      <td>0</td>\n",
       "      <td>0</td>\n",
       "      <td>0</td>\n",
       "      <td>0</td>\n",
       "      <td>0</td>\n",
       "      <td>4</td>\n",
       "    </tr>\n",
       "    <tr>\n",
       "      <th>4</th>\n",
       "      <td>4</td>\n",
       "      <td>управдом</td>\n",
       "      <td>3</td>\n",
       "      <td>управдом</td>\n",
       "      <td>8</td>\n",
       "      <td>0</td>\n",
       "      <td>0</td>\n",
       "      <td>0</td>\n",
       "      <td>0</td>\n",
       "      <td>1</td>\n",
       "      <td>...</td>\n",
       "      <td>0</td>\n",
       "      <td>0</td>\n",
       "      <td>0</td>\n",
       "      <td>0</td>\n",
       "      <td>0</td>\n",
       "      <td>0</td>\n",
       "      <td>0</td>\n",
       "      <td>0</td>\n",
       "      <td>0</td>\n",
       "      <td>2</td>\n",
       "    </tr>\n",
       "  </tbody>\n",
       "</table>\n",
       "<p>5 rows × 83 columns</p>\n",
       "</div>"
      ],
      "text/plain": [
       "   id      word  num_syllables     lemma  maxsubstring_len  is_cia  \\\n",
       "0   0   румяной              3   румяный                 5       0   \n",
       "1   1   цифрами              3     цифра                 5       0   \n",
       "2   2   слугами              3     слуга                 5       0   \n",
       "3   3  выбирает              4  выбирать                 6       0   \n",
       "4   4  управдом              3  управдом                 8       0   \n",
       "\n",
       "   case_ACCUSATIVE  case_DATIVE  case_GENITIVE  case_INSTRUCTIVE  ...  ыва  \\\n",
       "0                0            0              0                 1  ...    0   \n",
       "1                0            0              0                 1  ...    0   \n",
       "2                0            0              0                 1  ...    0   \n",
       "3                0            0              0                 0  ...    0   \n",
       "4                0            0              0                 1  ...    0   \n",
       "\n",
       "   способный  видный  швили  адзе  метр  порт  бал  вед  no_idea  \n",
       "0          0       0      0     0     0     0    0    0        2  \n",
       "1          0       0      0     0     0     0    0    0        2  \n",
       "2          0       0      0     0     0     0    0    0        2  \n",
       "3          0       0      0     0     0     0    0    0        4  \n",
       "4          0       0      0     0     0     0    0    0        2  \n",
       "\n",
       "[5 rows x 83 columns]"
      ]
     },
     "execution_count": 50,
     "metadata": {},
     "output_type": "execute_result"
    }
   ],
   "source": [
    "print(data[:5])\n",
    "features.head()"
   ]
  },
  {
   "cell_type": "code",
   "execution_count": null,
   "id": "99a5ed96",
   "metadata": {},
   "outputs": [],
   "source": []
  },
  {
   "cell_type": "markdown",
   "id": "e673c24a",
   "metadata": {},
   "source": [
    "# Train test split"
   ]
  },
  {
   "cell_type": "code",
   "execution_count": 51,
   "id": "053250a1",
   "metadata": {},
   "outputs": [],
   "source": [
    "X = features[:len(train)].drop(['word', 'lemma', 'id'],axis=1)\n",
    "X_test = features[len(train):].drop(['word', 'lemma', 'id'],axis=1)\n",
    "X = X[:len(train)]\n",
    "ID_test = features[len(train):].id"
   ]
  },
  {
   "cell_type": "code",
   "execution_count": 52,
   "id": "4a5800e1",
   "metadata": {},
   "outputs": [
    {
     "data": {
      "text/plain": [
       "((63438, 80), (29960, 80))"
      ]
     },
     "execution_count": 52,
     "metadata": {},
     "output_type": "execute_result"
    }
   ],
   "source": [
    "X.shape, X_test.shape"
   ]
  },
  {
   "cell_type": "code",
   "execution_count": 53,
   "id": "a6e640b4",
   "metadata": {},
   "outputs": [
    {
     "data": {
      "text/plain": [
       "0            0\n",
       "1            1\n",
       "2            2\n",
       "3            3\n",
       "4            4\n",
       "         ...  \n",
       "29955    29955\n",
       "29956    29956\n",
       "29957    29957\n",
       "29958    29958\n",
       "29959    29959\n",
       "Name: id, Length: 29960, dtype: int64"
      ]
     },
     "execution_count": 53,
     "metadata": {},
     "output_type": "execute_result"
    }
   ],
   "source": [
    "ID_test"
   ]
  },
  {
   "cell_type": "code",
   "execution_count": 54,
   "id": "fdc37bb4",
   "metadata": {},
   "outputs": [
    {
     "data": {
      "text/plain": [
       "93398"
      ]
     },
     "execution_count": 54,
     "metadata": {},
     "output_type": "execute_result"
    }
   ],
   "source": [
    "X.shape[0]+ X_test.shape[0]"
   ]
  },
  {
   "cell_type": "code",
   "execution_count": 55,
   "id": "bf3e6490",
   "metadata": {},
   "outputs": [],
   "source": [
    "X_train, X_valid, y_train, y_valid = train_test_split(X, \n",
    "                               labels, test_size=0.33, random_state=42, shuffle=True)"
   ]
  },
  {
   "cell_type": "code",
   "execution_count": 56,
   "id": "a0d8aec6",
   "metadata": {},
   "outputs": [
    {
     "data": {
      "text/plain": [
       "((42503, 80), (20935, 80), (42503,), (20935,))"
      ]
     },
     "execution_count": 56,
     "metadata": {},
     "output_type": "execute_result"
    }
   ],
   "source": [
    "X_train.shape, X_valid.shape, y_train.shape, y_valid.shape"
   ]
  },
  {
   "cell_type": "code",
   "execution_count": 57,
   "id": "c7e29e9f",
   "metadata": {},
   "outputs": [],
   "source": [
    "X_train = torch.FloatTensor(X_train.to_numpy())\n",
    "y_train = torch.LongTensor(y_train.to_numpy())\n",
    "X_valid = torch.FloatTensor(X_valid.to_numpy())\n",
    "y_valid = torch.LongTensor(y_valid.to_numpy())\n",
    "X_test = torch.FloatTensor(X_test.to_numpy())"
   ]
  },
  {
   "cell_type": "code",
   "execution_count": 58,
   "id": "aa5d864d",
   "metadata": {},
   "outputs": [
    {
     "data": {
      "text/plain": [
       "tensor([[ 2.,  5.,  0.,  ...,  0.,  0.,  1.],\n",
       "        [ 5., 12.,  0.,  ...,  0.,  0.,  5.],\n",
       "        [ 6., 13.,  0.,  ...,  0.,  0.,  5.],\n",
       "        ...,\n",
       "        [ 2.,  2.,  0.,  ...,  0.,  0.,  1.],\n",
       "        [ 3.,  4.,  0.,  ...,  0.,  0.,  2.],\n",
       "        [ 5.,  9.,  0.,  ...,  0.,  0.,  4.]])"
      ]
     },
     "execution_count": 58,
     "metadata": {},
     "output_type": "execute_result"
    }
   ],
   "source": [
    "X_train"
   ]
  },
  {
   "cell_type": "code",
   "execution_count": 59,
   "id": "bd2a7a9a",
   "metadata": {},
   "outputs": [],
   "source": [
    "class StressPredictor(torch.nn.Module):\n",
    "    def __init__(self, n_hidden_neurons):\n",
    "        super(StressPredictor, self).__init__()\n",
    "        self.fc1= torch.nn.Linear(80, n_hidden_neurons)\n",
    "        self.act1 = torch.nn.Sigmoid()\n",
    "        self.fc2 = torch.nn.Linear(n_hidden_neurons,7)\n",
    "        self.sm = torch.nn.Softmax(dim=1)\n",
    "        \n",
    "    def forward(self, x):\n",
    "        x = self.fc1(x)\n",
    "        x = self.act1(x)\n",
    "        \n",
    "        x = self.fc2(x)\n",
    "        return x\n",
    "    \n",
    "    def inference(self, x):\n",
    "        x = self.forward(x)\n",
    "        x = self.sm(x)\n",
    "        return x\n",
    "    \n",
    "net = StressPredictor(500)"
   ]
  },
  {
   "cell_type": "code",
   "execution_count": null,
   "id": "7457559c",
   "metadata": {},
   "outputs": [],
   "source": []
  },
  {
   "cell_type": "code",
   "execution_count": 79,
   "id": "504b7f7f",
   "metadata": {},
   "outputs": [],
   "source": [
    "optimizer = torch.optim.Adam(net.parameters(), lr=1.0e-3)\n",
    "loss = torch.nn.CrossEntropyLoss()"
   ]
  },
  {
   "cell_type": "code",
   "execution_count": null,
   "id": "db03c150",
   "metadata": {},
   "outputs": [],
   "source": []
  },
  {
   "cell_type": "code",
   "execution_count": 78,
   "id": "3dbb1f91",
   "metadata": {},
   "outputs": [],
   "source": [
    "class StressPredictor(torch.nn.Module):\n",
    "    def __init__(self, n_hidden_neurons):\n",
    "        super(StressPredictor, self).__init__()\n",
    "        self.fc1= torch.nn.Linear(80, n_hidden_neurons)\n",
    "        self.act1 = torch.nn.Sigmoid()\n",
    "        self.fc2 = torch.nn.Linear(n_hidden_neurons,n_hidden_neurons)\n",
    "        \n",
    "        self.act2 = torch.nn.Sigmoid()\n",
    "        \n",
    "        self.fc3 = torch.nn.Linear(n_hidden_neurons, n_hidden_neurons)\n",
    "        self.act3 = torch.nn.Sigmoid()\n",
    "        self.fc4 = torch.nn.Linear(n_hidden_neurons, 32)\n",
    "        self.act4 = torch.nn.Sigmoid()\n",
    "        self.fc5 = torch.nn.Linear(32,7)\n",
    "        self.sm = torch.nn.Softmax(dim=1)\n",
    "        \n",
    "        \n",
    "    def forward(self, x):\n",
    "        x = self.fc1(x)\n",
    "        x = self.act1(x)\n",
    "        x = self.fc2(x)\n",
    "        x = self.act2(x)\n",
    "        x = self.fc3(x)\n",
    "        x = self.act3(x)\n",
    "        x = self.fc4(x)\n",
    "        x = self.act4(x)\n",
    "        x = self.fc5(x)\n",
    "        return x\n",
    "    \n",
    "    def inference(self, x):\n",
    "        x = self.forward(x)\n",
    "        x = self.sm(x)\n",
    "        return x\n",
    "    \n",
    "net = StressPredictor(800)"
   ]
  },
  {
   "cell_type": "code",
   "execution_count": null,
   "id": "90450c9a",
   "metadata": {},
   "outputs": [],
   "source": []
  },
  {
   "cell_type": "code",
   "execution_count": null,
   "id": "9fa3bbb8",
   "metadata": {},
   "outputs": [],
   "source": []
  },
  {
   "cell_type": "code",
   "execution_count": null,
   "id": "10ca833a",
   "metadata": {},
   "outputs": [],
   "source": []
  },
  {
   "cell_type": "code",
   "execution_count": 80,
   "id": "07549c21",
   "metadata": {},
   "outputs": [
    {
     "name": "stdout",
     "output_type": "stream",
     "text": [
      "tensor(0.3954)\n",
      "tensor(0.3954)\n",
      "tensor(0.3954)\n",
      "tensor(0.3954)\n",
      "tensor(0.3954)\n"
     ]
    },
    {
     "ename": "KeyboardInterrupt",
     "evalue": "",
     "output_type": "error",
     "traceback": [
      "\u001b[0;31m---------------------------------------------------------------------------\u001b[0m",
      "\u001b[0;31mKeyboardInterrupt\u001b[0m                         Traceback (most recent call last)",
      "\u001b[0;32m/tmp/ipykernel_121096/3068902324.py\u001b[0m in \u001b[0;36m<module>\u001b[0;34m\u001b[0m\n\u001b[1;32m     13\u001b[0m \u001b[0;34m\u001b[0m\u001b[0m\n\u001b[1;32m     14\u001b[0m         \u001b[0mpreds\u001b[0m \u001b[0;34m=\u001b[0m \u001b[0mnet\u001b[0m\u001b[0;34m.\u001b[0m\u001b[0mforward\u001b[0m\u001b[0;34m(\u001b[0m\u001b[0mX_batch\u001b[0m\u001b[0;34m)\u001b[0m\u001b[0;34m\u001b[0m\u001b[0;34m\u001b[0m\u001b[0m\n\u001b[0;32m---> 15\u001b[0;31m         \u001b[0mloss_value\u001b[0m \u001b[0;34m=\u001b[0m \u001b[0mloss\u001b[0m\u001b[0;34m(\u001b[0m\u001b[0mpreds\u001b[0m\u001b[0;34m,\u001b[0m \u001b[0my_batch\u001b[0m\u001b[0;34m)\u001b[0m\u001b[0;34m\u001b[0m\u001b[0;34m\u001b[0m\u001b[0m\n\u001b[0m\u001b[1;32m     16\u001b[0m         \u001b[0mloss_value\u001b[0m\u001b[0;34m.\u001b[0m\u001b[0mbackward\u001b[0m\u001b[0;34m(\u001b[0m\u001b[0;34m)\u001b[0m\u001b[0;34m\u001b[0m\u001b[0;34m\u001b[0m\u001b[0m\n\u001b[1;32m     17\u001b[0m \u001b[0;34m\u001b[0m\u001b[0m\n",
      "\u001b[0;32m~/anaconda3/lib/python3.9/site-packages/torch/nn/modules/module.py\u001b[0m in \u001b[0;36m_call_impl\u001b[0;34m(self, *input, **kwargs)\u001b[0m\n\u001b[1;32m   1128\u001b[0m         if not (self._backward_hooks or self._forward_hooks or self._forward_pre_hooks or _global_backward_hooks\n\u001b[1;32m   1129\u001b[0m                 or _global_forward_hooks or _global_forward_pre_hooks):\n\u001b[0;32m-> 1130\u001b[0;31m             \u001b[0;32mreturn\u001b[0m \u001b[0mforward_call\u001b[0m\u001b[0;34m(\u001b[0m\u001b[0;34m*\u001b[0m\u001b[0minput\u001b[0m\u001b[0;34m,\u001b[0m \u001b[0;34m**\u001b[0m\u001b[0mkwargs\u001b[0m\u001b[0;34m)\u001b[0m\u001b[0;34m\u001b[0m\u001b[0;34m\u001b[0m\u001b[0m\n\u001b[0m\u001b[1;32m   1131\u001b[0m         \u001b[0;31m# Do not call functions when jit is used\u001b[0m\u001b[0;34m\u001b[0m\u001b[0;34m\u001b[0m\u001b[0m\n\u001b[1;32m   1132\u001b[0m         \u001b[0mfull_backward_hooks\u001b[0m\u001b[0;34m,\u001b[0m \u001b[0mnon_full_backward_hooks\u001b[0m \u001b[0;34m=\u001b[0m \u001b[0;34m[\u001b[0m\u001b[0;34m]\u001b[0m\u001b[0;34m,\u001b[0m \u001b[0;34m[\u001b[0m\u001b[0;34m]\u001b[0m\u001b[0;34m\u001b[0m\u001b[0;34m\u001b[0m\u001b[0m\n",
      "\u001b[0;32m~/anaconda3/lib/python3.9/site-packages/torch/nn/modules/loss.py\u001b[0m in \u001b[0;36mforward\u001b[0;34m(self, input, target)\u001b[0m\n\u001b[1;32m   1162\u001b[0m \u001b[0;34m\u001b[0m\u001b[0m\n\u001b[1;32m   1163\u001b[0m     \u001b[0;32mdef\u001b[0m \u001b[0mforward\u001b[0m\u001b[0;34m(\u001b[0m\u001b[0mself\u001b[0m\u001b[0;34m,\u001b[0m \u001b[0minput\u001b[0m\u001b[0;34m:\u001b[0m \u001b[0mTensor\u001b[0m\u001b[0;34m,\u001b[0m \u001b[0mtarget\u001b[0m\u001b[0;34m:\u001b[0m \u001b[0mTensor\u001b[0m\u001b[0;34m)\u001b[0m \u001b[0;34m->\u001b[0m \u001b[0mTensor\u001b[0m\u001b[0;34m:\u001b[0m\u001b[0;34m\u001b[0m\u001b[0;34m\u001b[0m\u001b[0m\n\u001b[0;32m-> 1164\u001b[0;31m         return F.cross_entropy(input, target, weight=self.weight,\n\u001b[0m\u001b[1;32m   1165\u001b[0m                                \u001b[0mignore_index\u001b[0m\u001b[0;34m=\u001b[0m\u001b[0mself\u001b[0m\u001b[0;34m.\u001b[0m\u001b[0mignore_index\u001b[0m\u001b[0;34m,\u001b[0m \u001b[0mreduction\u001b[0m\u001b[0;34m=\u001b[0m\u001b[0mself\u001b[0m\u001b[0;34m.\u001b[0m\u001b[0mreduction\u001b[0m\u001b[0;34m,\u001b[0m\u001b[0;34m\u001b[0m\u001b[0;34m\u001b[0m\u001b[0m\n\u001b[1;32m   1166\u001b[0m                                label_smoothing=self.label_smoothing)\n",
      "\u001b[0;32m~/anaconda3/lib/python3.9/site-packages/torch/nn/functional.py\u001b[0m in \u001b[0;36mcross_entropy\u001b[0;34m(input, target, weight, size_average, ignore_index, reduce, reduction, label_smoothing)\u001b[0m\n\u001b[1;32m   3012\u001b[0m     \u001b[0;32mif\u001b[0m \u001b[0msize_average\u001b[0m \u001b[0;32mis\u001b[0m \u001b[0;32mnot\u001b[0m \u001b[0;32mNone\u001b[0m \u001b[0;32mor\u001b[0m \u001b[0mreduce\u001b[0m \u001b[0;32mis\u001b[0m \u001b[0;32mnot\u001b[0m \u001b[0;32mNone\u001b[0m\u001b[0;34m:\u001b[0m\u001b[0;34m\u001b[0m\u001b[0;34m\u001b[0m\u001b[0m\n\u001b[1;32m   3013\u001b[0m         \u001b[0mreduction\u001b[0m \u001b[0;34m=\u001b[0m \u001b[0m_Reduction\u001b[0m\u001b[0;34m.\u001b[0m\u001b[0mlegacy_get_string\u001b[0m\u001b[0;34m(\u001b[0m\u001b[0msize_average\u001b[0m\u001b[0;34m,\u001b[0m \u001b[0mreduce\u001b[0m\u001b[0;34m)\u001b[0m\u001b[0;34m\u001b[0m\u001b[0;34m\u001b[0m\u001b[0m\n\u001b[0;32m-> 3014\u001b[0;31m     \u001b[0;32mreturn\u001b[0m \u001b[0mtorch\u001b[0m\u001b[0;34m.\u001b[0m\u001b[0m_C\u001b[0m\u001b[0;34m.\u001b[0m\u001b[0m_nn\u001b[0m\u001b[0;34m.\u001b[0m\u001b[0mcross_entropy_loss\u001b[0m\u001b[0;34m(\u001b[0m\u001b[0minput\u001b[0m\u001b[0;34m,\u001b[0m \u001b[0mtarget\u001b[0m\u001b[0;34m,\u001b[0m \u001b[0mweight\u001b[0m\u001b[0;34m,\u001b[0m \u001b[0m_Reduction\u001b[0m\u001b[0;34m.\u001b[0m\u001b[0mget_enum\u001b[0m\u001b[0;34m(\u001b[0m\u001b[0mreduction\u001b[0m\u001b[0;34m)\u001b[0m\u001b[0;34m,\u001b[0m \u001b[0mignore_index\u001b[0m\u001b[0;34m,\u001b[0m \u001b[0mlabel_smoothing\u001b[0m\u001b[0;34m)\u001b[0m\u001b[0;34m\u001b[0m\u001b[0;34m\u001b[0m\u001b[0m\n\u001b[0m\u001b[1;32m   3015\u001b[0m \u001b[0;34m\u001b[0m\u001b[0m\n\u001b[1;32m   3016\u001b[0m \u001b[0;34m\u001b[0m\u001b[0m\n",
      "\u001b[0;31mKeyboardInterrupt\u001b[0m: "
     ]
    }
   ],
   "source": [
    "batch_size = 100\n",
    "valid_accuracy_history = []\n",
    "valid_loss_history = []\n",
    "\n",
    "for epoch in range(10000):\n",
    "    order = np.random.permutation(len(X_train))\n",
    "    for start_index in range(0,len(X_train),batch_size):\n",
    "        optimizer.zero_grad()\n",
    "        batch_ind = order[start_index: start_index+batch_size]\n",
    "        \n",
    "        X_batch = X_train[batch_ind]\n",
    "        y_batch = y_train[batch_ind]\n",
    "        \n",
    "        preds = net.forward(X_batch)\n",
    "        loss_value = loss(preds, y_batch)\n",
    "        loss_value.backward()\n",
    "        \n",
    "        optimizer.step()\n",
    "    valid_preds = net.forward(X_valid)\n",
    "    valid_loss_history.append(loss(valid_preds, y_valid).data)    \n",
    "    \n",
    "    accuracy = (valid_preds.argmax(dim=1) == y_valid).float().mean().data\n",
    "    valid_accuracy_history.append(accuracy)\n",
    "    print(accuracy)"
   ]
  },
  {
   "cell_type": "code",
   "execution_count": null,
   "id": "ae655300",
   "metadata": {},
   "outputs": [],
   "source": [
    "plt.plot(valid_accuracy_history)\n",
    "plt.show()\n",
    "plt.plot(valid_loss_history)\n",
    "plt.show()\n"
   ]
  },
  {
   "cell_type": "code",
   "execution_count": null,
   "id": "0b70823e",
   "metadata": {},
   "outputs": [],
   "source": [
    "D_train, D_valid, tmp_train, tmp_valid = train_test_split(X, \n",
    "                               labels, test_size=0.33, random_state=42, shuffle=True)"
   ]
  },
  {
   "cell_type": "code",
   "execution_count": null,
   "id": "daf02f0f",
   "metadata": {},
   "outputs": [],
   "source": [
    "from sklearn.dummy import DummyClassifier\n",
    "clf = DummyClassifier().fit(D_train,tmp_train)\n",
    "dummy_predict = clf.predict(D_valid)"
   ]
  },
  {
   "cell_type": "code",
   "execution_count": null,
   "id": "c3f17459",
   "metadata": {},
   "outputs": [],
   "source": [
    "import sklearn\n",
    "sklearn.metrics.accuracy_score(dummy_predict, tmp_valid)"
   ]
  },
  {
   "cell_type": "code",
   "execution_count": null,
   "id": "1bf41991",
   "metadata": {},
   "outputs": [],
   "source": [
    "valid_loss_history"
   ]
  },
  {
   "cell_type": "code",
   "execution_count": null,
   "id": "342a71d8",
   "metadata": {},
   "outputs": [],
   "source": [
    "net.forward(X_test)\n",
    "accuracy = (valid_preds.argmax(dim=1) == y_valid).float().mean().data"
   ]
  },
  {
   "cell_type": "code",
   "execution_count": null,
   "id": "b1c7d1b9",
   "metadata": {},
   "outputs": [],
   "source": [
    "results = pd.concat([ID_test, pd.DataFrame(net.inference(X_test).argmax(dim=1).detach().numpy())], axis=1)"
   ]
  },
  {
   "cell_type": "code",
   "execution_count": null,
   "id": "9b106980",
   "metadata": {},
   "outputs": [],
   "source": [
    "results"
   ]
  },
  {
   "cell_type": "code",
   "execution_count": null,
   "id": "bbd05ff2",
   "metadata": {},
   "outputs": [],
   "source": [
    "test"
   ]
  },
  {
   "cell_type": "code",
   "execution_count": null,
   "id": "8f4549c5",
   "metadata": {},
   "outputs": [],
   "source": [
    "results.rename(columns={0:'stress'}).to_csv(\"submission.csv\",index = False)"
   ]
  },
  {
   "cell_type": "code",
   "execution_count": null,
   "id": "1d211a46",
   "metadata": {},
   "outputs": [],
   "source": [
    "results.to_csv(\"submission1.csv\",index = False)"
   ]
  },
  {
   "cell_type": "code",
   "execution_count": null,
   "id": "ea85bc7a",
   "metadata": {},
   "outputs": [],
   "source": [
    "ID_test\n",
    "test"
   ]
  }
 ],
 "metadata": {
  "kernelspec": {
   "display_name": "Python 3 (ipykernel)",
   "language": "python",
   "name": "python3"
  },
  "language_info": {
   "codemirror_mode": {
    "name": "ipython",
    "version": 3
   },
   "file_extension": ".py",
   "mimetype": "text/x-python",
   "name": "python",
   "nbconvert_exporter": "python",
   "pygments_lexer": "ipython3",
   "version": "3.9.7"
  },
  "varInspector": {
   "cols": {
    "lenName": 16,
    "lenType": 16,
    "lenVar": 40
   },
   "kernels_config": {
    "python": {
     "delete_cmd_postfix": "",
     "delete_cmd_prefix": "del ",
     "library": "var_list.py",
     "varRefreshCmd": "print(var_dic_list())"
    },
    "r": {
     "delete_cmd_postfix": ") ",
     "delete_cmd_prefix": "rm(",
     "library": "var_list.r",
     "varRefreshCmd": "cat(var_dic_list()) "
    }
   },
   "types_to_exclude": [
    "module",
    "function",
    "builtin_function_or_method",
    "instance",
    "_Feature"
   ],
   "window_display": false
  }
 },
 "nbformat": 4,
 "nbformat_minor": 5
}
