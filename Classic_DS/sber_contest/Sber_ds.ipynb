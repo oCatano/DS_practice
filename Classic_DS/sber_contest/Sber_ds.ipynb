{
 "cells": [
  {
   "cell_type": "code",
   "execution_count": 1,
   "id": "0b413ceb",
   "metadata": {},
   "outputs": [],
   "source": [
    "import time\n",
    "start_time = time.time()"
   ]
  },
  {
   "cell_type": "code",
   "execution_count": 2,
   "id": "20873295",
   "metadata": {},
   "outputs": [],
   "source": [
    "import pandas as pd\n",
    "import numpy as np\n",
    "import matplotlib as pl\n",
    "%matplotlib inline\n",
    "import matplotlib.pyplot as plt\n",
    "import seaborn as sns\n",
    "from sklearn.preprocessing import StandardScaler\n",
    "from sklearn.model_selection import train_test_split\n",
    "from sklearn.ensemble import RandomForestClassifier\n",
    "from sklearn.linear_model import LogisticRegression\n",
    "from sklearn.svm import LinearSVC\n",
    "from sklearn.neighbors import KNeighborsClassifier\n",
    "from sklearn.model_selection import RandomizedSearchCV, GridSearchCV\n",
    "from sklearn.ensemble import GradientBoostingClassifier\n",
    "from sklearn.metrics import accuracy_score\n",
    "from sklearn import metrics\n",
    "\n",
    "import torch\n",
    "import random\n",
    "random.seed(0)\n",
    "np.random.seed(0)\n",
    "\n",
    "torch.manual_seed(0)\n",
    "torch.cuda.manual_seed(0)"
   ]
  },
  {
   "cell_type": "code",
   "execution_count": 3,
   "id": "df2024bc",
   "metadata": {},
   "outputs": [],
   "source": [
    "data = pd.read_csv(\"./churn_dataset.csv/churn_dataset.csv\")"
   ]
  },
  {
   "cell_type": "code",
   "execution_count": 4,
   "id": "2df79cdb",
   "metadata": {},
   "outputs": [
    {
     "data": {
      "text/html": [
       "<div>\n",
       "<style scoped>\n",
       "    .dataframe tbody tr th:only-of-type {\n",
       "        vertical-align: middle;\n",
       "    }\n",
       "\n",
       "    .dataframe tbody tr th {\n",
       "        vertical-align: top;\n",
       "    }\n",
       "\n",
       "    .dataframe thead th {\n",
       "        text-align: right;\n",
       "    }\n",
       "</style>\n",
       "<table border=\"1\" class=\"dataframe\">\n",
       "  <thead>\n",
       "    <tr style=\"text-align: right;\">\n",
       "      <th></th>\n",
       "      <th>rev_Mean</th>\n",
       "      <th>mou_Mean</th>\n",
       "      <th>totmrc_Mean</th>\n",
       "      <th>da_Mean</th>\n",
       "      <th>ovrmou_Mean</th>\n",
       "      <th>ovrrev_Mean</th>\n",
       "      <th>vceovr_Mean</th>\n",
       "      <th>datovr_Mean</th>\n",
       "      <th>roam_Mean</th>\n",
       "      <th>change_mou</th>\n",
       "      <th>...</th>\n",
       "      <th>forgntvl</th>\n",
       "      <th>ethnic</th>\n",
       "      <th>kid0_2</th>\n",
       "      <th>kid3_5</th>\n",
       "      <th>kid6_10</th>\n",
       "      <th>kid11_15</th>\n",
       "      <th>kid16_17</th>\n",
       "      <th>creditcd</th>\n",
       "      <th>eqpdays</th>\n",
       "      <th>Customer_ID</th>\n",
       "    </tr>\n",
       "  </thead>\n",
       "  <tbody>\n",
       "    <tr>\n",
       "      <th>0</th>\n",
       "      <td>23.9975</td>\n",
       "      <td>219.25</td>\n",
       "      <td>22.500</td>\n",
       "      <td>0.2475</td>\n",
       "      <td>0.00</td>\n",
       "      <td>0.0</td>\n",
       "      <td>0.0</td>\n",
       "      <td>0.0</td>\n",
       "      <td>0.0</td>\n",
       "      <td>-157.25</td>\n",
       "      <td>...</td>\n",
       "      <td>0.0</td>\n",
       "      <td>N</td>\n",
       "      <td>U</td>\n",
       "      <td>U</td>\n",
       "      <td>U</td>\n",
       "      <td>U</td>\n",
       "      <td>U</td>\n",
       "      <td>Y</td>\n",
       "      <td>361.0</td>\n",
       "      <td>1000001</td>\n",
       "    </tr>\n",
       "    <tr>\n",
       "      <th>1</th>\n",
       "      <td>57.4925</td>\n",
       "      <td>482.75</td>\n",
       "      <td>37.425</td>\n",
       "      <td>0.2475</td>\n",
       "      <td>22.75</td>\n",
       "      <td>9.1</td>\n",
       "      <td>9.1</td>\n",
       "      <td>0.0</td>\n",
       "      <td>0.0</td>\n",
       "      <td>532.25</td>\n",
       "      <td>...</td>\n",
       "      <td>0.0</td>\n",
       "      <td>Z</td>\n",
       "      <td>U</td>\n",
       "      <td>U</td>\n",
       "      <td>U</td>\n",
       "      <td>U</td>\n",
       "      <td>U</td>\n",
       "      <td>Y</td>\n",
       "      <td>240.0</td>\n",
       "      <td>1000002</td>\n",
       "    </tr>\n",
       "    <tr>\n",
       "      <th>2</th>\n",
       "      <td>16.9900</td>\n",
       "      <td>10.25</td>\n",
       "      <td>16.990</td>\n",
       "      <td>0.0000</td>\n",
       "      <td>0.00</td>\n",
       "      <td>0.0</td>\n",
       "      <td>0.0</td>\n",
       "      <td>0.0</td>\n",
       "      <td>0.0</td>\n",
       "      <td>-4.25</td>\n",
       "      <td>...</td>\n",
       "      <td>0.0</td>\n",
       "      <td>N</td>\n",
       "      <td>U</td>\n",
       "      <td>Y</td>\n",
       "      <td>U</td>\n",
       "      <td>U</td>\n",
       "      <td>U</td>\n",
       "      <td>Y</td>\n",
       "      <td>1504.0</td>\n",
       "      <td>1000003</td>\n",
       "    </tr>\n",
       "    <tr>\n",
       "      <th>3</th>\n",
       "      <td>38.0000</td>\n",
       "      <td>7.50</td>\n",
       "      <td>38.000</td>\n",
       "      <td>0.0000</td>\n",
       "      <td>0.00</td>\n",
       "      <td>0.0</td>\n",
       "      <td>0.0</td>\n",
       "      <td>0.0</td>\n",
       "      <td>0.0</td>\n",
       "      <td>-1.50</td>\n",
       "      <td>...</td>\n",
       "      <td>0.0</td>\n",
       "      <td>U</td>\n",
       "      <td>Y</td>\n",
       "      <td>U</td>\n",
       "      <td>U</td>\n",
       "      <td>U</td>\n",
       "      <td>U</td>\n",
       "      <td>Y</td>\n",
       "      <td>1812.0</td>\n",
       "      <td>1000004</td>\n",
       "    </tr>\n",
       "    <tr>\n",
       "      <th>4</th>\n",
       "      <td>55.2300</td>\n",
       "      <td>570.50</td>\n",
       "      <td>71.980</td>\n",
       "      <td>0.0000</td>\n",
       "      <td>0.00</td>\n",
       "      <td>0.0</td>\n",
       "      <td>0.0</td>\n",
       "      <td>0.0</td>\n",
       "      <td>0.0</td>\n",
       "      <td>38.50</td>\n",
       "      <td>...</td>\n",
       "      <td>0.0</td>\n",
       "      <td>I</td>\n",
       "      <td>U</td>\n",
       "      <td>U</td>\n",
       "      <td>U</td>\n",
       "      <td>U</td>\n",
       "      <td>U</td>\n",
       "      <td>Y</td>\n",
       "      <td>434.0</td>\n",
       "      <td>1000005</td>\n",
       "    </tr>\n",
       "  </tbody>\n",
       "</table>\n",
       "<p>5 rows × 100 columns</p>\n",
       "</div>"
      ],
      "text/plain": [
       "   rev_Mean  mou_Mean  totmrc_Mean  da_Mean  ovrmou_Mean  ovrrev_Mean  \\\n",
       "0   23.9975    219.25       22.500   0.2475         0.00          0.0   \n",
       "1   57.4925    482.75       37.425   0.2475        22.75          9.1   \n",
       "2   16.9900     10.25       16.990   0.0000         0.00          0.0   \n",
       "3   38.0000      7.50       38.000   0.0000         0.00          0.0   \n",
       "4   55.2300    570.50       71.980   0.0000         0.00          0.0   \n",
       "\n",
       "   vceovr_Mean  datovr_Mean  roam_Mean  change_mou  ...  forgntvl  ethnic  \\\n",
       "0          0.0          0.0        0.0     -157.25  ...       0.0       N   \n",
       "1          9.1          0.0        0.0      532.25  ...       0.0       Z   \n",
       "2          0.0          0.0        0.0       -4.25  ...       0.0       N   \n",
       "3          0.0          0.0        0.0       -1.50  ...       0.0       U   \n",
       "4          0.0          0.0        0.0       38.50  ...       0.0       I   \n",
       "\n",
       "   kid0_2  kid3_5  kid6_10  kid11_15  kid16_17  creditcd  eqpdays  Customer_ID  \n",
       "0       U       U        U         U         U         Y    361.0      1000001  \n",
       "1       U       U        U         U         U         Y    240.0      1000002  \n",
       "2       U       Y        U         U         U         Y   1504.0      1000003  \n",
       "3       Y       U        U         U         U         Y   1812.0      1000004  \n",
       "4       U       U        U         U         U         Y    434.0      1000005  \n",
       "\n",
       "[5 rows x 100 columns]"
      ]
     },
     "execution_count": 4,
     "metadata": {},
     "output_type": "execute_result"
    }
   ],
   "source": [
    "data.head()"
   ]
  },
  {
   "cell_type": "code",
   "execution_count": 5,
   "id": "7f564f60",
   "metadata": {},
   "outputs": [
    {
     "data": {
      "text/plain": [
       "(100000, 100)"
      ]
     },
     "execution_count": 5,
     "metadata": {},
     "output_type": "execute_result"
    }
   ],
   "source": [
    "data.shape"
   ]
  },
  {
   "cell_type": "code",
   "execution_count": 6,
   "id": "0b76db15",
   "metadata": {},
   "outputs": [
    {
     "data": {
      "text/plain": [
       "array([dtype('float64'), dtype('int64'), dtype('O')], dtype=object)"
      ]
     },
     "execution_count": 6,
     "metadata": {},
     "output_type": "execute_result"
    }
   ],
   "source": [
    "data.dtypes.unique()"
   ]
  },
  {
   "cell_type": "code",
   "execution_count": 7,
   "id": "321c5d87",
   "metadata": {},
   "outputs": [
    {
     "name": "stdout",
     "output_type": "stream",
     "text": [
      "<class 'pandas.core.frame.DataFrame'>\n",
      "RangeIndex: 100000 entries, 0 to 99999\n",
      "Data columns (total 100 columns):\n",
      " #   Column            Non-Null Count   Dtype  \n",
      "---  ------            --------------   -----  \n",
      " 0   rev_Mean          99643 non-null   float64\n",
      " 1   mou_Mean          99643 non-null   float64\n",
      " 2   totmrc_Mean       99643 non-null   float64\n",
      " 3   da_Mean           99643 non-null   float64\n",
      " 4   ovrmou_Mean       99643 non-null   float64\n",
      " 5   ovrrev_Mean       99643 non-null   float64\n",
      " 6   vceovr_Mean       99643 non-null   float64\n",
      " 7   datovr_Mean       99643 non-null   float64\n",
      " 8   roam_Mean         99643 non-null   float64\n",
      " 9   change_mou        99109 non-null   float64\n",
      " 10  change_rev        99109 non-null   float64\n",
      " 11  drop_vce_Mean     100000 non-null  float64\n",
      " 12  drop_dat_Mean     100000 non-null  float64\n",
      " 13  blck_vce_Mean     100000 non-null  float64\n",
      " 14  blck_dat_Mean     100000 non-null  float64\n",
      " 15  unan_vce_Mean     100000 non-null  float64\n",
      " 16  unan_dat_Mean     100000 non-null  float64\n",
      " 17  plcd_vce_Mean     100000 non-null  float64\n",
      " 18  plcd_dat_Mean     100000 non-null  float64\n",
      " 19  recv_vce_Mean     100000 non-null  float64\n",
      " 20  recv_sms_Mean     100000 non-null  float64\n",
      " 21  comp_vce_Mean     100000 non-null  float64\n",
      " 22  comp_dat_Mean     100000 non-null  float64\n",
      " 23  custcare_Mean     100000 non-null  float64\n",
      " 24  ccrndmou_Mean     100000 non-null  float64\n",
      " 25  cc_mou_Mean       100000 non-null  float64\n",
      " 26  inonemin_Mean     100000 non-null  float64\n",
      " 27  threeway_Mean     100000 non-null  float64\n",
      " 28  mou_cvce_Mean     100000 non-null  float64\n",
      " 29  mou_cdat_Mean     100000 non-null  float64\n",
      " 30  mou_rvce_Mean     100000 non-null  float64\n",
      " 31  owylis_vce_Mean   100000 non-null  float64\n",
      " 32  mouowylisv_Mean   100000 non-null  float64\n",
      " 33  iwylis_vce_Mean   100000 non-null  float64\n",
      " 34  mouiwylisv_Mean   100000 non-null  float64\n",
      " 35  peak_vce_Mean     100000 non-null  float64\n",
      " 36  peak_dat_Mean     100000 non-null  float64\n",
      " 37  mou_peav_Mean     100000 non-null  float64\n",
      " 38  mou_pead_Mean     100000 non-null  float64\n",
      " 39  opk_vce_Mean      100000 non-null  float64\n",
      " 40  opk_dat_Mean      100000 non-null  float64\n",
      " 41  mou_opkv_Mean     100000 non-null  float64\n",
      " 42  mou_opkd_Mean     100000 non-null  float64\n",
      " 43  drop_blk_Mean     100000 non-null  float64\n",
      " 44  attempt_Mean      100000 non-null  float64\n",
      " 45  complete_Mean     100000 non-null  float64\n",
      " 46  callfwdv_Mean     100000 non-null  float64\n",
      " 47  callwait_Mean     100000 non-null  float64\n",
      " 48  churn             100000 non-null  int64  \n",
      " 49  months            100000 non-null  int64  \n",
      " 50  uniqsubs          100000 non-null  int64  \n",
      " 51  actvsubs          100000 non-null  int64  \n",
      " 52  new_cell          100000 non-null  object \n",
      " 53  crclscod          100000 non-null  object \n",
      " 54  asl_flag          100000 non-null  object \n",
      " 55  totcalls          100000 non-null  int64  \n",
      " 56  totmou            100000 non-null  float64\n",
      " 57  totrev            100000 non-null  float64\n",
      " 58  adjrev            100000 non-null  float64\n",
      " 59  adjmou            100000 non-null  float64\n",
      " 60  adjqty            100000 non-null  int64  \n",
      " 61  avgrev            100000 non-null  float64\n",
      " 62  avgmou            100000 non-null  float64\n",
      " 63  avgqty            100000 non-null  float64\n",
      " 64  avg3mou           100000 non-null  int64  \n",
      " 65  avg3qty           100000 non-null  int64  \n",
      " 66  avg3rev           100000 non-null  int64  \n",
      " 67  avg6mou           97161 non-null   float64\n",
      " 68  avg6qty           97161 non-null   float64\n",
      " 69  avg6rev           97161 non-null   float64\n",
      " 70  prizm_social_one  92612 non-null   object \n",
      " 71  area              99960 non-null   object \n",
      " 72  dualband          99999 non-null   object \n",
      " 73  refurb_new        99999 non-null   object \n",
      " 74  hnd_price         99153 non-null   float64\n",
      " 75  phones            99999 non-null   float64\n",
      " 76  models            99999 non-null   float64\n",
      " 77  hnd_webcap        89811 non-null   object \n",
      " 78  truck             98268 non-null   float64\n",
      " 79  rv                98268 non-null   float64\n",
      " 80  ownrent           66294 non-null   object \n",
      " 81  lor               69810 non-null   float64\n",
      " 82  dwlltype          68091 non-null   object \n",
      " 83  marital           98268 non-null   object \n",
      " 84  adults            76981 non-null   float64\n",
      " 85  infobase          77921 non-null   object \n",
      " 86  income            74564 non-null   float64\n",
      " 87  numbcars          50634 non-null   float64\n",
      " 88  HHstatin          62077 non-null   object \n",
      " 89  dwllsize          61692 non-null   object \n",
      " 90  forgntvl          98268 non-null   float64\n",
      " 91  ethnic            98268 non-null   object \n",
      " 92  kid0_2            98268 non-null   object \n",
      " 93  kid3_5            98268 non-null   object \n",
      " 94  kid6_10           98268 non-null   object \n",
      " 95  kid11_15          98268 non-null   object \n",
      " 96  kid16_17          98268 non-null   object \n",
      " 97  creditcd          98268 non-null   object \n",
      " 98  eqpdays           99999 non-null   float64\n",
      " 99  Customer_ID       100000 non-null  int64  \n",
      "dtypes: float64(69), int64(10), object(21)\n",
      "memory usage: 76.3+ MB\n"
     ]
    }
   ],
   "source": [
    "data.info()"
   ]
  },
  {
   "cell_type": "markdown",
   "id": "f6c5ab17",
   "metadata": {},
   "source": [
    "# Посмотрим на целевую переменную"
   ]
  },
  {
   "cell_type": "code",
   "execution_count": 8,
   "id": "c6be3caa",
   "metadata": {},
   "outputs": [
    {
     "data": {
      "text/plain": [
       "0    50438\n",
       "1    49562\n",
       "Name: churn, dtype: int64"
      ]
     },
     "execution_count": 8,
     "metadata": {},
     "output_type": "execute_result"
    }
   ],
   "source": [
    "data.churn.value_counts()\n",
    "# Примерно одинаковое количество элементов"
   ]
  },
  {
   "cell_type": "code",
   "execution_count": 9,
   "id": "f38039f1",
   "metadata": {},
   "outputs": [
    {
     "name": "stdout",
     "output_type": "stream",
     "text": [
      "21\n"
     ]
    },
    {
     "data": {
      "text/html": [
       "<div>\n",
       "<style scoped>\n",
       "    .dataframe tbody tr th:only-of-type {\n",
       "        vertical-align: middle;\n",
       "    }\n",
       "\n",
       "    .dataframe tbody tr th {\n",
       "        vertical-align: top;\n",
       "    }\n",
       "\n",
       "    .dataframe thead th {\n",
       "        text-align: right;\n",
       "    }\n",
       "</style>\n",
       "<table border=\"1\" class=\"dataframe\">\n",
       "  <thead>\n",
       "    <tr style=\"text-align: right;\">\n",
       "      <th></th>\n",
       "      <th>new_cell</th>\n",
       "      <th>crclscod</th>\n",
       "      <th>asl_flag</th>\n",
       "      <th>prizm_social_one</th>\n",
       "      <th>area</th>\n",
       "      <th>dualband</th>\n",
       "      <th>refurb_new</th>\n",
       "      <th>hnd_webcap</th>\n",
       "      <th>ownrent</th>\n",
       "      <th>dwlltype</th>\n",
       "      <th>...</th>\n",
       "      <th>infobase</th>\n",
       "      <th>HHstatin</th>\n",
       "      <th>dwllsize</th>\n",
       "      <th>ethnic</th>\n",
       "      <th>kid0_2</th>\n",
       "      <th>kid3_5</th>\n",
       "      <th>kid6_10</th>\n",
       "      <th>kid11_15</th>\n",
       "      <th>kid16_17</th>\n",
       "      <th>creditcd</th>\n",
       "    </tr>\n",
       "  </thead>\n",
       "  <tbody>\n",
       "    <tr>\n",
       "      <th>0</th>\n",
       "      <td>U</td>\n",
       "      <td>A</td>\n",
       "      <td>N</td>\n",
       "      <td>S</td>\n",
       "      <td>NORTHWEST/ROCKY MOUNTAIN AREA</td>\n",
       "      <td>Y</td>\n",
       "      <td>N</td>\n",
       "      <td>WCMB</td>\n",
       "      <td>O</td>\n",
       "      <td>S</td>\n",
       "      <td>...</td>\n",
       "      <td>M</td>\n",
       "      <td>C</td>\n",
       "      <td>A</td>\n",
       "      <td>N</td>\n",
       "      <td>U</td>\n",
       "      <td>U</td>\n",
       "      <td>U</td>\n",
       "      <td>U</td>\n",
       "      <td>U</td>\n",
       "      <td>Y</td>\n",
       "    </tr>\n",
       "    <tr>\n",
       "      <th>1</th>\n",
       "      <td>N</td>\n",
       "      <td>EA</td>\n",
       "      <td>N</td>\n",
       "      <td>U</td>\n",
       "      <td>CHICAGO AREA</td>\n",
       "      <td>N</td>\n",
       "      <td>N</td>\n",
       "      <td>WC</td>\n",
       "      <td>NaN</td>\n",
       "      <td>S</td>\n",
       "      <td>...</td>\n",
       "      <td>M</td>\n",
       "      <td>C</td>\n",
       "      <td>A</td>\n",
       "      <td>Z</td>\n",
       "      <td>U</td>\n",
       "      <td>U</td>\n",
       "      <td>U</td>\n",
       "      <td>U</td>\n",
       "      <td>U</td>\n",
       "      <td>Y</td>\n",
       "    </tr>\n",
       "    <tr>\n",
       "      <th>2</th>\n",
       "      <td>Y</td>\n",
       "      <td>C</td>\n",
       "      <td>N</td>\n",
       "      <td>S</td>\n",
       "      <td>GREAT LAKES AREA</td>\n",
       "      <td>N</td>\n",
       "      <td>N</td>\n",
       "      <td>NaN</td>\n",
       "      <td>O</td>\n",
       "      <td>S</td>\n",
       "      <td>...</td>\n",
       "      <td>M</td>\n",
       "      <td>C</td>\n",
       "      <td>A</td>\n",
       "      <td>N</td>\n",
       "      <td>U</td>\n",
       "      <td>Y</td>\n",
       "      <td>U</td>\n",
       "      <td>U</td>\n",
       "      <td>U</td>\n",
       "      <td>Y</td>\n",
       "    </tr>\n",
       "    <tr>\n",
       "      <th>3</th>\n",
       "      <td>Y</td>\n",
       "      <td>B</td>\n",
       "      <td>N</td>\n",
       "      <td>T</td>\n",
       "      <td>CHICAGO AREA</td>\n",
       "      <td>N</td>\n",
       "      <td>N</td>\n",
       "      <td>NaN</td>\n",
       "      <td>NaN</td>\n",
       "      <td>M</td>\n",
       "      <td>...</td>\n",
       "      <td>M</td>\n",
       "      <td>C</td>\n",
       "      <td>D</td>\n",
       "      <td>U</td>\n",
       "      <td>Y</td>\n",
       "      <td>U</td>\n",
       "      <td>U</td>\n",
       "      <td>U</td>\n",
       "      <td>U</td>\n",
       "      <td>Y</td>\n",
       "    </tr>\n",
       "    <tr>\n",
       "      <th>4</th>\n",
       "      <td>Y</td>\n",
       "      <td>A</td>\n",
       "      <td>N</td>\n",
       "      <td>U</td>\n",
       "      <td>NEW ENGLAND AREA</td>\n",
       "      <td>Y</td>\n",
       "      <td>N</td>\n",
       "      <td>WCMB</td>\n",
       "      <td>R</td>\n",
       "      <td>M</td>\n",
       "      <td>...</td>\n",
       "      <td>M</td>\n",
       "      <td>C</td>\n",
       "      <td>O</td>\n",
       "      <td>I</td>\n",
       "      <td>U</td>\n",
       "      <td>U</td>\n",
       "      <td>U</td>\n",
       "      <td>U</td>\n",
       "      <td>U</td>\n",
       "      <td>Y</td>\n",
       "    </tr>\n",
       "    <tr>\n",
       "      <th>...</th>\n",
       "      <td>...</td>\n",
       "      <td>...</td>\n",
       "      <td>...</td>\n",
       "      <td>...</td>\n",
       "      <td>...</td>\n",
       "      <td>...</td>\n",
       "      <td>...</td>\n",
       "      <td>...</td>\n",
       "      <td>...</td>\n",
       "      <td>...</td>\n",
       "      <td>...</td>\n",
       "      <td>...</td>\n",
       "      <td>...</td>\n",
       "      <td>...</td>\n",
       "      <td>...</td>\n",
       "      <td>...</td>\n",
       "      <td>...</td>\n",
       "      <td>...</td>\n",
       "      <td>...</td>\n",
       "      <td>...</td>\n",
       "      <td>...</td>\n",
       "    </tr>\n",
       "    <tr>\n",
       "      <th>99995</th>\n",
       "      <td>U</td>\n",
       "      <td>B</td>\n",
       "      <td>N</td>\n",
       "      <td>U</td>\n",
       "      <td>LOS ANGELES AREA</td>\n",
       "      <td>N</td>\n",
       "      <td>N</td>\n",
       "      <td>WC</td>\n",
       "      <td>O</td>\n",
       "      <td>S</td>\n",
       "      <td>...</td>\n",
       "      <td>M</td>\n",
       "      <td>NaN</td>\n",
       "      <td>A</td>\n",
       "      <td>S</td>\n",
       "      <td>U</td>\n",
       "      <td>U</td>\n",
       "      <td>U</td>\n",
       "      <td>Y</td>\n",
       "      <td>U</td>\n",
       "      <td>Y</td>\n",
       "    </tr>\n",
       "    <tr>\n",
       "      <th>99996</th>\n",
       "      <td>U</td>\n",
       "      <td>CY</td>\n",
       "      <td>Y</td>\n",
       "      <td>S</td>\n",
       "      <td>LOS ANGELES AREA</td>\n",
       "      <td>N</td>\n",
       "      <td>N</td>\n",
       "      <td>WC</td>\n",
       "      <td>O</td>\n",
       "      <td>S</td>\n",
       "      <td>...</td>\n",
       "      <td>M</td>\n",
       "      <td>I</td>\n",
       "      <td>A</td>\n",
       "      <td>N</td>\n",
       "      <td>U</td>\n",
       "      <td>U</td>\n",
       "      <td>Y</td>\n",
       "      <td>Y</td>\n",
       "      <td>Y</td>\n",
       "      <td>Y</td>\n",
       "    </tr>\n",
       "    <tr>\n",
       "      <th>99997</th>\n",
       "      <td>U</td>\n",
       "      <td>DA</td>\n",
       "      <td>N</td>\n",
       "      <td>U</td>\n",
       "      <td>SOUTHWEST AREA</td>\n",
       "      <td>Y</td>\n",
       "      <td>N</td>\n",
       "      <td>WCMB</td>\n",
       "      <td>NaN</td>\n",
       "      <td>NaN</td>\n",
       "      <td>...</td>\n",
       "      <td>M</td>\n",
       "      <td>NaN</td>\n",
       "      <td>NaN</td>\n",
       "      <td>U</td>\n",
       "      <td>Y</td>\n",
       "      <td>Y</td>\n",
       "      <td>U</td>\n",
       "      <td>U</td>\n",
       "      <td>U</td>\n",
       "      <td>N</td>\n",
       "    </tr>\n",
       "    <tr>\n",
       "      <th>99998</th>\n",
       "      <td>U</td>\n",
       "      <td>EA</td>\n",
       "      <td>N</td>\n",
       "      <td>U</td>\n",
       "      <td>SOUTHWEST AREA</td>\n",
       "      <td>Y</td>\n",
       "      <td>N</td>\n",
       "      <td>WCMB</td>\n",
       "      <td>NaN</td>\n",
       "      <td>NaN</td>\n",
       "      <td>...</td>\n",
       "      <td>NaN</td>\n",
       "      <td>NaN</td>\n",
       "      <td>NaN</td>\n",
       "      <td>S</td>\n",
       "      <td>U</td>\n",
       "      <td>U</td>\n",
       "      <td>U</td>\n",
       "      <td>U</td>\n",
       "      <td>U</td>\n",
       "      <td>N</td>\n",
       "    </tr>\n",
       "    <tr>\n",
       "      <th>99999</th>\n",
       "      <td>U</td>\n",
       "      <td>B</td>\n",
       "      <td>N</td>\n",
       "      <td>S</td>\n",
       "      <td>LOS ANGELES AREA</td>\n",
       "      <td>Y</td>\n",
       "      <td>N</td>\n",
       "      <td>WCMB</td>\n",
       "      <td>NaN</td>\n",
       "      <td>S</td>\n",
       "      <td>...</td>\n",
       "      <td>M</td>\n",
       "      <td>NaN</td>\n",
       "      <td>A</td>\n",
       "      <td>H</td>\n",
       "      <td>U</td>\n",
       "      <td>U</td>\n",
       "      <td>U</td>\n",
       "      <td>U</td>\n",
       "      <td>U</td>\n",
       "      <td>N</td>\n",
       "    </tr>\n",
       "  </tbody>\n",
       "</table>\n",
       "<p>100000 rows × 21 columns</p>\n",
       "</div>"
      ],
      "text/plain": [
       "      new_cell crclscod asl_flag prizm_social_one  \\\n",
       "0            U        A        N                S   \n",
       "1            N       EA        N                U   \n",
       "2            Y        C        N                S   \n",
       "3            Y        B        N                T   \n",
       "4            Y        A        N                U   \n",
       "...        ...      ...      ...              ...   \n",
       "99995        U        B        N                U   \n",
       "99996        U       CY        Y                S   \n",
       "99997        U       DA        N                U   \n",
       "99998        U       EA        N                U   \n",
       "99999        U        B        N                S   \n",
       "\n",
       "                                area dualband refurb_new hnd_webcap ownrent  \\\n",
       "0      NORTHWEST/ROCKY MOUNTAIN AREA        Y          N       WCMB       O   \n",
       "1                       CHICAGO AREA        N          N         WC     NaN   \n",
       "2                   GREAT LAKES AREA        N          N        NaN       O   \n",
       "3                       CHICAGO AREA        N          N        NaN     NaN   \n",
       "4                   NEW ENGLAND AREA        Y          N       WCMB       R   \n",
       "...                              ...      ...        ...        ...     ...   \n",
       "99995               LOS ANGELES AREA        N          N         WC       O   \n",
       "99996               LOS ANGELES AREA        N          N         WC       O   \n",
       "99997                 SOUTHWEST AREA        Y          N       WCMB     NaN   \n",
       "99998                 SOUTHWEST AREA        Y          N       WCMB     NaN   \n",
       "99999               LOS ANGELES AREA        Y          N       WCMB     NaN   \n",
       "\n",
       "      dwlltype  ... infobase HHstatin dwllsize ethnic kid0_2 kid3_5 kid6_10  \\\n",
       "0            S  ...        M        C        A      N      U      U       U   \n",
       "1            S  ...        M        C        A      Z      U      U       U   \n",
       "2            S  ...        M        C        A      N      U      Y       U   \n",
       "3            M  ...        M        C        D      U      Y      U       U   \n",
       "4            M  ...        M        C        O      I      U      U       U   \n",
       "...        ...  ...      ...      ...      ...    ...    ...    ...     ...   \n",
       "99995        S  ...        M      NaN        A      S      U      U       U   \n",
       "99996        S  ...        M        I        A      N      U      U       Y   \n",
       "99997      NaN  ...        M      NaN      NaN      U      Y      Y       U   \n",
       "99998      NaN  ...      NaN      NaN      NaN      S      U      U       U   \n",
       "99999        S  ...        M      NaN        A      H      U      U       U   \n",
       "\n",
       "      kid11_15 kid16_17 creditcd  \n",
       "0            U        U        Y  \n",
       "1            U        U        Y  \n",
       "2            U        U        Y  \n",
       "3            U        U        Y  \n",
       "4            U        U        Y  \n",
       "...        ...      ...      ...  \n",
       "99995        Y        U        Y  \n",
       "99996        Y        Y        Y  \n",
       "99997        U        U        N  \n",
       "99998        U        U        N  \n",
       "99999        U        U        N  \n",
       "\n",
       "[100000 rows x 21 columns]"
      ]
     },
     "execution_count": 9,
     "metadata": {},
     "output_type": "execute_result"
    }
   ],
   "source": [
    "# All string columns\n",
    "obj_col = list(data.select_dtypes(['object']).columns)\n",
    "print(len(obj_col))\n",
    "data[obj_col]"
   ]
  },
  {
   "cell_type": "markdown",
   "id": "165cfac9",
   "metadata": {},
   "source": [
    "# Find and count all NaN values"
   ]
  },
  {
   "cell_type": "code",
   "execution_count": 10,
   "id": "e870b87b",
   "metadata": {},
   "outputs": [
    {
     "name": "stdout",
     "output_type": "stream",
     "text": [
      "[357, 357, 357, 357, 357, 357, 357, 357, 357, 891, 891, 0, 0, 0, 0, 0, 0, 0, 0, 0, 0, 0, 0, 0, 0, 0, 0, 0, 0, 0, 0, 0, 0, 0, 0, 0, 0, 0, 0, 0, 0, 0, 0, 0, 0, 0, 0, 0, 0, 0, 0, 0, 0, 0, 0, 0, 0, 0, 0, 0, 0, 0, 0, 0, 0, 0, 0, 2839, 2839, 2839, 7388, 40, 1, 1, 847, 1, 1, 10189, 1732, 1732, 33706, 30190, 31909, 1732, 23019, 22079, 25436, 49366, 37923, 38308, 1732, 1732, 1732, 1732, 1732, 1732, 1732, 1732, 1, 0]\n"
     ]
    },
    {
     "data": {
      "text/plain": [
       "<BarContainer object of 100 artists>"
      ]
     },
     "execution_count": 10,
     "metadata": {},
     "output_type": "execute_result"
    },
    {
     "data": {
      "image/png": "[encoded data removed]",
      "text/plain": [
       "<Figure size 432x288 with 1 Axes>"
      ]
     },
     "metadata": {
      "needs_background": "light"
     },
     "output_type": "display_data"
    }
   ],
   "source": [
    "none_counts = []\n",
    "for item in data.columns:\n",
    "    none_counts.append(data[item].isna().sum())\n",
    "print(none_counts)\n",
    "plt.bar(data.columns, none_counts)"
   ]
  },
  {
   "cell_type": "code",
   "execution_count": 11,
   "id": "97b8c1ec",
   "metadata": {},
   "outputs": [
    {
     "data": {
      "text/plain": [
       "['new_cell',\n",
       " 'crclscod',\n",
       " 'asl_flag',\n",
       " 'prizm_social_one',\n",
       " 'area',\n",
       " 'dualband',\n",
       " 'refurb_new',\n",
       " 'hnd_webcap',\n",
       " 'ownrent',\n",
       " 'dwlltype',\n",
       " 'marital',\n",
       " 'infobase',\n",
       " 'HHstatin',\n",
       " 'dwllsize',\n",
       " 'ethnic',\n",
       " 'kid0_2',\n",
       " 'kid3_5',\n",
       " 'kid6_10',\n",
       " 'kid11_15',\n",
       " 'kid16_17',\n",
       " 'creditcd']"
      ]
     },
     "execution_count": 11,
     "metadata": {},
     "output_type": "execute_result"
    }
   ],
   "source": [
    "obj_col"
   ]
  },
  {
   "cell_type": "markdown",
   "id": "845cff22",
   "metadata": {},
   "source": [
    "# One hot encoding"
   ]
  },
  {
   "cell_type": "code",
   "execution_count": 12,
   "id": "a57bee06",
   "metadata": {},
   "outputs": [],
   "source": [
    "data = pd.get_dummies(data)"
   ]
  },
  {
   "cell_type": "code",
   "execution_count": 13,
   "id": "b42cc03e",
   "metadata": {},
   "outputs": [
    {
     "data": {
      "text/plain": [
       "(100000, 232)"
      ]
     },
     "execution_count": 13,
     "metadata": {},
     "output_type": "execute_result"
    }
   ],
   "source": [
    "data.shape"
   ]
  },
  {
   "cell_type": "code",
   "execution_count": 14,
   "id": "31687943",
   "metadata": {},
   "outputs": [
    {
     "name": "stdout",
     "output_type": "stream",
     "text": [
      "[357, 357, 357, 357, 357, 357, 357, 357, 357, 891, 891, 0, 0, 0, 0, 0, 0, 0, 0, 0, 0, 0, 0, 0, 0, 0, 0, 0, 0, 0, 0, 0, 0, 0, 0, 0, 0, 0, 0, 0, 0, 0, 0, 0, 0, 0, 0, 0, 0, 0, 0, 0, 0, 0, 0, 0, 0, 0, 0, 0, 0, 0, 0, 0, 2839, 2839, 2839, 847, 1, 1, 1732, 1732, 30190, 23019, 25436, 49366, 1732, 1, 0, 0, 0, 0, 0, 0, 0, 0, 0, 0, 0, 0, 0, 0, 0, 0, 0, 0, 0, 0, 0, 0, 0, 0, 0, 0, 0, 0, 0, 0, 0, 0, 0, 0, 0, 0, 0, 0, 0, 0, 0, 0, 0, 0, 0, 0, 0, 0, 0, 0, 0, 0, 0, 0, 0, 0, 0, 0, 0, 0, 0, 0, 0, 0, 0, 0, 0, 0, 0, 0, 0, 0, 0, 0, 0, 0, 0, 0, 0, 0, 0, 0, 0, 0, 0, 0, 0, 0, 0, 0, 0, 0, 0, 0, 0, 0, 0, 0, 0, 0, 0, 0, 0, 0, 0, 0, 0, 0, 0, 0, 0, 0, 0, 0, 0, 0, 0, 0, 0, 0, 0, 0, 0, 0, 0, 0, 0, 0, 0, 0, 0, 0, 0, 0, 0, 0, 0, 0, 0, 0, 0, 0, 0, 0, 0, 0, 0, 0, 0, 0, 0, 0, 0, 0]\n"
     ]
    },
    {
     "data": {
      "image/png": "[encoded data removed]",
      "text/plain": [
       "<Figure size 432x288 with 1 Axes>"
      ]
     },
     "metadata": {
      "needs_background": "light"
     },
     "output_type": "display_data"
    }
   ],
   "source": [
    "none_counts = []\n",
    "for item in data.columns:\n",
    "    none_counts.append(data[item].isna().sum())\n",
    "print(none_counts)\n",
    "plt.bar(data.columns, none_counts)\n",
    "plt.ylabel('count of NaN values')\n",
    "plt.show()"
   ]
  },
  {
   "cell_type": "code",
   "execution_count": 15,
   "id": "a5811afa",
   "metadata": {},
   "outputs": [
    {
     "name": "stdout",
     "output_type": "stream",
     "text": [
      "float64\n"
     ]
    },
    {
     "data": {
      "text/plain": [
       "count    50634.000000\n",
       "mean         1.567563\n",
       "std          0.625456\n",
       "min          1.000000\n",
       "25%          1.000000\n",
       "50%          1.000000\n",
       "75%          2.000000\n",
       "max          3.000000\n",
       "Name: numbcars, dtype: float64"
      ]
     },
     "execution_count": 15,
     "metadata": {},
     "output_type": "execute_result"
    }
   ],
   "source": [
    "ind_of_max_none = none_counts.index(max(none_counts))\n",
    "column_lots_of_none = data.columns[75]\n",
    "print(data[column_lots_of_none].dtype)\n",
    "data[column_lots_of_none].describe()"
   ]
  },
  {
   "cell_type": "code",
   "execution_count": 16,
   "id": "eedbdb84",
   "metadata": {},
   "outputs": [
    {
     "data": {
      "text/html": [
       "<div>\n",
       "<style scoped>\n",
       "    .dataframe tbody tr th:only-of-type {\n",
       "        vertical-align: middle;\n",
       "    }\n",
       "\n",
       "    .dataframe tbody tr th {\n",
       "        vertical-align: top;\n",
       "    }\n",
       "\n",
       "    .dataframe thead th {\n",
       "        text-align: right;\n",
       "    }\n",
       "</style>\n",
       "<table border=\"1\" class=\"dataframe\">\n",
       "  <thead>\n",
       "    <tr style=\"text-align: right;\">\n",
       "      <th></th>\n",
       "      <th>rev_Mean</th>\n",
       "      <th>mou_Mean</th>\n",
       "      <th>totmrc_Mean</th>\n",
       "      <th>da_Mean</th>\n",
       "      <th>ovrmou_Mean</th>\n",
       "      <th>ovrrev_Mean</th>\n",
       "      <th>vceovr_Mean</th>\n",
       "      <th>datovr_Mean</th>\n",
       "      <th>roam_Mean</th>\n",
       "      <th>change_mou</th>\n",
       "      <th>...</th>\n",
       "      <th>new_cell_U</th>\n",
       "      <th>new_cell_Y</th>\n",
       "      <th>crclscod_A</th>\n",
       "      <th>crclscod_A2</th>\n",
       "      <th>crclscod_A3</th>\n",
       "      <th>crclscod_AA</th>\n",
       "      <th>crclscod_B</th>\n",
       "      <th>crclscod_B2</th>\n",
       "      <th>crclscod_BA</th>\n",
       "      <th>crclscod_C</th>\n",
       "    </tr>\n",
       "  </thead>\n",
       "  <tbody>\n",
       "    <tr>\n",
       "      <th>count</th>\n",
       "      <td>99643.000000</td>\n",
       "      <td>99643.000000</td>\n",
       "      <td>99643.000000</td>\n",
       "      <td>99643.000000</td>\n",
       "      <td>99643.000000</td>\n",
       "      <td>99643.000000</td>\n",
       "      <td>99643.000000</td>\n",
       "      <td>99643.000000</td>\n",
       "      <td>99643.000000</td>\n",
       "      <td>99109.000000</td>\n",
       "      <td>...</td>\n",
       "      <td>100000.000000</td>\n",
       "      <td>100000.000000</td>\n",
       "      <td>100000.00000</td>\n",
       "      <td>100000.00000</td>\n",
       "      <td>100000.000000</td>\n",
       "      <td>100000.000000</td>\n",
       "      <td>100000.000000</td>\n",
       "      <td>100000.000000</td>\n",
       "      <td>100000.000000</td>\n",
       "      <td>100000.000000</td>\n",
       "    </tr>\n",
       "    <tr>\n",
       "      <th>mean</th>\n",
       "      <td>58.719985</td>\n",
       "      <td>513.559937</td>\n",
       "      <td>46.179136</td>\n",
       "      <td>0.888828</td>\n",
       "      <td>41.072247</td>\n",
       "      <td>13.559560</td>\n",
       "      <td>13.295062</td>\n",
       "      <td>0.261318</td>\n",
       "      <td>1.286405</td>\n",
       "      <td>-13.933818</td>\n",
       "      <td>...</td>\n",
       "      <td>0.669140</td>\n",
       "      <td>0.193010</td>\n",
       "      <td>0.16996</td>\n",
       "      <td>0.00861</td>\n",
       "      <td>0.000030</td>\n",
       "      <td>0.365090</td>\n",
       "      <td>0.041100</td>\n",
       "      <td>0.001090</td>\n",
       "      <td>0.126670</td>\n",
       "      <td>0.014560</td>\n",
       "    </tr>\n",
       "    <tr>\n",
       "      <th>std</th>\n",
       "      <td>46.291677</td>\n",
       "      <td>525.168140</td>\n",
       "      <td>23.623489</td>\n",
       "      <td>2.177619</td>\n",
       "      <td>97.296150</td>\n",
       "      <td>30.500885</td>\n",
       "      <td>30.056089</td>\n",
       "      <td>3.126531</td>\n",
       "      <td>14.711374</td>\n",
       "      <td>276.087509</td>\n",
       "      <td>...</td>\n",
       "      <td>0.470525</td>\n",
       "      <td>0.394663</td>\n",
       "      <td>0.37560</td>\n",
       "      <td>0.09239</td>\n",
       "      <td>0.005477</td>\n",
       "      <td>0.481458</td>\n",
       "      <td>0.198523</td>\n",
       "      <td>0.032997</td>\n",
       "      <td>0.332605</td>\n",
       "      <td>0.119784</td>\n",
       "    </tr>\n",
       "    <tr>\n",
       "      <th>min</th>\n",
       "      <td>-6.167500</td>\n",
       "      <td>0.000000</td>\n",
       "      <td>-26.915000</td>\n",
       "      <td>0.000000</td>\n",
       "      <td>0.000000</td>\n",
       "      <td>0.000000</td>\n",
       "      <td>0.000000</td>\n",
       "      <td>0.000000</td>\n",
       "      <td>0.000000</td>\n",
       "      <td>-3875.000000</td>\n",
       "      <td>...</td>\n",
       "      <td>0.000000</td>\n",
       "      <td>0.000000</td>\n",
       "      <td>0.00000</td>\n",
       "      <td>0.00000</td>\n",
       "      <td>0.000000</td>\n",
       "      <td>0.000000</td>\n",
       "      <td>0.000000</td>\n",
       "      <td>0.000000</td>\n",
       "      <td>0.000000</td>\n",
       "      <td>0.000000</td>\n",
       "    </tr>\n",
       "    <tr>\n",
       "      <th>25%</th>\n",
       "      <td>33.260000</td>\n",
       "      <td>150.750000</td>\n",
       "      <td>30.000000</td>\n",
       "      <td>0.000000</td>\n",
       "      <td>0.000000</td>\n",
       "      <td>0.000000</td>\n",
       "      <td>0.000000</td>\n",
       "      <td>0.000000</td>\n",
       "      <td>0.000000</td>\n",
       "      <td>-87.000000</td>\n",
       "      <td>...</td>\n",
       "      <td>0.000000</td>\n",
       "      <td>0.000000</td>\n",
       "      <td>0.00000</td>\n",
       "      <td>0.00000</td>\n",
       "      <td>0.000000</td>\n",
       "      <td>0.000000</td>\n",
       "      <td>0.000000</td>\n",
       "      <td>0.000000</td>\n",
       "      <td>0.000000</td>\n",
       "      <td>0.000000</td>\n",
       "    </tr>\n",
       "    <tr>\n",
       "      <th>50%</th>\n",
       "      <td>48.195000</td>\n",
       "      <td>355.500000</td>\n",
       "      <td>44.990000</td>\n",
       "      <td>0.247500</td>\n",
       "      <td>2.750000</td>\n",
       "      <td>1.000000</td>\n",
       "      <td>0.682500</td>\n",
       "      <td>0.000000</td>\n",
       "      <td>0.000000</td>\n",
       "      <td>-6.250000</td>\n",
       "      <td>...</td>\n",
       "      <td>1.000000</td>\n",
       "      <td>0.000000</td>\n",
       "      <td>0.00000</td>\n",
       "      <td>0.00000</td>\n",
       "      <td>0.000000</td>\n",
       "      <td>0.000000</td>\n",
       "      <td>0.000000</td>\n",
       "      <td>0.000000</td>\n",
       "      <td>0.000000</td>\n",
       "      <td>0.000000</td>\n",
       "    </tr>\n",
       "    <tr>\n",
       "      <th>75%</th>\n",
       "      <td>70.750000</td>\n",
       "      <td>703.000000</td>\n",
       "      <td>59.990000</td>\n",
       "      <td>0.990000</td>\n",
       "      <td>42.000000</td>\n",
       "      <td>14.437500</td>\n",
       "      <td>14.025000</td>\n",
       "      <td>0.000000</td>\n",
       "      <td>0.235000</td>\n",
       "      <td>63.000000</td>\n",
       "      <td>...</td>\n",
       "      <td>1.000000</td>\n",
       "      <td>0.000000</td>\n",
       "      <td>0.00000</td>\n",
       "      <td>0.00000</td>\n",
       "      <td>0.000000</td>\n",
       "      <td>1.000000</td>\n",
       "      <td>0.000000</td>\n",
       "      <td>0.000000</td>\n",
       "      <td>0.000000</td>\n",
       "      <td>0.000000</td>\n",
       "    </tr>\n",
       "    <tr>\n",
       "      <th>max</th>\n",
       "      <td>3843.262500</td>\n",
       "      <td>12206.750000</td>\n",
       "      <td>409.990000</td>\n",
       "      <td>159.390000</td>\n",
       "      <td>4320.750000</td>\n",
       "      <td>1102.400000</td>\n",
       "      <td>896.087500</td>\n",
       "      <td>423.540000</td>\n",
       "      <td>3685.200000</td>\n",
       "      <td>31219.250000</td>\n",
       "      <td>...</td>\n",
       "      <td>1.000000</td>\n",
       "      <td>1.000000</td>\n",
       "      <td>1.00000</td>\n",
       "      <td>1.00000</td>\n",
       "      <td>1.000000</td>\n",
       "      <td>1.000000</td>\n",
       "      <td>1.000000</td>\n",
       "      <td>1.000000</td>\n",
       "      <td>1.000000</td>\n",
       "      <td>1.000000</td>\n",
       "    </tr>\n",
       "  </tbody>\n",
       "</table>\n",
       "<p>8 rows × 90 columns</p>\n",
       "</div>"
      ],
      "text/plain": [
       "           rev_Mean      mou_Mean   totmrc_Mean       da_Mean   ovrmou_Mean  \\\n",
       "count  99643.000000  99643.000000  99643.000000  99643.000000  99643.000000   \n",
       "mean      58.719985    513.559937     46.179136      0.888828     41.072247   \n",
       "std       46.291677    525.168140     23.623489      2.177619     97.296150   \n",
       "min       -6.167500      0.000000    -26.915000      0.000000      0.000000   \n",
       "25%       33.260000    150.750000     30.000000      0.000000      0.000000   \n",
       "50%       48.195000    355.500000     44.990000      0.247500      2.750000   \n",
       "75%       70.750000    703.000000     59.990000      0.990000     42.000000   \n",
       "max     3843.262500  12206.750000    409.990000    159.390000   4320.750000   \n",
       "\n",
       "        ovrrev_Mean   vceovr_Mean   datovr_Mean     roam_Mean    change_mou  \\\n",
       "count  99643.000000  99643.000000  99643.000000  99643.000000  99109.000000   \n",
       "mean      13.559560     13.295062      0.261318      1.286405    -13.933818   \n",
       "std       30.500885     30.056089      3.126531     14.711374    276.087509   \n",
       "min        0.000000      0.000000      0.000000      0.000000  -3875.000000   \n",
       "25%        0.000000      0.000000      0.000000      0.000000    -87.000000   \n",
       "50%        1.000000      0.682500      0.000000      0.000000     -6.250000   \n",
       "75%       14.437500     14.025000      0.000000      0.235000     63.000000   \n",
       "max     1102.400000    896.087500    423.540000   3685.200000  31219.250000   \n",
       "\n",
       "       ...     new_cell_U     new_cell_Y    crclscod_A   crclscod_A2  \\\n",
       "count  ...  100000.000000  100000.000000  100000.00000  100000.00000   \n",
       "mean   ...       0.669140       0.193010       0.16996       0.00861   \n",
       "std    ...       0.470525       0.394663       0.37560       0.09239   \n",
       "min    ...       0.000000       0.000000       0.00000       0.00000   \n",
       "25%    ...       0.000000       0.000000       0.00000       0.00000   \n",
       "50%    ...       1.000000       0.000000       0.00000       0.00000   \n",
       "75%    ...       1.000000       0.000000       0.00000       0.00000   \n",
       "max    ...       1.000000       1.000000       1.00000       1.00000   \n",
       "\n",
       "         crclscod_A3    crclscod_AA     crclscod_B    crclscod_B2  \\\n",
       "count  100000.000000  100000.000000  100000.000000  100000.000000   \n",
       "mean        0.000030       0.365090       0.041100       0.001090   \n",
       "std         0.005477       0.481458       0.198523       0.032997   \n",
       "min         0.000000       0.000000       0.000000       0.000000   \n",
       "25%         0.000000       0.000000       0.000000       0.000000   \n",
       "50%         0.000000       0.000000       0.000000       0.000000   \n",
       "75%         0.000000       1.000000       0.000000       0.000000   \n",
       "max         1.000000       1.000000       1.000000       1.000000   \n",
       "\n",
       "         crclscod_BA     crclscod_C  \n",
       "count  100000.000000  100000.000000  \n",
       "mean        0.126670       0.014560  \n",
       "std         0.332605       0.119784  \n",
       "min         0.000000       0.000000  \n",
       "25%         0.000000       0.000000  \n",
       "50%         0.000000       0.000000  \n",
       "75%         0.000000       0.000000  \n",
       "max         1.000000       1.000000  \n",
       "\n",
       "[8 rows x 90 columns]"
      ]
     },
     "execution_count": 16,
     "metadata": {},
     "output_type": "execute_result"
    }
   ],
   "source": [
    "data.iloc[:,:90].describe()"
   ]
  },
  {
   "cell_type": "markdown",
   "id": "72f23d0c",
   "metadata": {},
   "source": [
    "# Lets check columns with large number of NaN"
   ]
  },
  {
   "cell_type": "markdown",
   "id": "2e0c0928",
   "metadata": {},
   "source": []
  },
  {
   "cell_type": "code",
   "execution_count": 17,
   "id": "21a37def",
   "metadata": {},
   "outputs": [],
   "source": [
    "# Create a new column 'numbcars_NaN'\n",
    "# If there is no value in the \"numbcars\" column, then = 0 and yes value = 1\n",
    "column_max_none = data.columns[ind_of_max_none]\n",
    "data[column_max_none+'_NaN'] = np.where(data[column_max_none].isnull(), 0,1)"
   ]
  },
  {
   "cell_type": "code",
   "execution_count": 18,
   "id": "cb30c29c",
   "metadata": {},
   "outputs": [
    {
     "data": {
      "text/html": [
       "<div>\n",
       "<style scoped>\n",
       "    .dataframe tbody tr th:only-of-type {\n",
       "        vertical-align: middle;\n",
       "    }\n",
       "\n",
       "    .dataframe tbody tr th {\n",
       "        vertical-align: top;\n",
       "    }\n",
       "\n",
       "    .dataframe thead th {\n",
       "        text-align: right;\n",
       "    }\n",
       "</style>\n",
       "<table border=\"1\" class=\"dataframe\">\n",
       "  <thead>\n",
       "    <tr style=\"text-align: right;\">\n",
       "      <th></th>\n",
       "      <th>numbcars</th>\n",
       "      <th>numbcars_NaN</th>\n",
       "    </tr>\n",
       "  </thead>\n",
       "  <tbody>\n",
       "    <tr>\n",
       "      <th>0</th>\n",
       "      <td>3.0</td>\n",
       "      <td>1</td>\n",
       "    </tr>\n",
       "    <tr>\n",
       "      <th>1</th>\n",
       "      <td>1.0</td>\n",
       "      <td>1</td>\n",
       "    </tr>\n",
       "    <tr>\n",
       "      <th>2</th>\n",
       "      <td>2.0</td>\n",
       "      <td>1</td>\n",
       "    </tr>\n",
       "    <tr>\n",
       "      <th>3</th>\n",
       "      <td>1.0</td>\n",
       "      <td>1</td>\n",
       "    </tr>\n",
       "    <tr>\n",
       "      <th>4</th>\n",
       "      <td>1.0</td>\n",
       "      <td>1</td>\n",
       "    </tr>\n",
       "    <tr>\n",
       "      <th>...</th>\n",
       "      <td>...</td>\n",
       "      <td>...</td>\n",
       "    </tr>\n",
       "    <tr>\n",
       "      <th>99995</th>\n",
       "      <td>2.0</td>\n",
       "      <td>1</td>\n",
       "    </tr>\n",
       "    <tr>\n",
       "      <th>99996</th>\n",
       "      <td>2.0</td>\n",
       "      <td>1</td>\n",
       "    </tr>\n",
       "    <tr>\n",
       "      <th>99997</th>\n",
       "      <td>NaN</td>\n",
       "      <td>0</td>\n",
       "    </tr>\n",
       "    <tr>\n",
       "      <th>99998</th>\n",
       "      <td>NaN</td>\n",
       "      <td>0</td>\n",
       "    </tr>\n",
       "    <tr>\n",
       "      <th>99999</th>\n",
       "      <td>NaN</td>\n",
       "      <td>0</td>\n",
       "    </tr>\n",
       "  </tbody>\n",
       "</table>\n",
       "<p>100000 rows × 2 columns</p>\n",
       "</div>"
      ],
      "text/plain": [
       "       numbcars  numbcars_NaN\n",
       "0           3.0             1\n",
       "1           1.0             1\n",
       "2           2.0             1\n",
       "3           1.0             1\n",
       "4           1.0             1\n",
       "...         ...           ...\n",
       "99995       2.0             1\n",
       "99996       2.0             1\n",
       "99997       NaN             0\n",
       "99998       NaN             0\n",
       "99999       NaN             0\n",
       "\n",
       "[100000 rows x 2 columns]"
      ]
     },
     "execution_count": 18,
     "metadata": {},
     "output_type": "execute_result"
    }
   ],
   "source": [
    "data[[column_max_none,column_max_none+'_NaN' ]]"
   ]
  },
  {
   "cell_type": "code",
   "execution_count": 19,
   "id": "b0c83ab5",
   "metadata": {},
   "outputs": [
    {
     "data": {
      "text/plain": [
       "1    50634\n",
       "0    49366\n",
       "Name: numbcars_NaN, dtype: int64"
      ]
     },
     "execution_count": 19,
     "metadata": {},
     "output_type": "execute_result"
    }
   ],
   "source": [
    "data['numbcars_NaN'].value_counts()"
   ]
  },
  {
   "cell_type": "code",
   "execution_count": 20,
   "id": "f3a461af",
   "metadata": {},
   "outputs": [
    {
     "data": {
      "text/plain": [
       "numbcars_NaN  churn\n",
       "0             1        0.502330\n",
       "              0        0.497670\n",
       "1             0        0.510922\n",
       "              1        0.489078\n",
       "Name: churn, dtype: float64"
      ]
     },
     "execution_count": 20,
     "metadata": {},
     "output_type": "execute_result"
    }
   ],
   "source": [
    "# Churn passengers by 'numbcars_NaN'\n",
    "data.groupby(['numbcars_NaN']) ['churn'].value_counts(normalize=True)"
   ]
  },
  {
   "cell_type": "markdown",
   "id": "614e202b",
   "metadata": {},
   "source": [
    "# Most likely there is no correlation between churn and numbercars"
   ]
  },
  {
   "cell_type": "code",
   "execution_count": null,
   "id": "0154b46b",
   "metadata": {},
   "outputs": [],
   "source": []
  },
  {
   "cell_type": "code",
   "execution_count": null,
   "id": "53f4a528",
   "metadata": {},
   "outputs": [],
   "source": []
  },
  {
   "cell_type": "code",
   "execution_count": null,
   "id": "3cad1132",
   "metadata": {},
   "outputs": [],
   "source": []
  },
  {
   "cell_type": "code",
   "execution_count": 21,
   "id": "23e674b9",
   "metadata": {},
   "outputs": [],
   "source": [
    "# drop numbcars and numbcars_NaN\n",
    "data = data.drop(['numbcars_NaN','numbcars'],axis=1)"
   ]
  },
  {
   "cell_type": "code",
   "execution_count": 22,
   "id": "2aa1931a",
   "metadata": {},
   "outputs": [
    {
     "name": "stdout",
     "output_type": "stream",
     "text": [
      "[357, 357, 357, 357, 357, 357, 357, 357, 357, 891, 891, 0, 0, 0, 0, 0, 0, 0, 0, 0, 0, 0, 0, 0, 0, 0, 0, 0, 0, 0, 0, 0, 0, 0, 0, 0, 0, 0, 0, 0, 0, 0, 0, 0, 0, 0, 0, 0, 0, 0, 0, 0, 0, 0, 0, 0, 0, 0, 0, 0, 0, 0, 0, 0, 2839, 2839, 2839, 847, 1, 1, 1732, 1732, 30190, 23019, 25436, 1732, 1, 0, 0, 0, 0, 0, 0, 0, 0, 0, 0, 0, 0, 0, 0, 0, 0, 0, 0, 0, 0, 0, 0, 0, 0, 0, 0, 0, 0, 0, 0, 0, 0, 0, 0, 0, 0, 0, 0, 0, 0, 0, 0, 0, 0, 0, 0, 0, 0, 0, 0, 0, 0, 0, 0, 0, 0, 0, 0, 0, 0, 0, 0, 0, 0, 0, 0, 0, 0, 0, 0, 0, 0, 0, 0, 0, 0, 0, 0, 0, 0, 0, 0, 0, 0, 0, 0, 0, 0, 0, 0, 0, 0, 0, 0, 0, 0, 0, 0, 0, 0, 0, 0, 0, 0, 0, 0, 0, 0, 0, 0, 0, 0, 0, 0, 0, 0, 0, 0, 0, 0, 0, 0, 0, 0, 0, 0, 0, 0, 0, 0, 0, 0, 0, 0, 0, 0, 0, 0, 0, 0, 0, 0, 0, 0, 0, 0, 0, 0, 0, 0, 0, 0, 0, 0]\n"
     ]
    },
    {
     "data": {
      "image/png": "[encoded data removed]",
      "text/plain": [
       "<Figure size 432x288 with 1 Axes>"
      ]
     },
     "metadata": {
      "needs_background": "light"
     },
     "output_type": "display_data"
    }
   ],
   "source": [
    "none_counts = []\n",
    "for item in data.columns:\n",
    "    none_counts.append(data[item].isna().sum())\n",
    "print(none_counts)\n",
    "plt.bar(data.columns, none_counts)\n",
    "plt.ylabel('count of NaN values')\n",
    "plt.show()"
   ]
  },
  {
   "cell_type": "markdown",
   "id": "514222b2",
   "metadata": {},
   "source": [
    "Lets look at NaN of other columns, where lots of missed values "
   ]
  },
  {
   "cell_type": "code",
   "execution_count": 23,
   "id": "95a36169",
   "metadata": {},
   "outputs": [],
   "source": [
    "Nan_ind1 = none_counts.index(30190)\n",
    "Nan_ind2 = none_counts.index(23019)\n",
    "Nan_ind3 = none_counts.index(25436)"
   ]
  },
  {
   "cell_type": "code",
   "execution_count": 24,
   "id": "2518b714",
   "metadata": {},
   "outputs": [],
   "source": [
    "# create Nan columns\n",
    "column_max_none1 = data.columns[Nan_ind1]\n",
    "column_max_none2 = data.columns[Nan_ind2]\n",
    "column_max_none3 = data.columns[Nan_ind3]\n",
    "data[column_max_none1+'_NaN'] = np.where(data[column_max_none1].isnull(), 0,1)\n",
    "data[column_max_none2+'_NaN'] = np.where(data[column_max_none2].isnull(), 0,1)\n",
    "data[column_max_none3+'_NaN'] = np.where(data[column_max_none3].isnull(), 0,1)"
   ]
  },
  {
   "cell_type": "code",
   "execution_count": 25,
   "id": "4f48026a",
   "metadata": {},
   "outputs": [
    {
     "name": "stdout",
     "output_type": "stream",
     "text": [
      "1    69810\n",
      "0    30190\n",
      "Name: lor_NaN, dtype: int64\n",
      "1    76981\n",
      "0    23019\n",
      "Name: adults_NaN, dtype: int64\n",
      "1    74564\n",
      "0    25436\n",
      "Name: income_NaN, dtype: int64\n"
     ]
    }
   ],
   "source": [
    "print(data[column_max_none1+'_NaN'].value_counts())\n",
    "print(data[column_max_none2+'_NaN'].value_counts())\n",
    "print(data[column_max_none3+'_NaN'].value_counts())"
   ]
  },
  {
   "cell_type": "code",
   "execution_count": 26,
   "id": "12b24714",
   "metadata": {},
   "outputs": [
    {
     "name": "stdout",
     "output_type": "stream",
     "text": [
      "lor_NaN  churn\n",
      "0        1        0.513581\n",
      "         0        0.486419\n",
      "1        0        0.512147\n",
      "         1        0.487853\n",
      "Name: churn, dtype: float64\n",
      "adults_NaN  churn\n",
      "0           1        0.517181\n",
      "            0        0.482819\n",
      "1           0        0.510827\n",
      "            1        0.489173\n",
      "Name: churn, dtype: float64\n",
      "income_NaN  churn\n",
      "0           1        0.514350\n",
      "            0        0.485650\n",
      "1           0        0.510769\n",
      "            1        0.489231\n",
      "Name: churn, dtype: float64\n"
     ]
    }
   ],
   "source": [
    "# Churn passengers by 'numbcars_NaN'\n",
    "print(data.groupby([column_max_none1+'_NaN']) ['churn'].value_counts(normalize=True))\n",
    "print(data.groupby([column_max_none2+'_NaN']) ['churn'].value_counts(normalize=True))\n",
    "print(data.groupby([column_max_none3+'_NaN']) ['churn'].value_counts(normalize=True))"
   ]
  },
  {
   "cell_type": "code",
   "execution_count": 27,
   "id": "0e8ee7aa",
   "metadata": {},
   "outputs": [
    {
     "data": {
      "text/plain": [
       "(100000, 234)"
      ]
     },
     "execution_count": 27,
     "metadata": {},
     "output_type": "execute_result"
    }
   ],
   "source": [
    "data.shape"
   ]
  },
  {
   "cell_type": "code",
   "execution_count": 28,
   "id": "b9c0ef22",
   "metadata": {},
   "outputs": [],
   "source": [
    "data.drop([column_max_none1+'_NaN',column_max_none2+'_NaN',column_max_none3+'_NaN',\n",
    "          column_max_none1,column_max_none2,column_max_none3],axis=1, inplace=True)"
   ]
  },
  {
   "cell_type": "code",
   "execution_count": 29,
   "id": "749343b8",
   "metadata": {},
   "outputs": [
    {
     "data": {
      "text/plain": [
       "(100000, 228)"
      ]
     },
     "execution_count": 29,
     "metadata": {},
     "output_type": "execute_result"
    }
   ],
   "source": [
    "data.shape"
   ]
  },
  {
   "cell_type": "code",
   "execution_count": 30,
   "id": "c90cd701",
   "metadata": {},
   "outputs": [
    {
     "name": "stdout",
     "output_type": "stream",
     "text": [
      "[357, 357, 357, 357, 357, 357, 357, 357, 357, 891, 891, 2839, 2839, 2839, 847, 1, 1, 1732, 1732, 1732, 1]\n"
     ]
    },
    {
     "data": {
      "image/png": "[encoded data removed]",
      "text/plain": [
       "<Figure size 432x288 with 1 Axes>"
      ]
     },
     "metadata": {
      "needs_background": "light"
     },
     "output_type": "display_data"
    }
   ],
   "source": [
    "none_counts = []\n",
    "names = []\n",
    "for item in data.columns:\n",
    "    tmp = data[item].isna().sum()\n",
    "    if tmp > 0:\n",
    "        names.append(item)\n",
    "        none_counts.append(tmp)\n",
    "print(none_counts)\n",
    "plt.bar(names, none_counts)\n",
    "plt.xticks(rotation=90)\n",
    "plt.ylabel('count of NaN values')\n",
    "plt.show()"
   ]
  },
  {
   "cell_type": "code",
   "execution_count": 31,
   "id": "b027c146",
   "metadata": {},
   "outputs": [
    {
     "data": {
      "text/html": [
       "<div>\n",
       "<style scoped>\n",
       "    .dataframe tbody tr th:only-of-type {\n",
       "        vertical-align: middle;\n",
       "    }\n",
       "\n",
       "    .dataframe tbody tr th {\n",
       "        vertical-align: top;\n",
       "    }\n",
       "\n",
       "    .dataframe thead th {\n",
       "        text-align: right;\n",
       "    }\n",
       "</style>\n",
       "<table border=\"1\" class=\"dataframe\">\n",
       "  <thead>\n",
       "    <tr style=\"text-align: right;\">\n",
       "      <th></th>\n",
       "      <th>rev_Mean</th>\n",
       "      <th>mou_Mean</th>\n",
       "      <th>totmrc_Mean</th>\n",
       "      <th>da_Mean</th>\n",
       "      <th>ovrmou_Mean</th>\n",
       "      <th>ovrrev_Mean</th>\n",
       "      <th>vceovr_Mean</th>\n",
       "      <th>datovr_Mean</th>\n",
       "      <th>roam_Mean</th>\n",
       "      <th>change_mou</th>\n",
       "    </tr>\n",
       "  </thead>\n",
       "  <tbody>\n",
       "    <tr>\n",
       "      <th>count</th>\n",
       "      <td>99643.000000</td>\n",
       "      <td>99643.000000</td>\n",
       "      <td>99643.000000</td>\n",
       "      <td>99643.000000</td>\n",
       "      <td>99643.000000</td>\n",
       "      <td>99643.000000</td>\n",
       "      <td>99643.000000</td>\n",
       "      <td>99643.000000</td>\n",
       "      <td>99643.000000</td>\n",
       "      <td>99109.000000</td>\n",
       "    </tr>\n",
       "    <tr>\n",
       "      <th>mean</th>\n",
       "      <td>58.719985</td>\n",
       "      <td>513.559937</td>\n",
       "      <td>46.179136</td>\n",
       "      <td>0.888828</td>\n",
       "      <td>41.072247</td>\n",
       "      <td>13.559560</td>\n",
       "      <td>13.295062</td>\n",
       "      <td>0.261318</td>\n",
       "      <td>1.286405</td>\n",
       "      <td>-13.933818</td>\n",
       "    </tr>\n",
       "    <tr>\n",
       "      <th>std</th>\n",
       "      <td>46.291677</td>\n",
       "      <td>525.168140</td>\n",
       "      <td>23.623489</td>\n",
       "      <td>2.177619</td>\n",
       "      <td>97.296150</td>\n",
       "      <td>30.500885</td>\n",
       "      <td>30.056089</td>\n",
       "      <td>3.126531</td>\n",
       "      <td>14.711374</td>\n",
       "      <td>276.087509</td>\n",
       "    </tr>\n",
       "    <tr>\n",
       "      <th>min</th>\n",
       "      <td>-6.167500</td>\n",
       "      <td>0.000000</td>\n",
       "      <td>-26.915000</td>\n",
       "      <td>0.000000</td>\n",
       "      <td>0.000000</td>\n",
       "      <td>0.000000</td>\n",
       "      <td>0.000000</td>\n",
       "      <td>0.000000</td>\n",
       "      <td>0.000000</td>\n",
       "      <td>-3875.000000</td>\n",
       "    </tr>\n",
       "    <tr>\n",
       "      <th>25%</th>\n",
       "      <td>33.260000</td>\n",
       "      <td>150.750000</td>\n",
       "      <td>30.000000</td>\n",
       "      <td>0.000000</td>\n",
       "      <td>0.000000</td>\n",
       "      <td>0.000000</td>\n",
       "      <td>0.000000</td>\n",
       "      <td>0.000000</td>\n",
       "      <td>0.000000</td>\n",
       "      <td>-87.000000</td>\n",
       "    </tr>\n",
       "    <tr>\n",
       "      <th>50%</th>\n",
       "      <td>48.195000</td>\n",
       "      <td>355.500000</td>\n",
       "      <td>44.990000</td>\n",
       "      <td>0.247500</td>\n",
       "      <td>2.750000</td>\n",
       "      <td>1.000000</td>\n",
       "      <td>0.682500</td>\n",
       "      <td>0.000000</td>\n",
       "      <td>0.000000</td>\n",
       "      <td>-6.250000</td>\n",
       "    </tr>\n",
       "    <tr>\n",
       "      <th>75%</th>\n",
       "      <td>70.750000</td>\n",
       "      <td>703.000000</td>\n",
       "      <td>59.990000</td>\n",
       "      <td>0.990000</td>\n",
       "      <td>42.000000</td>\n",
       "      <td>14.437500</td>\n",
       "      <td>14.025000</td>\n",
       "      <td>0.000000</td>\n",
       "      <td>0.235000</td>\n",
       "      <td>63.000000</td>\n",
       "    </tr>\n",
       "    <tr>\n",
       "      <th>max</th>\n",
       "      <td>3843.262500</td>\n",
       "      <td>12206.750000</td>\n",
       "      <td>409.990000</td>\n",
       "      <td>159.390000</td>\n",
       "      <td>4320.750000</td>\n",
       "      <td>1102.400000</td>\n",
       "      <td>896.087500</td>\n",
       "      <td>423.540000</td>\n",
       "      <td>3685.200000</td>\n",
       "      <td>31219.250000</td>\n",
       "    </tr>\n",
       "  </tbody>\n",
       "</table>\n",
       "</div>"
      ],
      "text/plain": [
       "           rev_Mean      mou_Mean   totmrc_Mean       da_Mean   ovrmou_Mean  \\\n",
       "count  99643.000000  99643.000000  99643.000000  99643.000000  99643.000000   \n",
       "mean      58.719985    513.559937     46.179136      0.888828     41.072247   \n",
       "std       46.291677    525.168140     23.623489      2.177619     97.296150   \n",
       "min       -6.167500      0.000000    -26.915000      0.000000      0.000000   \n",
       "25%       33.260000    150.750000     30.000000      0.000000      0.000000   \n",
       "50%       48.195000    355.500000     44.990000      0.247500      2.750000   \n",
       "75%       70.750000    703.000000     59.990000      0.990000     42.000000   \n",
       "max     3843.262500  12206.750000    409.990000    159.390000   4320.750000   \n",
       "\n",
       "        ovrrev_Mean   vceovr_Mean   datovr_Mean     roam_Mean    change_mou  \n",
       "count  99643.000000  99643.000000  99643.000000  99643.000000  99109.000000  \n",
       "mean      13.559560     13.295062      0.261318      1.286405    -13.933818  \n",
       "std       30.500885     30.056089      3.126531     14.711374    276.087509  \n",
       "min        0.000000      0.000000      0.000000      0.000000  -3875.000000  \n",
       "25%        0.000000      0.000000      0.000000      0.000000    -87.000000  \n",
       "50%        1.000000      0.682500      0.000000      0.000000     -6.250000  \n",
       "75%       14.437500     14.025000      0.000000      0.235000     63.000000  \n",
       "max     1102.400000    896.087500    423.540000   3685.200000  31219.250000  "
      ]
     },
     "execution_count": 31,
     "metadata": {},
     "output_type": "execute_result"
    }
   ],
   "source": [
    "data[names[:len(names)//2]].describe()"
   ]
  },
  {
   "cell_type": "code",
   "execution_count": 32,
   "id": "ef2da7fa",
   "metadata": {},
   "outputs": [
    {
     "data": {
      "text/html": [
       "<div>\n",
       "<style scoped>\n",
       "    .dataframe tbody tr th:only-of-type {\n",
       "        vertical-align: middle;\n",
       "    }\n",
       "\n",
       "    .dataframe tbody tr th {\n",
       "        vertical-align: top;\n",
       "    }\n",
       "\n",
       "    .dataframe thead th {\n",
       "        text-align: right;\n",
       "    }\n",
       "</style>\n",
       "<table border=\"1\" class=\"dataframe\">\n",
       "  <thead>\n",
       "    <tr style=\"text-align: right;\">\n",
       "      <th></th>\n",
       "      <th>change_rev</th>\n",
       "      <th>avg6mou</th>\n",
       "      <th>avg6qty</th>\n",
       "      <th>avg6rev</th>\n",
       "      <th>hnd_price</th>\n",
       "      <th>phones</th>\n",
       "      <th>models</th>\n",
       "      <th>truck</th>\n",
       "      <th>rv</th>\n",
       "      <th>forgntvl</th>\n",
       "      <th>eqpdays</th>\n",
       "    </tr>\n",
       "  </thead>\n",
       "  <tbody>\n",
       "    <tr>\n",
       "      <th>count</th>\n",
       "      <td>99109.000000</td>\n",
       "      <td>97161.000000</td>\n",
       "      <td>97161.000000</td>\n",
       "      <td>97161.000000</td>\n",
       "      <td>99153.000000</td>\n",
       "      <td>99999.000000</td>\n",
       "      <td>99999.000000</td>\n",
       "      <td>98268.000000</td>\n",
       "      <td>98268.000000</td>\n",
       "      <td>98268.000000</td>\n",
       "      <td>99999.000000</td>\n",
       "    </tr>\n",
       "    <tr>\n",
       "      <th>mean</th>\n",
       "      <td>-1.021067</td>\n",
       "      <td>509.634576</td>\n",
       "      <td>178.365157</td>\n",
       "      <td>58.683618</td>\n",
       "      <td>101.875763</td>\n",
       "      <td>1.787118</td>\n",
       "      <td>1.545825</td>\n",
       "      <td>0.188820</td>\n",
       "      <td>0.082580</td>\n",
       "      <td>0.057974</td>\n",
       "      <td>391.932309</td>\n",
       "    </tr>\n",
       "    <tr>\n",
       "      <th>std</th>\n",
       "      <td>50.363209</td>\n",
       "      <td>496.663453</td>\n",
       "      <td>182.724565</td>\n",
       "      <td>40.758577</td>\n",
       "      <td>61.005671</td>\n",
       "      <td>1.313977</td>\n",
       "      <td>0.898395</td>\n",
       "      <td>0.391368</td>\n",
       "      <td>0.275248</td>\n",
       "      <td>0.233696</td>\n",
       "      <td>256.482193</td>\n",
       "    </tr>\n",
       "    <tr>\n",
       "      <th>min</th>\n",
       "      <td>-1107.740000</td>\n",
       "      <td>0.000000</td>\n",
       "      <td>0.000000</td>\n",
       "      <td>-2.000000</td>\n",
       "      <td>9.989998</td>\n",
       "      <td>1.000000</td>\n",
       "      <td>1.000000</td>\n",
       "      <td>0.000000</td>\n",
       "      <td>0.000000</td>\n",
       "      <td>0.000000</td>\n",
       "      <td>-5.000000</td>\n",
       "    </tr>\n",
       "    <tr>\n",
       "      <th>25%</th>\n",
       "      <td>-7.365000</td>\n",
       "      <td>163.000000</td>\n",
       "      <td>59.000000</td>\n",
       "      <td>34.000000</td>\n",
       "      <td>29.989990</td>\n",
       "      <td>1.000000</td>\n",
       "      <td>1.000000</td>\n",
       "      <td>0.000000</td>\n",
       "      <td>0.000000</td>\n",
       "      <td>0.000000</td>\n",
       "      <td>212.000000</td>\n",
       "    </tr>\n",
       "    <tr>\n",
       "      <th>50%</th>\n",
       "      <td>-0.315000</td>\n",
       "      <td>363.000000</td>\n",
       "      <td>127.000000</td>\n",
       "      <td>50.000000</td>\n",
       "      <td>99.989990</td>\n",
       "      <td>1.000000</td>\n",
       "      <td>1.000000</td>\n",
       "      <td>0.000000</td>\n",
       "      <td>0.000000</td>\n",
       "      <td>0.000000</td>\n",
       "      <td>342.000000</td>\n",
       "    </tr>\n",
       "    <tr>\n",
       "      <th>75%</th>\n",
       "      <td>1.642500</td>\n",
       "      <td>698.000000</td>\n",
       "      <td>237.000000</td>\n",
       "      <td>71.000000</td>\n",
       "      <td>149.989990</td>\n",
       "      <td>2.000000</td>\n",
       "      <td>2.000000</td>\n",
       "      <td>0.000000</td>\n",
       "      <td>0.000000</td>\n",
       "      <td>0.000000</td>\n",
       "      <td>530.000000</td>\n",
       "    </tr>\n",
       "    <tr>\n",
       "      <th>max</th>\n",
       "      <td>9963.657500</td>\n",
       "      <td>7217.000000</td>\n",
       "      <td>3256.000000</td>\n",
       "      <td>866.000000</td>\n",
       "      <td>499.989990</td>\n",
       "      <td>28.000000</td>\n",
       "      <td>16.000000</td>\n",
       "      <td>1.000000</td>\n",
       "      <td>1.000000</td>\n",
       "      <td>1.000000</td>\n",
       "      <td>1823.000000</td>\n",
       "    </tr>\n",
       "  </tbody>\n",
       "</table>\n",
       "</div>"
      ],
      "text/plain": [
       "         change_rev       avg6mou       avg6qty       avg6rev     hnd_price  \\\n",
       "count  99109.000000  97161.000000  97161.000000  97161.000000  99153.000000   \n",
       "mean      -1.021067    509.634576    178.365157     58.683618    101.875763   \n",
       "std       50.363209    496.663453    182.724565     40.758577     61.005671   \n",
       "min    -1107.740000      0.000000      0.000000     -2.000000      9.989998   \n",
       "25%       -7.365000    163.000000     59.000000     34.000000     29.989990   \n",
       "50%       -0.315000    363.000000    127.000000     50.000000     99.989990   \n",
       "75%        1.642500    698.000000    237.000000     71.000000    149.989990   \n",
       "max     9963.657500   7217.000000   3256.000000    866.000000    499.989990   \n",
       "\n",
       "             phones        models         truck            rv      forgntvl  \\\n",
       "count  99999.000000  99999.000000  98268.000000  98268.000000  98268.000000   \n",
       "mean       1.787118      1.545825      0.188820      0.082580      0.057974   \n",
       "std        1.313977      0.898395      0.391368      0.275248      0.233696   \n",
       "min        1.000000      1.000000      0.000000      0.000000      0.000000   \n",
       "25%        1.000000      1.000000      0.000000      0.000000      0.000000   \n",
       "50%        1.000000      1.000000      0.000000      0.000000      0.000000   \n",
       "75%        2.000000      2.000000      0.000000      0.000000      0.000000   \n",
       "max       28.000000     16.000000      1.000000      1.000000      1.000000   \n",
       "\n",
       "            eqpdays  \n",
       "count  99999.000000  \n",
       "mean     391.932309  \n",
       "std      256.482193  \n",
       "min       -5.000000  \n",
       "25%      212.000000  \n",
       "50%      342.000000  \n",
       "75%      530.000000  \n",
       "max     1823.000000  "
      ]
     },
     "execution_count": 32,
     "metadata": {},
     "output_type": "execute_result"
    }
   ],
   "source": [
    "data[names[len(names)//2:]].describe()"
   ]
  },
  {
   "cell_type": "markdown",
   "id": "2249fc0b",
   "metadata": {},
   "source": [
    "# Fill Nans for not categorial features"
   ]
  },
  {
   "cell_type": "code",
   "execution_count": 33,
   "id": "2dd64e21",
   "metadata": {},
   "outputs": [
    {
     "name": "stderr",
     "output_type": "stream",
     "text": [
      "/home/alex/anaconda3/lib/python3.9/site-packages/seaborn/_decorators.py:36: FutureWarning: Pass the following variable as a keyword arg: x. From version 0.12, the only valid positional argument will be `data`, and passing other arguments without an explicit keyword will result in an error or misinterpretation.\n",
      "  warnings.warn(\n",
      "/home/alex/anaconda3/lib/python3.9/site-packages/seaborn/_decorators.py:36: FutureWarning: Pass the following variable as a keyword arg: x. From version 0.12, the only valid positional argument will be `data`, and passing other arguments without an explicit keyword will result in an error or misinterpretation.\n",
      "  warnings.warn(\n"
     ]
    },
    {
     "data": {
      "text/plain": [
       "<AxesSubplot:xlabel='datovr_Mean'>"
      ]
     },
     "execution_count": 33,
     "metadata": {},
     "output_type": "execute_result"
    },
    {
     "data": {
      "image/png": "[encoded data removed]",
      "text/plain": [
       "<Figure size 432x288 with 2 Axes>"
      ]
     },
     "metadata": {
      "needs_background": "light"
     },
     "output_type": "display_data"
    }
   ],
   "source": [
    "plt.subplot(2,2,1)\n",
    "sns.boxplot(data.da_Mean)\n",
    "\n",
    "plt.subplot(2,2,2)\n",
    "sns.boxplot(data.datovr_Mean)"
   ]
  },
  {
   "cell_type": "code",
   "execution_count": 34,
   "id": "be0d5d7e",
   "metadata": {},
   "outputs": [
    {
     "name": "stdout",
     "output_type": "stream",
     "text": [
      "[ 2.  6.  1.  4.  3.  5.  7.  9. 10.  8. 11. 15. 14. nan 16.]\n",
      "[ 2.  7.  1.  6.  9.  4.  3. 10.  5. 13.  8. 18. 12. 11. 24. 15. 14. 17.\n",
      " 16. 19. 22. 21. 20. nan 28.]\n",
      "[ 0.  1. nan]\n",
      "[ 0.  1. nan]\n",
      "[ 0.  1. nan]\n"
     ]
    }
   ],
   "source": [
    "# data.datovr_Mean.unique()\n",
    "print(data.models.unique())\n",
    "print(data.phones.unique())\n",
    "print(data.truck.unique())\n",
    "print(data.rv.unique())\n",
    "print(data.forgntvl.unique())"
   ]
  },
  {
   "cell_type": "code",
   "execution_count": 35,
   "id": "66615607",
   "metadata": {},
   "outputs": [],
   "source": [
    "ind_phones = names.index('phones')\n",
    "ind_forgntvl = names.index('forgntvl')"
   ]
  },
  {
   "cell_type": "code",
   "execution_count": 36,
   "id": "60bf9397",
   "metadata": {},
   "outputs": [
    {
     "name": "stdout",
     "output_type": "stream",
     "text": [
      "16\n"
     ]
    }
   ],
   "source": [
    "non_categorial_names = names[:ind_phones]+names[ind_forgntvl+1:]\n",
    "print(len(non_categorial_names))"
   ]
  },
  {
   "cell_type": "code",
   "execution_count": 37,
   "id": "e45d911d",
   "metadata": {},
   "outputs": [],
   "source": [
    "for item in non_categorial_names:\n",
    "    data[item] = data[item].fillna(data[item].mean())"
   ]
  },
  {
   "cell_type": "code",
   "execution_count": 38,
   "id": "3e58772b",
   "metadata": {},
   "outputs": [
    {
     "data": {
      "text/html": [
       "<div>\n",
       "<style scoped>\n",
       "    .dataframe tbody tr th:only-of-type {\n",
       "        vertical-align: middle;\n",
       "    }\n",
       "\n",
       "    .dataframe tbody tr th {\n",
       "        vertical-align: top;\n",
       "    }\n",
       "\n",
       "    .dataframe thead th {\n",
       "        text-align: right;\n",
       "    }\n",
       "</style>\n",
       "<table border=\"1\" class=\"dataframe\">\n",
       "  <thead>\n",
       "    <tr style=\"text-align: right;\">\n",
       "      <th></th>\n",
       "      <th>rev_Mean</th>\n",
       "      <th>mou_Mean</th>\n",
       "      <th>totmrc_Mean</th>\n",
       "      <th>da_Mean</th>\n",
       "      <th>ovrmou_Mean</th>\n",
       "      <th>ovrrev_Mean</th>\n",
       "      <th>vceovr_Mean</th>\n",
       "      <th>datovr_Mean</th>\n",
       "      <th>roam_Mean</th>\n",
       "      <th>change_mou</th>\n",
       "      <th>...</th>\n",
       "      <th>kid3_5_U</th>\n",
       "      <th>kid3_5_Y</th>\n",
       "      <th>kid6_10_U</th>\n",
       "      <th>kid6_10_Y</th>\n",
       "      <th>kid11_15_U</th>\n",
       "      <th>kid11_15_Y</th>\n",
       "      <th>kid16_17_U</th>\n",
       "      <th>kid16_17_Y</th>\n",
       "      <th>creditcd_N</th>\n",
       "      <th>creditcd_Y</th>\n",
       "    </tr>\n",
       "  </thead>\n",
       "  <tbody>\n",
       "    <tr>\n",
       "      <th>0</th>\n",
       "      <td>23.997500</td>\n",
       "      <td>219.250000</td>\n",
       "      <td>22.500000</td>\n",
       "      <td>0.247500</td>\n",
       "      <td>0.000000</td>\n",
       "      <td>0.00000</td>\n",
       "      <td>0.000000</td>\n",
       "      <td>0.000000</td>\n",
       "      <td>0.000000</td>\n",
       "      <td>-157.250000</td>\n",
       "      <td>...</td>\n",
       "      <td>1</td>\n",
       "      <td>0</td>\n",
       "      <td>1</td>\n",
       "      <td>0</td>\n",
       "      <td>1</td>\n",
       "      <td>0</td>\n",
       "      <td>1</td>\n",
       "      <td>0</td>\n",
       "      <td>0</td>\n",
       "      <td>1</td>\n",
       "    </tr>\n",
       "    <tr>\n",
       "      <th>1</th>\n",
       "      <td>57.492500</td>\n",
       "      <td>482.750000</td>\n",
       "      <td>37.425000</td>\n",
       "      <td>0.247500</td>\n",
       "      <td>22.750000</td>\n",
       "      <td>9.10000</td>\n",
       "      <td>9.100000</td>\n",
       "      <td>0.000000</td>\n",
       "      <td>0.000000</td>\n",
       "      <td>532.250000</td>\n",
       "      <td>...</td>\n",
       "      <td>1</td>\n",
       "      <td>0</td>\n",
       "      <td>1</td>\n",
       "      <td>0</td>\n",
       "      <td>1</td>\n",
       "      <td>0</td>\n",
       "      <td>1</td>\n",
       "      <td>0</td>\n",
       "      <td>0</td>\n",
       "      <td>1</td>\n",
       "    </tr>\n",
       "    <tr>\n",
       "      <th>2</th>\n",
       "      <td>16.990000</td>\n",
       "      <td>10.250000</td>\n",
       "      <td>16.990000</td>\n",
       "      <td>0.000000</td>\n",
       "      <td>0.000000</td>\n",
       "      <td>0.00000</td>\n",
       "      <td>0.000000</td>\n",
       "      <td>0.000000</td>\n",
       "      <td>0.000000</td>\n",
       "      <td>-4.250000</td>\n",
       "      <td>...</td>\n",
       "      <td>0</td>\n",
       "      <td>1</td>\n",
       "      <td>1</td>\n",
       "      <td>0</td>\n",
       "      <td>1</td>\n",
       "      <td>0</td>\n",
       "      <td>1</td>\n",
       "      <td>0</td>\n",
       "      <td>0</td>\n",
       "      <td>1</td>\n",
       "    </tr>\n",
       "    <tr>\n",
       "      <th>3</th>\n",
       "      <td>38.000000</td>\n",
       "      <td>7.500000</td>\n",
       "      <td>38.000000</td>\n",
       "      <td>0.000000</td>\n",
       "      <td>0.000000</td>\n",
       "      <td>0.00000</td>\n",
       "      <td>0.000000</td>\n",
       "      <td>0.000000</td>\n",
       "      <td>0.000000</td>\n",
       "      <td>-1.500000</td>\n",
       "      <td>...</td>\n",
       "      <td>1</td>\n",
       "      <td>0</td>\n",
       "      <td>1</td>\n",
       "      <td>0</td>\n",
       "      <td>1</td>\n",
       "      <td>0</td>\n",
       "      <td>1</td>\n",
       "      <td>0</td>\n",
       "      <td>0</td>\n",
       "      <td>1</td>\n",
       "    </tr>\n",
       "    <tr>\n",
       "      <th>4</th>\n",
       "      <td>55.230000</td>\n",
       "      <td>570.500000</td>\n",
       "      <td>71.980000</td>\n",
       "      <td>0.000000</td>\n",
       "      <td>0.000000</td>\n",
       "      <td>0.00000</td>\n",
       "      <td>0.000000</td>\n",
       "      <td>0.000000</td>\n",
       "      <td>0.000000</td>\n",
       "      <td>38.500000</td>\n",
       "      <td>...</td>\n",
       "      <td>1</td>\n",
       "      <td>0</td>\n",
       "      <td>1</td>\n",
       "      <td>0</td>\n",
       "      <td>1</td>\n",
       "      <td>0</td>\n",
       "      <td>1</td>\n",
       "      <td>0</td>\n",
       "      <td>0</td>\n",
       "      <td>1</td>\n",
       "    </tr>\n",
       "    <tr>\n",
       "      <th>...</th>\n",
       "      <td>...</td>\n",
       "      <td>...</td>\n",
       "      <td>...</td>\n",
       "      <td>...</td>\n",
       "      <td>...</td>\n",
       "      <td>...</td>\n",
       "      <td>...</td>\n",
       "      <td>...</td>\n",
       "      <td>...</td>\n",
       "      <td>...</td>\n",
       "      <td>...</td>\n",
       "      <td>...</td>\n",
       "      <td>...</td>\n",
       "      <td>...</td>\n",
       "      <td>...</td>\n",
       "      <td>...</td>\n",
       "      <td>...</td>\n",
       "      <td>...</td>\n",
       "      <td>...</td>\n",
       "      <td>...</td>\n",
       "      <td>...</td>\n",
       "    </tr>\n",
       "    <tr>\n",
       "      <th>99995</th>\n",
       "      <td>58.719985</td>\n",
       "      <td>513.559937</td>\n",
       "      <td>46.179136</td>\n",
       "      <td>0.888828</td>\n",
       "      <td>41.072247</td>\n",
       "      <td>13.55956</td>\n",
       "      <td>13.295062</td>\n",
       "      <td>0.261318</td>\n",
       "      <td>1.286405</td>\n",
       "      <td>-13.933818</td>\n",
       "      <td>...</td>\n",
       "      <td>1</td>\n",
       "      <td>0</td>\n",
       "      <td>1</td>\n",
       "      <td>0</td>\n",
       "      <td>0</td>\n",
       "      <td>1</td>\n",
       "      <td>1</td>\n",
       "      <td>0</td>\n",
       "      <td>0</td>\n",
       "      <td>1</td>\n",
       "    </tr>\n",
       "    <tr>\n",
       "      <th>99996</th>\n",
       "      <td>58.719985</td>\n",
       "      <td>513.559937</td>\n",
       "      <td>46.179136</td>\n",
       "      <td>0.888828</td>\n",
       "      <td>41.072247</td>\n",
       "      <td>13.55956</td>\n",
       "      <td>13.295062</td>\n",
       "      <td>0.261318</td>\n",
       "      <td>1.286405</td>\n",
       "      <td>-13.933818</td>\n",
       "      <td>...</td>\n",
       "      <td>1</td>\n",
       "      <td>0</td>\n",
       "      <td>0</td>\n",
       "      <td>1</td>\n",
       "      <td>0</td>\n",
       "      <td>1</td>\n",
       "      <td>0</td>\n",
       "      <td>1</td>\n",
       "      <td>0</td>\n",
       "      <td>1</td>\n",
       "    </tr>\n",
       "    <tr>\n",
       "      <th>99997</th>\n",
       "      <td>58.719985</td>\n",
       "      <td>513.559937</td>\n",
       "      <td>46.179136</td>\n",
       "      <td>0.888828</td>\n",
       "      <td>41.072247</td>\n",
       "      <td>13.55956</td>\n",
       "      <td>13.295062</td>\n",
       "      <td>0.261318</td>\n",
       "      <td>1.286405</td>\n",
       "      <td>-13.933818</td>\n",
       "      <td>...</td>\n",
       "      <td>0</td>\n",
       "      <td>1</td>\n",
       "      <td>1</td>\n",
       "      <td>0</td>\n",
       "      <td>1</td>\n",
       "      <td>0</td>\n",
       "      <td>1</td>\n",
       "      <td>0</td>\n",
       "      <td>1</td>\n",
       "      <td>0</td>\n",
       "    </tr>\n",
       "    <tr>\n",
       "      <th>99998</th>\n",
       "      <td>58.719985</td>\n",
       "      <td>513.559937</td>\n",
       "      <td>46.179136</td>\n",
       "      <td>0.888828</td>\n",
       "      <td>41.072247</td>\n",
       "      <td>13.55956</td>\n",
       "      <td>13.295062</td>\n",
       "      <td>0.261318</td>\n",
       "      <td>1.286405</td>\n",
       "      <td>-13.933818</td>\n",
       "      <td>...</td>\n",
       "      <td>1</td>\n",
       "      <td>0</td>\n",
       "      <td>1</td>\n",
       "      <td>0</td>\n",
       "      <td>1</td>\n",
       "      <td>0</td>\n",
       "      <td>1</td>\n",
       "      <td>0</td>\n",
       "      <td>1</td>\n",
       "      <td>0</td>\n",
       "    </tr>\n",
       "    <tr>\n",
       "      <th>99999</th>\n",
       "      <td>58.719985</td>\n",
       "      <td>513.559937</td>\n",
       "      <td>46.179136</td>\n",
       "      <td>0.888828</td>\n",
       "      <td>41.072247</td>\n",
       "      <td>13.55956</td>\n",
       "      <td>13.295062</td>\n",
       "      <td>0.261318</td>\n",
       "      <td>1.286405</td>\n",
       "      <td>-13.933818</td>\n",
       "      <td>...</td>\n",
       "      <td>1</td>\n",
       "      <td>0</td>\n",
       "      <td>1</td>\n",
       "      <td>0</td>\n",
       "      <td>1</td>\n",
       "      <td>0</td>\n",
       "      <td>1</td>\n",
       "      <td>0</td>\n",
       "      <td>1</td>\n",
       "      <td>0</td>\n",
       "    </tr>\n",
       "  </tbody>\n",
       "</table>\n",
       "<p>100000 rows × 228 columns</p>\n",
       "</div>"
      ],
      "text/plain": [
       "        rev_Mean    mou_Mean  totmrc_Mean   da_Mean  ovrmou_Mean  ovrrev_Mean  \\\n",
       "0      23.997500  219.250000    22.500000  0.247500     0.000000      0.00000   \n",
       "1      57.492500  482.750000    37.425000  0.247500    22.750000      9.10000   \n",
       "2      16.990000   10.250000    16.990000  0.000000     0.000000      0.00000   \n",
       "3      38.000000    7.500000    38.000000  0.000000     0.000000      0.00000   \n",
       "4      55.230000  570.500000    71.980000  0.000000     0.000000      0.00000   \n",
       "...          ...         ...          ...       ...          ...          ...   \n",
       "99995  58.719985  513.559937    46.179136  0.888828    41.072247     13.55956   \n",
       "99996  58.719985  513.559937    46.179136  0.888828    41.072247     13.55956   \n",
       "99997  58.719985  513.559937    46.179136  0.888828    41.072247     13.55956   \n",
       "99998  58.719985  513.559937    46.179136  0.888828    41.072247     13.55956   \n",
       "99999  58.719985  513.559937    46.179136  0.888828    41.072247     13.55956   \n",
       "\n",
       "       vceovr_Mean  datovr_Mean  roam_Mean  change_mou  ...  kid3_5_U  \\\n",
       "0         0.000000     0.000000   0.000000 -157.250000  ...         1   \n",
       "1         9.100000     0.000000   0.000000  532.250000  ...         1   \n",
       "2         0.000000     0.000000   0.000000   -4.250000  ...         0   \n",
       "3         0.000000     0.000000   0.000000   -1.500000  ...         1   \n",
       "4         0.000000     0.000000   0.000000   38.500000  ...         1   \n",
       "...            ...          ...        ...         ...  ...       ...   \n",
       "99995    13.295062     0.261318   1.286405  -13.933818  ...         1   \n",
       "99996    13.295062     0.261318   1.286405  -13.933818  ...         1   \n",
       "99997    13.295062     0.261318   1.286405  -13.933818  ...         0   \n",
       "99998    13.295062     0.261318   1.286405  -13.933818  ...         1   \n",
       "99999    13.295062     0.261318   1.286405  -13.933818  ...         1   \n",
       "\n",
       "       kid3_5_Y  kid6_10_U  kid6_10_Y  kid11_15_U  kid11_15_Y  kid16_17_U  \\\n",
       "0             0          1          0           1           0           1   \n",
       "1             0          1          0           1           0           1   \n",
       "2             1          1          0           1           0           1   \n",
       "3             0          1          0           1           0           1   \n",
       "4             0          1          0           1           0           1   \n",
       "...         ...        ...        ...         ...         ...         ...   \n",
       "99995         0          1          0           0           1           1   \n",
       "99996         0          0          1           0           1           0   \n",
       "99997         1          1          0           1           0           1   \n",
       "99998         0          1          0           1           0           1   \n",
       "99999         0          1          0           1           0           1   \n",
       "\n",
       "       kid16_17_Y  creditcd_N  creditcd_Y  \n",
       "0               0           0           1  \n",
       "1               0           0           1  \n",
       "2               0           0           1  \n",
       "3               0           0           1  \n",
       "4               0           0           1  \n",
       "...           ...         ...         ...  \n",
       "99995           0           0           1  \n",
       "99996           1           0           1  \n",
       "99997           0           1           0  \n",
       "99998           0           1           0  \n",
       "99999           0           1           0  \n",
       "\n",
       "[100000 rows x 228 columns]"
      ]
     },
     "execution_count": 38,
     "metadata": {},
     "output_type": "execute_result"
    }
   ],
   "source": [
    "data"
   ]
  },
  {
   "cell_type": "code",
   "execution_count": 39,
   "id": "7feac48d",
   "metadata": {},
   "outputs": [
    {
     "name": "stdout",
     "output_type": "stream",
     "text": [
      "[1, 1, 1732, 1732, 1732]\n"
     ]
    },
    {
     "data": {
      "image/png": "[encoded data removed]",
      "text/plain": [
       "<Figure size 432x288 with 1 Axes>"
      ]
     },
     "metadata": {
      "needs_background": "light"
     },
     "output_type": "display_data"
    }
   ],
   "source": [
    "none_counts = []\n",
    "names = []\n",
    "for item in data.columns:\n",
    "    tmp = data[item].isna().sum()\n",
    "    if tmp > 0:\n",
    "        names.append(item)\n",
    "        none_counts.append(tmp)\n",
    "print(none_counts)\n",
    "plt.bar(names, none_counts)\n",
    "plt.xticks(rotation=90)\n",
    "plt.ylabel('count of NaN values')\n",
    "plt.show()"
   ]
  },
  {
   "cell_type": "code",
   "execution_count": 40,
   "id": "4a9d6560",
   "metadata": {},
   "outputs": [
    {
     "name": "stdout",
     "output_type": "stream",
     "text": [
      "[ 2.  7.  1.  6.  9.  4.  3. 10.  5. 13.  8. 18. 12. 11. 24. 15. 14. 17.\n",
      " 16. 19. 22. 21. 20. nan 28.] 25\n"
     ]
    },
    {
     "name": "stderr",
     "output_type": "stream",
     "text": [
      "/home/alex/anaconda3/lib/python3.9/site-packages/seaborn/_decorators.py:36: FutureWarning: Pass the following variable as a keyword arg: x. From version 0.12, the only valid positional argument will be `data`, and passing other arguments without an explicit keyword will result in an error or misinterpretation.\n",
      "  warnings.warn(\n"
     ]
    },
    {
     "data": {
      "text/plain": [
       "<AxesSubplot:xlabel='phones', ylabel='count'>"
      ]
     },
     "execution_count": 40,
     "metadata": {},
     "output_type": "execute_result"
    },
    {
     "data": {
      "image/png": "[encoded data removed]",
      "text/plain": [
       "<Figure size 432x288 with 1 Axes>"
      ]
     },
     "metadata": {
      "needs_background": "light"
     },
     "output_type": "display_data"
    }
   ],
   "source": [
    "#fill NaN into categorial features\n",
    "print(data.phones.unique(), len(data.phones.unique()))\n",
    "sns.countplot(data.phones)"
   ]
  },
  {
   "cell_type": "code",
   "execution_count": 41,
   "id": "8df3cb5d",
   "metadata": {},
   "outputs": [
    {
     "name": "stdout",
     "output_type": "stream",
     "text": [
      "[ 2.  6.  1.  4.  3.  5.  7.  9. 10.  8. 11. 15. 14. nan 16.] 15\n"
     ]
    },
    {
     "name": "stderr",
     "output_type": "stream",
     "text": [
      "/home/alex/anaconda3/lib/python3.9/site-packages/seaborn/_decorators.py:36: FutureWarning: Pass the following variable as a keyword arg: x. From version 0.12, the only valid positional argument will be `data`, and passing other arguments without an explicit keyword will result in an error or misinterpretation.\n",
      "  warnings.warn(\n"
     ]
    },
    {
     "data": {
      "text/plain": [
       "<AxesSubplot:xlabel='models', ylabel='count'>"
      ]
     },
     "execution_count": 41,
     "metadata": {},
     "output_type": "execute_result"
    },
    {
     "data": {
      "image/png": "[encoded data removed]",
      "text/plain": [
       "<Figure size 432x288 with 1 Axes>"
      ]
     },
     "metadata": {
      "needs_background": "light"
     },
     "output_type": "display_data"
    }
   ],
   "source": [
    "#fill NaN into categorial features\n",
    "print(data.models.unique(), len(data.models.unique()))\n",
    "sns.countplot(data.models)"
   ]
  },
  {
   "cell_type": "code",
   "execution_count": 42,
   "id": "c09f99f5",
   "metadata": {},
   "outputs": [],
   "source": [
    "data.phones = data.phones.fillna(1)\n",
    "data.models = data.models.fillna(1)"
   ]
  },
  {
   "cell_type": "code",
   "execution_count": 43,
   "id": "36a17171",
   "metadata": {},
   "outputs": [
    {
     "name": "stderr",
     "output_type": "stream",
     "text": [
      "/home/alex/anaconda3/lib/python3.9/site-packages/seaborn/_decorators.py:36: FutureWarning: Pass the following variable as a keyword arg: x. From version 0.12, the only valid positional argument will be `data`, and passing other arguments without an explicit keyword will result in an error or misinterpretation.\n",
      "  warnings.warn(\n"
     ]
    },
    {
     "data": {
      "text/plain": [
       "<AxesSubplot:xlabel='truck', ylabel='count'>"
      ]
     },
     "execution_count": 43,
     "metadata": {},
     "output_type": "execute_result"
    },
    {
     "data": {
      "image/png": "[encoded data removed]",
      "text/plain": [
       "<Figure size 432x288 with 1 Axes>"
      ]
     },
     "metadata": {
      "needs_background": "light"
     },
     "output_type": "display_data"
    }
   ],
   "source": [
    "sns.countplot(data.truck)"
   ]
  },
  {
   "cell_type": "code",
   "execution_count": 44,
   "id": "e58b7a8c",
   "metadata": {},
   "outputs": [
    {
     "name": "stdout",
     "output_type": "stream",
     "text": [
      "(79713, 228)\n",
      "(18555, 228)\n"
     ]
    }
   ],
   "source": [
    "print(data[data.truck == 0].shape)\n",
    "print(data[data.truck == 1].shape)"
   ]
  },
  {
   "cell_type": "code",
   "execution_count": 45,
   "id": "79f6e278",
   "metadata": {},
   "outputs": [
    {
     "name": "stdout",
     "output_type": "stream",
     "text": [
      "(90153, 228)\n",
      "(8115, 228)\n"
     ]
    }
   ],
   "source": [
    "print(data[data.rv == 0].shape)\n",
    "print(data[data.rv == 1].shape)"
   ]
  },
  {
   "cell_type": "code",
   "execution_count": 46,
   "id": "d0dc01ff",
   "metadata": {},
   "outputs": [
    {
     "name": "stdout",
     "output_type": "stream",
     "text": [
      "(92571, 228)\n",
      "(5697, 228)\n"
     ]
    }
   ],
   "source": [
    "print(data[data.forgntvl == 0].shape)\n",
    "print(data[data.forgntvl == 1].shape)"
   ]
  },
  {
   "cell_type": "code",
   "execution_count": 47,
   "id": "c7c31c03",
   "metadata": {},
   "outputs": [
    {
     "name": "stdout",
     "output_type": "stream",
     "text": [
      "truck  churn\n",
      "0.0    0        0.503092\n",
      "       1        0.496908\n",
      "1.0    0        0.508327\n",
      "       1        0.491673\n",
      "Name: churn, dtype: float64\n",
      "forgntvl  churn\n",
      "0.0       0        0.503462\n",
      "          1        0.496538\n",
      "1.0       0        0.514130\n",
      "          1        0.485870\n",
      "Name: churn, dtype: float64\n",
      "rv   churn\n",
      "0.0  0        0.504154\n",
      "     1        0.495846\n",
      "1.0  0        0.503266\n",
      "     1        0.496734\n",
      "Name: churn, dtype: float64\n"
     ]
    }
   ],
   "source": [
    "print(data.groupby(['truck']) ['churn'].value_counts(normalize=True))\n",
    "print(data.groupby(['forgntvl']) ['churn'].value_counts(normalize=True))\n",
    "print(data.groupby(['rv'])['churn'].value_counts(normalize=True))"
   ]
  },
  {
   "cell_type": "code",
   "execution_count": 48,
   "id": "e87bbd9b",
   "metadata": {},
   "outputs": [],
   "source": [
    "# Most likely there is no correlation between truck or forgntvl or rv and churn\n",
    "# Drop them\n",
    "data.drop(['truck','forgntvl', 'rv'], axis=1, inplace=True)"
   ]
  },
  {
   "cell_type": "markdown",
   "id": "7ea0646f",
   "metadata": {},
   "source": [
    "# Detect and exclude outliers"
   ]
  },
  {
   "cell_type": "code",
   "execution_count": 49,
   "id": "b1548a1e",
   "metadata": {},
   "outputs": [],
   "source": [
    "clear = data\n",
    "for col in data.columns:\n",
    "    q_hi = data[col].mean() + 7*data[col].std()\n",
    "    if data[col].mean() > 1 and data[col].std()> 7:\n",
    "        clear = clear[clear[col] < q_hi]"
   ]
  },
  {
   "cell_type": "code",
   "execution_count": 50,
   "id": "436b5f6a",
   "metadata": {},
   "outputs": [
    {
     "data": {
      "text/plain": [
       "(100000, 225)"
      ]
     },
     "execution_count": 50,
     "metadata": {},
     "output_type": "execute_result"
    }
   ],
   "source": [
    "data.shape"
   ]
  },
  {
   "cell_type": "code",
   "execution_count": 51,
   "id": "4e896f3a",
   "metadata": {},
   "outputs": [
    {
     "data": {
      "text/plain": [
       "(97279, 225)"
      ]
     },
     "execution_count": 51,
     "metadata": {},
     "output_type": "execute_result"
    }
   ],
   "source": [
    "clear.shape"
   ]
  },
  {
   "cell_type": "code",
   "execution_count": 52,
   "id": "88b2831d",
   "metadata": {},
   "outputs": [
    {
     "data": {
      "text/html": [
       "<div>\n",
       "<style scoped>\n",
       "    .dataframe tbody tr th:only-of-type {\n",
       "        vertical-align: middle;\n",
       "    }\n",
       "\n",
       "    .dataframe tbody tr th {\n",
       "        vertical-align: top;\n",
       "    }\n",
       "\n",
       "    .dataframe thead th {\n",
       "        text-align: right;\n",
       "    }\n",
       "</style>\n",
       "<table border=\"1\" class=\"dataframe\">\n",
       "  <thead>\n",
       "    <tr style=\"text-align: right;\">\n",
       "      <th></th>\n",
       "      <th>rev_Mean</th>\n",
       "      <th>mou_Mean</th>\n",
       "      <th>totmrc_Mean</th>\n",
       "      <th>da_Mean</th>\n",
       "      <th>ovrmou_Mean</th>\n",
       "      <th>ovrrev_Mean</th>\n",
       "      <th>vceovr_Mean</th>\n",
       "      <th>datovr_Mean</th>\n",
       "      <th>roam_Mean</th>\n",
       "      <th>change_mou</th>\n",
       "      <th>...</th>\n",
       "      <th>kid3_5_U</th>\n",
       "      <th>kid3_5_Y</th>\n",
       "      <th>kid6_10_U</th>\n",
       "      <th>kid6_10_Y</th>\n",
       "      <th>kid11_15_U</th>\n",
       "      <th>kid11_15_Y</th>\n",
       "      <th>kid16_17_U</th>\n",
       "      <th>kid16_17_Y</th>\n",
       "      <th>creditcd_N</th>\n",
       "      <th>creditcd_Y</th>\n",
       "    </tr>\n",
       "  </thead>\n",
       "  <tbody>\n",
       "    <tr>\n",
       "      <th>count</th>\n",
       "      <td>97279.000000</td>\n",
       "      <td>97279.000000</td>\n",
       "      <td>97279.000000</td>\n",
       "      <td>97279.000000</td>\n",
       "      <td>97279.000000</td>\n",
       "      <td>97279.000000</td>\n",
       "      <td>97279.000000</td>\n",
       "      <td>97279.000000</td>\n",
       "      <td>97279.000000</td>\n",
       "      <td>97279.000000</td>\n",
       "      <td>...</td>\n",
       "      <td>97279.000000</td>\n",
       "      <td>97279.000000</td>\n",
       "      <td>97279.000000</td>\n",
       "      <td>97279.000000</td>\n",
       "      <td>97279.000000</td>\n",
       "      <td>97279.000000</td>\n",
       "      <td>97279.000000</td>\n",
       "      <td>97279.000000</td>\n",
       "      <td>97279.000000</td>\n",
       "      <td>97279.000000</td>\n",
       "    </tr>\n",
       "    <tr>\n",
       "      <th>mean</th>\n",
       "      <td>55.667782</td>\n",
       "      <td>475.432209</td>\n",
       "      <td>45.216378</td>\n",
       "      <td>0.822810</td>\n",
       "      <td>35.226531</td>\n",
       "      <td>11.890021</td>\n",
       "      <td>11.686054</td>\n",
       "      <td>0.200873</td>\n",
       "      <td>1.050660</td>\n",
       "      <td>-11.397028</td>\n",
       "      <td>...</td>\n",
       "      <td>0.935700</td>\n",
       "      <td>0.047246</td>\n",
       "      <td>0.901767</td>\n",
       "      <td>0.081179</td>\n",
       "      <td>0.894427</td>\n",
       "      <td>0.088519</td>\n",
       "      <td>0.882883</td>\n",
       "      <td>0.100063</td>\n",
       "      <td>0.307034</td>\n",
       "      <td>0.675912</td>\n",
       "    </tr>\n",
       "    <tr>\n",
       "      <th>std</th>\n",
       "      <td>35.633531</td>\n",
       "      <td>449.283555</td>\n",
       "      <td>21.887213</td>\n",
       "      <td>1.870021</td>\n",
       "      <td>70.653566</td>\n",
       "      <td>23.522208</td>\n",
       "      <td>23.367976</td>\n",
       "      <td>1.630087</td>\n",
       "      <td>4.634164</td>\n",
       "      <td>231.959658</td>\n",
       "      <td>...</td>\n",
       "      <td>0.245287</td>\n",
       "      <td>0.212165</td>\n",
       "      <td>0.297631</td>\n",
       "      <td>0.273111</td>\n",
       "      <td>0.307291</td>\n",
       "      <td>0.284049</td>\n",
       "      <td>0.321561</td>\n",
       "      <td>0.300085</td>\n",
       "      <td>0.461266</td>\n",
       "      <td>0.468036</td>\n",
       "    </tr>\n",
       "    <tr>\n",
       "      <th>min</th>\n",
       "      <td>-6.167500</td>\n",
       "      <td>0.000000</td>\n",
       "      <td>-26.915000</td>\n",
       "      <td>0.000000</td>\n",
       "      <td>0.000000</td>\n",
       "      <td>0.000000</td>\n",
       "      <td>0.000000</td>\n",
       "      <td>0.000000</td>\n",
       "      <td>0.000000</td>\n",
       "      <td>-2481.750000</td>\n",
       "      <td>...</td>\n",
       "      <td>0.000000</td>\n",
       "      <td>0.000000</td>\n",
       "      <td>0.000000</td>\n",
       "      <td>0.000000</td>\n",
       "      <td>0.000000</td>\n",
       "      <td>0.000000</td>\n",
       "      <td>0.000000</td>\n",
       "      <td>0.000000</td>\n",
       "      <td>0.000000</td>\n",
       "      <td>0.000000</td>\n",
       "    </tr>\n",
       "    <tr>\n",
       "      <th>25%</th>\n",
       "      <td>33.062500</td>\n",
       "      <td>146.750000</td>\n",
       "      <td>30.000000</td>\n",
       "      <td>0.000000</td>\n",
       "      <td>0.000000</td>\n",
       "      <td>0.000000</td>\n",
       "      <td>0.000000</td>\n",
       "      <td>0.000000</td>\n",
       "      <td>0.000000</td>\n",
       "      <td>-82.750000</td>\n",
       "      <td>...</td>\n",
       "      <td>1.000000</td>\n",
       "      <td>0.000000</td>\n",
       "      <td>1.000000</td>\n",
       "      <td>0.000000</td>\n",
       "      <td>1.000000</td>\n",
       "      <td>0.000000</td>\n",
       "      <td>1.000000</td>\n",
       "      <td>0.000000</td>\n",
       "      <td>0.000000</td>\n",
       "      <td>0.000000</td>\n",
       "    </tr>\n",
       "    <tr>\n",
       "      <th>50%</th>\n",
       "      <td>47.217500</td>\n",
       "      <td>345.000000</td>\n",
       "      <td>44.990000</td>\n",
       "      <td>0.247500</td>\n",
       "      <td>2.333333</td>\n",
       "      <td>0.875000</td>\n",
       "      <td>0.500000</td>\n",
       "      <td>0.000000</td>\n",
       "      <td>0.000000</td>\n",
       "      <td>-6.750000</td>\n",
       "      <td>...</td>\n",
       "      <td>1.000000</td>\n",
       "      <td>0.000000</td>\n",
       "      <td>1.000000</td>\n",
       "      <td>0.000000</td>\n",
       "      <td>1.000000</td>\n",
       "      <td>0.000000</td>\n",
       "      <td>1.000000</td>\n",
       "      <td>0.000000</td>\n",
       "      <td>0.000000</td>\n",
       "      <td>1.000000</td>\n",
       "    </tr>\n",
       "    <tr>\n",
       "      <th>75%</th>\n",
       "      <td>67.955000</td>\n",
       "      <td>664.000000</td>\n",
       "      <td>59.662500</td>\n",
       "      <td>0.742500</td>\n",
       "      <td>39.500000</td>\n",
       "      <td>13.559560</td>\n",
       "      <td>13.250000</td>\n",
       "      <td>0.000000</td>\n",
       "      <td>0.235000</td>\n",
       "      <td>60.250000</td>\n",
       "      <td>...</td>\n",
       "      <td>1.000000</td>\n",
       "      <td>0.000000</td>\n",
       "      <td>1.000000</td>\n",
       "      <td>0.000000</td>\n",
       "      <td>1.000000</td>\n",
       "      <td>0.000000</td>\n",
       "      <td>1.000000</td>\n",
       "      <td>0.000000</td>\n",
       "      <td>1.000000</td>\n",
       "      <td>1.000000</td>\n",
       "    </tr>\n",
       "    <tr>\n",
       "      <th>max</th>\n",
       "      <td>380.140000</td>\n",
       "      <td>3901.000000</td>\n",
       "      <td>210.392500</td>\n",
       "      <td>62.122500</td>\n",
       "      <td>715.500000</td>\n",
       "      <td>224.612500</td>\n",
       "      <td>222.775000</td>\n",
       "      <td>74.490000</td>\n",
       "      <td>103.927500</td>\n",
       "      <td>2780.000000</td>\n",
       "      <td>...</td>\n",
       "      <td>1.000000</td>\n",
       "      <td>1.000000</td>\n",
       "      <td>1.000000</td>\n",
       "      <td>1.000000</td>\n",
       "      <td>1.000000</td>\n",
       "      <td>1.000000</td>\n",
       "      <td>1.000000</td>\n",
       "      <td>1.000000</td>\n",
       "      <td>1.000000</td>\n",
       "      <td>1.000000</td>\n",
       "    </tr>\n",
       "  </tbody>\n",
       "</table>\n",
       "<p>8 rows × 225 columns</p>\n",
       "</div>"
      ],
      "text/plain": [
       "           rev_Mean      mou_Mean   totmrc_Mean       da_Mean   ovrmou_Mean  \\\n",
       "count  97279.000000  97279.000000  97279.000000  97279.000000  97279.000000   \n",
       "mean      55.667782    475.432209     45.216378      0.822810     35.226531   \n",
       "std       35.633531    449.283555     21.887213      1.870021     70.653566   \n",
       "min       -6.167500      0.000000    -26.915000      0.000000      0.000000   \n",
       "25%       33.062500    146.750000     30.000000      0.000000      0.000000   \n",
       "50%       47.217500    345.000000     44.990000      0.247500      2.333333   \n",
       "75%       67.955000    664.000000     59.662500      0.742500     39.500000   \n",
       "max      380.140000   3901.000000    210.392500     62.122500    715.500000   \n",
       "\n",
       "        ovrrev_Mean   vceovr_Mean   datovr_Mean     roam_Mean    change_mou  \\\n",
       "count  97279.000000  97279.000000  97279.000000  97279.000000  97279.000000   \n",
       "mean      11.890021     11.686054      0.200873      1.050660    -11.397028   \n",
       "std       23.522208     23.367976      1.630087      4.634164    231.959658   \n",
       "min        0.000000      0.000000      0.000000      0.000000  -2481.750000   \n",
       "25%        0.000000      0.000000      0.000000      0.000000    -82.750000   \n",
       "50%        0.875000      0.500000      0.000000      0.000000     -6.750000   \n",
       "75%       13.559560     13.250000      0.000000      0.235000     60.250000   \n",
       "max      224.612500    222.775000     74.490000    103.927500   2780.000000   \n",
       "\n",
       "       ...      kid3_5_U      kid3_5_Y     kid6_10_U     kid6_10_Y  \\\n",
       "count  ...  97279.000000  97279.000000  97279.000000  97279.000000   \n",
       "mean   ...      0.935700      0.047246      0.901767      0.081179   \n",
       "std    ...      0.245287      0.212165      0.297631      0.273111   \n",
       "min    ...      0.000000      0.000000      0.000000      0.000000   \n",
       "25%    ...      1.000000      0.000000      1.000000      0.000000   \n",
       "50%    ...      1.000000      0.000000      1.000000      0.000000   \n",
       "75%    ...      1.000000      0.000000      1.000000      0.000000   \n",
       "max    ...      1.000000      1.000000      1.000000      1.000000   \n",
       "\n",
       "         kid11_15_U    kid11_15_Y    kid16_17_U    kid16_17_Y    creditcd_N  \\\n",
       "count  97279.000000  97279.000000  97279.000000  97279.000000  97279.000000   \n",
       "mean       0.894427      0.088519      0.882883      0.100063      0.307034   \n",
       "std        0.307291      0.284049      0.321561      0.300085      0.461266   \n",
       "min        0.000000      0.000000      0.000000      0.000000      0.000000   \n",
       "25%        1.000000      0.000000      1.000000      0.000000      0.000000   \n",
       "50%        1.000000      0.000000      1.000000      0.000000      0.000000   \n",
       "75%        1.000000      0.000000      1.000000      0.000000      1.000000   \n",
       "max        1.000000      1.000000      1.000000      1.000000      1.000000   \n",
       "\n",
       "         creditcd_Y  \n",
       "count  97279.000000  \n",
       "mean       0.675912  \n",
       "std        0.468036  \n",
       "min        0.000000  \n",
       "25%        0.000000  \n",
       "50%        1.000000  \n",
       "75%        1.000000  \n",
       "max        1.000000  \n",
       "\n",
       "[8 rows x 225 columns]"
      ]
     },
     "execution_count": 52,
     "metadata": {},
     "output_type": "execute_result"
    }
   ],
   "source": [
    "clear.describe()\n"
   ]
  },
  {
   "cell_type": "markdown",
   "id": "2b4070c2",
   "metadata": {},
   "source": [
    "# Train test split and StandardScale"
   ]
  },
  {
   "cell_type": "code",
   "execution_count": 53,
   "id": "ee094274",
   "metadata": {},
   "outputs": [],
   "source": [
    "X_train, X_test, y_train, y_test = train_test_split(clear.drop(['churn'],axis=1), \n",
    "                                                   clear.churn, random_state=1)\n",
    "\n",
    "d_X_train, d_X_test, d_y_train, d_y_test = train_test_split(data.drop(['churn'],axis=1), \n",
    "                                                   data.churn, random_state=1)"
   ]
  },
  {
   "cell_type": "code",
   "execution_count": 54,
   "id": "fb441faa",
   "metadata": {},
   "outputs": [
    {
     "name": "stdout",
     "output_type": "stream",
     "text": [
      "(72959, 224)\n",
      "(24320, 224)\n"
     ]
    }
   ],
   "source": [
    "print(X_train.shape)\n",
    "print(X_test.shape)"
   ]
  },
  {
   "cell_type": "code",
   "execution_count": 55,
   "id": "02ba598c",
   "metadata": {},
   "outputs": [
    {
     "data": {
      "text/plain": [
       "StandardScaler()"
      ]
     },
     "execution_count": 55,
     "metadata": {},
     "output_type": "execute_result"
    }
   ],
   "source": [
    "scaler = StandardScaler()\n",
    "scaler.fit(X_train)"
   ]
  },
  {
   "cell_type": "code",
   "execution_count": 56,
   "id": "c55eab09",
   "metadata": {},
   "outputs": [],
   "source": [
    "X_train_scaled = scaler.transform(X_train)\n",
    "X_test_scaled = scaler.transform(X_test)"
   ]
  },
  {
   "cell_type": "code",
   "execution_count": 57,
   "id": "92ebb970",
   "metadata": {},
   "outputs": [
    {
     "data": {
      "text/plain": [
       "array([[-0.65624094, -0.78890436, -0.23840178, ..., -0.33333587,\n",
       "        -0.66641095,  0.69294213],\n",
       "       [-0.12476652,  0.22367805,  1.13372467, ..., -0.33333587,\n",
       "        -0.66641095,  0.69294213],\n",
       "       [ 0.70652118,  0.79792033,  0.67634919, ..., -0.33333587,\n",
       "         1.50057558, -1.44312196],\n",
       "       ...,\n",
       "       [ 0.19061237,  2.23269057,  0.67634919, ..., -0.33333587,\n",
       "        -0.66641095,  0.69294213],\n",
       "       [-0.72011603, -0.70257307, -0.69531988, ..., -0.33333587,\n",
       "        -0.66641095,  0.69294213],\n",
       "       [-0.53150571,  0.95220269, -0.00971404, ..., -0.33333587,\n",
       "        -0.66641095,  0.69294213]])"
      ]
     },
     "execution_count": 57,
     "metadata": {},
     "output_type": "execute_result"
    }
   ],
   "source": [
    "X_train_scaled"
   ]
  },
  {
   "cell_type": "code",
   "execution_count": null,
   "id": "f4b01ded",
   "metadata": {},
   "outputs": [],
   "source": []
  },
  {
   "cell_type": "markdown",
   "id": "adce8018",
   "metadata": {},
   "source": [
    "# Linear models"
   ]
  },
  {
   "cell_type": "code",
   "execution_count": 58,
   "id": "03c73d48",
   "metadata": {},
   "outputs": [],
   "source": [
    "# Lasso\n",
    "regres_l1_low_C = LogisticRegression(penalty='none', C=0.01)\n",
    "regres_l1_avg_C = LogisticRegression(penalty='none', C=1.0)\n",
    "regres_l1_high_C = LogisticRegression(penalty='none', C=100)\n",
    "# Ridge\n",
    "regres_l2_low_C = LogisticRegression(penalty='l2', C=0.01)\n",
    "regres_l2_avg_C = LogisticRegression(penalty='l2', C=1.0)\n",
    "regres_l2_high_C = LogisticRegression(penalty='l2', C=10)\n",
    "# SVC\n",
    "svc_low_C = LinearSVC(C=0.01)\n",
    "svc_avg_C = LinearSVC(C=1.0)\n",
    "svc_high_C = LinearSVC(C=10)"
   ]
  },
  {
   "cell_type": "markdown",
   "id": "e7529028",
   "metadata": {},
   "source": [
    "# Fit Linear models"
   ]
  },
  {
   "cell_type": "code",
   "execution_count": 59,
   "id": "4d29915f",
   "metadata": {},
   "outputs": [
    {
     "data": {
      "text/plain": [
       "LinearSVC(C=10)"
      ]
     },
     "execution_count": 59,
     "metadata": {},
     "output_type": "execute_result"
    }
   ],
   "source": [
    "import warnings \n",
    "warnings.filterwarnings(\"ignore\")\n",
    "\n",
    "regres_l1_low_C.fit(X_train_scaled,y_train)\n",
    "regres_l1_avg_C.fit(X_train_scaled,y_train)\n",
    "regres_l1_high_C.fit(X_train_scaled,y_train)\n",
    "\n",
    "regres_l2_low_C.fit(X_train_scaled,y_train)\n",
    "regres_l2_avg_C.fit(X_train_scaled,y_train)\n",
    "regres_l2_high_C.fit(X_train_scaled,y_train)\n",
    "\n",
    "svc_low_C.fit(X_train_scaled,y_train)\n",
    "svc_avg_C.fit(X_train_scaled,y_train)\n",
    "svc_high_C.fit(X_train_scaled,y_train)"
   ]
  },
  {
   "cell_type": "markdown",
   "id": "d53a517c",
   "metadata": {},
   "source": [
    "# Check accuracy and overfitting\n",
    "### Mostly, I will use only accuracy, because number of \"1\" and \"0\" in churn is equal"
   ]
  },
  {
   "cell_type": "code",
   "execution_count": 60,
   "id": "0bb2133a",
   "metadata": {},
   "outputs": [
    {
     "name": "stdout",
     "output_type": "stream",
     "text": [
      "train accuracy  0.6009813730999602\n",
      "test accuracy  0.5912006578947369\n"
     ]
    },
    {
     "data": {
      "image/png": "[encoded data removed]",
      "text/plain": [
       "<Figure size 432x288 with 1 Axes>"
      ]
     },
     "metadata": {
      "needs_background": "light"
     },
     "output_type": "display_data"
    }
   ],
   "source": [
    "print('train accuracy ', regres_l1_low_C.score(X_train_scaled,y_train))\n",
    "print(\"test accuracy \", regres_l1_low_C.score(X_test_scaled,y_test))\n",
    "y_pred_proba = regres_l1_low_C.predict_proba(X_test_scaled)[::,1]\n",
    "fpr, tpr, _ = metrics.roc_curve(y_test,  y_pred_proba)\n",
    "\n",
    "#create ROC curve\n",
    "plt.plot(fpr,tpr)\n",
    "plt.ylabel('True Positive Rate')\n",
    "plt.xlabel('False Positive Rate')\n",
    "plt.show()"
   ]
  },
  {
   "cell_type": "code",
   "execution_count": 61,
   "id": "26f01015",
   "metadata": {},
   "outputs": [
    {
     "name": "stdout",
     "output_type": "stream",
     "text": [
      "train accuracy  0.6009813730999602\n",
      "test accuracy  0.5912006578947369\n"
     ]
    }
   ],
   "source": [
    "print('train accuracy ', regres_l1_avg_C.score(X_train_scaled,y_train))\n",
    "print(\"test accuracy \", regres_l1_avg_C.score(X_test_scaled,y_test))"
   ]
  },
  {
   "cell_type": "code",
   "execution_count": 62,
   "id": "2dcf22d3",
   "metadata": {},
   "outputs": [
    {
     "name": "stdout",
     "output_type": "stream",
     "text": [
      "train accuracy  0.6009813730999602\n",
      "test accuracy  0.5912006578947369\n"
     ]
    }
   ],
   "source": [
    "print('train accuracy ', regres_l1_high_C.score(X_train_scaled,y_train))\n",
    "print(\"test accuracy \", regres_l1_high_C.score(X_test_scaled,y_test))"
   ]
  },
  {
   "cell_type": "code",
   "execution_count": null,
   "id": "4b01d349",
   "metadata": {},
   "outputs": [],
   "source": []
  },
  {
   "cell_type": "code",
   "execution_count": 63,
   "id": "70c05b80",
   "metadata": {},
   "outputs": [
    {
     "name": "stdout",
     "output_type": "stream",
     "text": [
      "train accuracy  0.6001315807508326\n",
      "test accuracy  0.5904605263157895\n"
     ]
    }
   ],
   "source": [
    "print('train accuracy ', regres_l2_low_C.score(X_train_scaled,y_train))\n",
    "print(\"test accuracy \", regres_l2_low_C.score(X_test_scaled,y_test))"
   ]
  },
  {
   "cell_type": "code",
   "execution_count": 64,
   "id": "30b222cb",
   "metadata": {},
   "outputs": [
    {
     "name": "stdout",
     "output_type": "stream",
     "text": [
      "train accuracy  0.6008717224742663\n",
      "test accuracy  0.5910361842105263\n"
     ]
    }
   ],
   "source": [
    "print('train accuracy ', regres_l2_avg_C.score(X_train_scaled,y_train))\n",
    "print(\"test accuracy \", regres_l2_avg_C.score(X_test_scaled,y_test))"
   ]
  },
  {
   "cell_type": "code",
   "execution_count": 65,
   "id": "257d5fc5",
   "metadata": {},
   "outputs": [
    {
     "name": "stdout",
     "output_type": "stream",
     "text": [
      "train accuracy  0.6009676667717485\n",
      "test accuracy  0.5915296052631579\n"
     ]
    },
    {
     "data": {
      "image/png": "[encoded data removed]",
      "text/plain": [
       "<Figure size 432x288 with 1 Axes>"
      ]
     },
     "metadata": {
      "needs_background": "light"
     },
     "output_type": "display_data"
    }
   ],
   "source": [
    "print('train accuracy ', regres_l2_high_C.score(X_train_scaled,y_train))\n",
    "print(\"test accuracy \", regres_l2_high_C.score(X_test_scaled,y_test))\n",
    "y_pred_proba = regres_l1_low_C.predict_proba(X_test_scaled)[::,1]\n",
    "fpr, tpr, _ = metrics.roc_curve(y_test,  y_pred_proba)\n",
    "\n",
    "#create ROC curve\n",
    "plt.plot(fpr,tpr)\n",
    "plt.ylabel('True Positive Rate')\n",
    "plt.xlabel('False Positive Rate')\n",
    "plt.show()"
   ]
  },
  {
   "cell_type": "code",
   "execution_count": 66,
   "id": "3d092e54",
   "metadata": {},
   "outputs": [
    {
     "name": "stdout",
     "output_type": "stream",
     "text": [
      "train accuracy  0.6004879452843378\n",
      "test accuracy  0.5909539473684211\n"
     ]
    }
   ],
   "source": [
    "print('train accuracy ', svc_low_C.score(X_train_scaled,y_train))\n",
    "print(\"test accuracy \", svc_low_C.score(X_test_scaled,y_test))"
   ]
  },
  {
   "cell_type": "code",
   "execution_count": 67,
   "id": "c0a24417",
   "metadata": {},
   "outputs": [
    {
     "name": "stdout",
     "output_type": "stream",
     "text": [
      "train accuracy  0.5371784152743322\n",
      "test accuracy  0.5357319078947368\n"
     ]
    }
   ],
   "source": [
    "print('train accuracy ', svc_high_C.score(X_train_scaled,y_train))\n",
    "print(\"test accuracy \", svc_high_C.score(X_test_scaled,y_test))"
   ]
  },
  {
   "cell_type": "markdown",
   "id": "f0a556ff",
   "metadata": {},
   "source": [
    "# As we can see Linear models can't predict \"churn\". Let's try ensembles"
   ]
  },
  {
   "cell_type": "code",
   "execution_count": 68,
   "id": "ddebcc99",
   "metadata": {},
   "outputs": [
    {
     "data": {
      "text/plain": [
       "RandomizedSearchCV(estimator=RandomForestClassifier(n_jobs=-1),\n",
       "                   param_distributions={'max_depth': range(10, 150, 20),\n",
       "                                        'max_leaf_nodes': range(2, 20, 5),\n",
       "                                        'min_samples_leaf': range(2, 300, 50),\n",
       "                                        'min_samples_split': range(10, 200, 20)})"
      ]
     },
     "execution_count": 68,
     "metadata": {},
     "output_type": "execute_result"
    }
   ],
   "source": [
    "# fit with RandomizedSearchCV, just because it faster\n",
    "param = {'max_depth': range(10,150, 20), \n",
    "         'min_samples_split':range(10, 200, 20),\n",
    "         'min_samples_leaf': range(2, 300, 50),\n",
    "         'max_leaf_nodes': range(2,20,5)\n",
    "        }\n",
    "\n",
    "foresr_rand_CV = RandomizedSearchCV(\n",
    "    estimator=RandomForestClassifier(n_jobs=-1),\n",
    "param_distributions=param\n",
    ")\n",
    "# fit\n",
    "foresr_rand_CV.fit(X_train_scaled, y_train)"
   ]
  },
  {
   "cell_type": "code",
   "execution_count": 69,
   "id": "70cbd982",
   "metadata": {},
   "outputs": [
    {
     "name": "stdout",
     "output_type": "stream",
     "text": [
      "train accuracy:  0.6032977425677435\n",
      "test accuracy:  0.5983552631578948\n"
     ]
    }
   ],
   "source": [
    "# Score best estimator\n",
    "best_forest = foresr_rand_CV.best_estimator_\n",
    "# pd.DataFrame(best_forest.feature_importances_).plot.bar()\n",
    "# plt.show()\n",
    "print('train accuracy: ', best_forest.score(X_train_scaled, y_train))\n",
    "print(\"test accuracy: \",best_forest.score(X_test_scaled, y_test))"
   ]
  },
  {
   "cell_type": "code",
   "execution_count": 70,
   "id": "7edad372",
   "metadata": {},
   "outputs": [
    {
     "data": {
      "text/plain": [
       "GradientBoostingClassifier(learning_rate=0.01)"
      ]
     },
     "execution_count": 70,
     "metadata": {},
     "output_type": "execute_result"
    }
   ],
   "source": [
    "# Gradient descent\n",
    "grad_low_lr = GradientBoostingClassifier(learning_rate=0.0001, max_depth=4)\n",
    "grad_avg_lr = GradientBoostingClassifier(learning_rate=0.01)\n",
    "\n",
    "grad_low_lr.fit(X_train_scaled,y_train)\n",
    "grad_avg_lr.fit(X_train_scaled, y_train)"
   ]
  },
  {
   "cell_type": "code",
   "execution_count": 71,
   "id": "31436b88",
   "metadata": {},
   "outputs": [],
   "source": [
    "# grad_avg_lr = GradientBoostingClassifier(learning_rate=0.01, max_depth=5)\n",
    "# grad_avg_lr.fit(X_train, y_train)\n",
    "# print(\"test accuracy: \",grad_avg_lr.score(X_test_scaled, y_test))"
   ]
  },
  {
   "cell_type": "code",
   "execution_count": 72,
   "id": "4a90bf7e",
   "metadata": {},
   "outputs": [
    {
     "name": "stdout",
     "output_type": "stream",
     "text": [
      "lr = 0.0001\n",
      "train accuracy:  0.503570498499157\n",
      "test accuracy:  0.5009046052631579\n",
      "\n",
      "lr = 0.01\n",
      "train accuracy:  0.5909072218643348\n",
      "test accuracy:  0.5890625\n"
     ]
    }
   ],
   "source": [
    "print('lr = 0.0001')\n",
    "print('train accuracy: ', grad_low_lr.score(X_train_scaled, y_train))\n",
    "print(\"test accuracy: \",grad_low_lr.score(X_test_scaled, y_test))\n",
    "print()\n",
    "print('lr = 0.01')\n",
    "print('train accuracy: ', grad_avg_lr.score(X_train_scaled, y_train))\n",
    "print(\"test accuracy: \",grad_avg_lr.score(X_test_scaled, y_test))"
   ]
  },
  {
   "cell_type": "code",
   "execution_count": 73,
   "id": "0566de60",
   "metadata": {},
   "outputs": [
    {
     "name": "stdout",
     "output_type": "stream",
     "text": [
      "lr = 0.1\n",
      "train accuracy:  0.5909072218643348\n",
      "test accuracy:  0.5890625\n"
     ]
    }
   ],
   "source": [
    "grad_high_lr = GradientBoostingClassifier(learning_rate=0.1, max_depth=5)\n",
    "\n",
    "grad_high_lr.fit(X_train_scaled,y_train)\n",
    "print('lr = 0.1')\n",
    "print('train accuracy: ', grad_avg_lr.score(X_train_scaled, y_train))\n",
    "print(\"test accuracy: \",grad_avg_lr.score(X_test_scaled, y_test))"
   ]
  },
  {
   "cell_type": "code",
   "execution_count": 74,
   "id": "f17a7923",
   "metadata": {},
   "outputs": [
    {
     "name": "stdout",
     "output_type": "stream",
     "text": [
      "lr = 0.1\n",
      "train accuracy:  0.5909072218643348\n",
      "test accuracy:  0.5890625\n"
     ]
    }
   ],
   "source": [
    "grad_high_lr = GradientBoostingClassifier(learning_rate=1.0, max_depth=5)\n",
    "\n",
    "grad_high_lr.fit(X_train_scaled,y_train)\n",
    "print('lr = 0.1')\n",
    "print('train accuracy: ', grad_avg_lr.score(X_train_scaled, y_train))\n",
    "print(\"test accuracy: \",grad_avg_lr.score(X_test_scaled, y_test))"
   ]
  },
  {
   "cell_type": "markdown",
   "id": "6c70d044",
   "metadata": {},
   "source": [
    "### As we can see optimal learning rate is 0.1"
   ]
  },
  {
   "cell_type": "code",
   "execution_count": 75,
   "id": "c2a7f924",
   "metadata": {},
   "outputs": [
    {
     "data": {
      "image/png": "[encoded data removed]",
      "text/plain": [
       "<Figure size 432x288 with 1 Axes>"
      ]
     },
     "metadata": {
      "needs_background": "light"
     },
     "output_type": "display_data"
    }
   ],
   "source": [
    "y_pred_proba = grad_high_lr.predict_proba(X_test_scaled)[::,1]\n",
    "fpr, tpr, _ = metrics.roc_curve(y_test,  y_pred_proba)\n",
    "\n",
    "#create ROC curve\n",
    "plt.plot(fpr,tpr)\n",
    "plt.ylabel('True Positive Rate')\n",
    "plt.xlabel('False Positive Rate')\n",
    "plt.show()"
   ]
  },
  {
   "cell_type": "markdown",
   "id": "42f091f6",
   "metadata": {},
   "source": [
    "# KNeighborsClassifier \n",
    "## We don't have a large dataset and it will fit into RAM, we can use the k neighbors"
   ]
  },
  {
   "cell_type": "code",
   "execution_count": 76,
   "id": "04863d11",
   "metadata": {},
   "outputs": [
    {
     "data": {
      "text/plain": [
       "GridSearchCV(estimator=KNeighborsClassifier(n_jobs=-1),\n",
       "             param_grid={'n_neighbors': [2, 5, 10, 20, 40]})"
      ]
     },
     "execution_count": 76,
     "metadata": {},
     "output_type": "execute_result"
    }
   ],
   "source": [
    "params= {'n_neighbors':[2,5,10,20,40]}\n",
    "neighbors = GridSearchCV(KNeighborsClassifier(n_jobs=-1),param_grid=params)\n",
    "neighbors.fit(X_train_scaled,y_train)"
   ]
  },
  {
   "cell_type": "code",
   "execution_count": 77,
   "id": "2445b206",
   "metadata": {},
   "outputs": [
    {
     "name": "stdout",
     "output_type": "stream",
     "text": [
      "train accuracy:  0.5967872366671693\n",
      "test accuracy:  0.5519736842105263\n"
     ]
    }
   ],
   "source": [
    "best_neighbors = neighbors.best_estimator_\n",
    "\n",
    "print('train accuracy: ', best_neighbors.score(X_train_scaled, y_train))\n",
    "print(\"test accuracy: \",best_neighbors.score(X_test_scaled, y_test))"
   ]
  },
  {
   "cell_type": "code",
   "execution_count": 78,
   "id": "d65e44a0",
   "metadata": {},
   "outputs": [
    {
     "data": {
      "text/plain": [
       "(72959, 224)"
      ]
     },
     "execution_count": 78,
     "metadata": {},
     "output_type": "execute_result"
    }
   ],
   "source": [
    "X_train_scaled.shape"
   ]
  },
  {
   "cell_type": "markdown",
   "id": "8723e5fa",
   "metadata": {},
   "source": [
    "# Let's try DL\n",
    "## Just simpl model, I dont really think it will predict smth =)"
   ]
  },
  {
   "cell_type": "code",
   "execution_count": 79,
   "id": "2f78e28b",
   "metadata": {},
   "outputs": [],
   "source": [
    "# I will take only 30 most important features\n",
    "# The importance of the feature will be taken from Randomforest\n",
    "importance = best_forest.feature_importances_\n",
    "importance[::-1].sort()\n",
    "important_column_names = []\n",
    "for item in importance[:80]:\n",
    "    important_column_names.append(best_forest.feature_importances_.tolist().index(item))\n"
   ]
  },
  {
   "cell_type": "code",
   "execution_count": 80,
   "id": "d3a2f08d",
   "metadata": {},
   "outputs": [],
   "source": [
    "tensor_y_train = torch.FloatTensor(y_train.to_list())\n",
    "tensor_y_test = torch.FloatTensor(y_test.to_list())\n",
    "tensor_X_train_scaled = torch.FloatTensor(pd.DataFrame(X_train_scaled)[important_column_names].values)\n",
    "tensor_X_test_scaled = torch.FloatTensor(pd.DataFrame(X_test_scaled)[important_column_names].values)"
   ]
  },
  {
   "cell_type": "code",
   "execution_count": 81,
   "id": "81f59ddd",
   "metadata": {},
   "outputs": [],
   "source": [
    "class ChurnNet(torch.nn.Module):\n",
    "    def __init__(self, n_hidden_neurons):\n",
    "        super(ChurnNet, self).__init__()\n",
    "        self.fc1 = torch.nn.Linear(80,n_hidden_neurons)\n",
    "        self.act1 = torch.nn.ReLU()\n",
    "        self.fc2 = torch.nn.Linear(n_hidden_neurons,n_hidden_neurons//2)\n",
    "        self.act2 = torch.nn.ReLU()\n",
    "        self.fc3 = torch.nn.Linear(n_hidden_neurons//2,1)\n",
    "        self.act3 = torch.nn.Sigmoid()\n",
    "        \n",
    "    def forward(self,x):\n",
    "        x = self.fc1(x)\n",
    "        x = self.act1(x)\n",
    "        x = self.fc2(x)\n",
    "        x = self.act2(x)\n",
    "        x = self.fc3(x)\n",
    "        x = self.act3(x)\n",
    "        return x\n",
    "\n",
    "net = ChurnNet(200) "
   ]
  },
  {
   "cell_type": "code",
   "execution_count": 82,
   "id": "cb44ce4e",
   "metadata": {},
   "outputs": [
    {
     "data": {
      "text/plain": [
       "array([0.17830598, 0.1584377 , 0.05848833, 0.05428032, 0.03874154,\n",
       "       0.03562261, 0.03195405, 0.03006159, 0.025775  , 0.02262926,\n",
       "       0.01761213, 0.01736853, 0.016675  , 0.01636158, 0.01595161,\n",
       "       0.01513428, 0.0123207 , 0.01229238, 0.01186387, 0.01161178,\n",
       "       0.0115903 , 0.01085417, 0.01016788, 0.00927777, 0.00871854,\n",
       "       0.00841622, 0.00839135, 0.0082856 , 0.00802253, 0.00723267])"
      ]
     },
     "execution_count": 82,
     "metadata": {},
     "output_type": "execute_result"
    }
   ],
   "source": [
    "importance[:30]"
   ]
  },
  {
   "cell_type": "code",
   "execution_count": 83,
   "id": "ea8cb62e",
   "metadata": {},
   "outputs": [
    {
     "data": {
      "text/plain": [
       "torch.Size([72959, 80])"
      ]
     },
     "execution_count": 83,
     "metadata": {},
     "output_type": "execute_result"
    }
   ],
   "source": [
    "tensor_X_train_scaled.shape"
   ]
  },
  {
   "cell_type": "code",
   "execution_count": null,
   "id": "3c7ba589",
   "metadata": {},
   "outputs": [],
   "source": []
  },
  {
   "cell_type": "code",
   "execution_count": 84,
   "id": "b65bb9ac",
   "metadata": {},
   "outputs": [],
   "source": [
    "optimizer = torch.optim.Adam(net.parameters(), lr=1.0e-2)\n",
    "loss = torch.nn.functional.binary_cross_entropy\n"
   ]
  },
  {
   "cell_type": "code",
   "execution_count": 85,
   "id": "cbe5219d",
   "metadata": {},
   "outputs": [
    {
     "name": "stdout",
     "output_type": "stream",
     "text": [
      "torch.Size([72959, 80])\n",
      "torch.Size([72959])\n"
     ]
    },
    {
     "data": {
      "text/plain": [
       "tensor([[1.],\n",
       "        [0.],\n",
       "        [0.],\n",
       "        ...,\n",
       "        [0.],\n",
       "        [0.],\n",
       "        [1.]])"
      ]
     },
     "execution_count": 85,
     "metadata": {},
     "output_type": "execute_result"
    }
   ],
   "source": [
    "print(tensor_X_train_scaled.shape)\n",
    "print(tensor_y_train.shape)\n",
    "tensor_y_train.unsqueeze_(1)\n",
    "tensor_y_test.unsqueeze_(1)"
   ]
  },
  {
   "cell_type": "code",
   "execution_count": 86,
   "id": "7fe7ddee",
   "metadata": {},
   "outputs": [
    {
     "data": {
      "text/plain": [
       "torch.Size([72959, 1])"
      ]
     },
     "execution_count": 86,
     "metadata": {},
     "output_type": "execute_result"
    }
   ],
   "source": [
    "tensor_y_train.shape"
   ]
  },
  {
   "cell_type": "code",
   "execution_count": 87,
   "id": "2dfd3029",
   "metadata": {},
   "outputs": [
    {
     "name": "stdout",
     "output_type": "stream",
     "text": [
      "tensor(0.5009)\n",
      "tensor(0.5009)\n",
      "tensor(0.5009)\n",
      "tensor(0.5009)\n",
      "tensor(0.5009)\n",
      "tensor(0.5009)\n",
      "tensor(0.5009)\n",
      "tensor(0.5009)\n",
      "tensor(0.5009)\n",
      "tensor(0.5009)\n",
      "tensor(0.5009)\n",
      "tensor(0.5009)\n",
      "tensor(0.5009)\n",
      "tensor(0.5009)\n",
      "tensor(0.5009)\n",
      "tensor(0.5009)\n",
      "tensor(0.5009)\n",
      "tensor(0.5009)\n",
      "tensor(0.5009)\n",
      "tensor(0.5009)\n",
      "tensor(0.5009)\n",
      "tensor(0.5009)\n",
      "tensor(0.5009)\n",
      "tensor(0.5009)\n",
      "tensor(0.5009)\n",
      "tensor(0.5009)\n",
      "tensor(0.5009)\n",
      "tensor(0.5009)\n",
      "tensor(0.5009)\n",
      "tensor(0.5009)\n"
     ]
    }
   ],
   "source": [
    "batch_size = 100\n",
    "\n",
    "for epoch in range(30):\n",
    "    order = np.random.permutation(len(tensor_X_train_scaled))\n",
    "\n",
    "    for start_index in range(0, len(tensor_X_train_scaled), batch_size):\n",
    "        optimizer.zero_grad()\n",
    "        net.train()\n",
    "        batch_indexes = order[start_index:start_index+batch_size]\n",
    "\n",
    "        X_batch = tensor_X_train_scaled[batch_indexes]\n",
    "        y_batch = tensor_y_train[batch_indexes]\n",
    "\n",
    "        preds = net.forward(X_batch)\n",
    "        loss_value = loss(preds, y_batch)\n",
    "        loss_value.backward()\n",
    "\n",
    "        optimizer.step()\n",
    "        \n",
    "    test_preds = net.forward(X_batch)\n",
    "    accuracy = (test_preds.argmax(dim=1) == tensor_y_test).float().mean().data\n",
    "\n",
    "    print(accuracy)"
   ]
  },
  {
   "cell_type": "markdown",
   "id": "6e1b3695",
   "metadata": {},
   "source": [
    "## Yeap, It doesn't want to predict nothing"
   ]
  },
  {
   "cell_type": "markdown",
   "id": "0f6e4866",
   "metadata": {},
   "source": [
    "## To sum up, the best accuracy (I have already explained why I use this metric) have GradientBoostingClassifier(learning_rate=0.1, max_depth=5), with accuracy 63% on test data. "
   ]
  },
  {
   "cell_type": "code",
   "execution_count": 88,
   "id": "7995164a",
   "metadata": {},
   "outputs": [
    {
     "name": "stdout",
     "output_type": "stream",
     "text": [
      "--- 1645.9925751686096 seconds ---\n"
     ]
    }
   ],
   "source": [
    "print(\"--- %s seconds ---\" % (time.time() - start_time))"
   ]
  },
  {
   "cell_type": "code",
   "execution_count": null,
   "id": "c45ba4f8",
   "metadata": {},
   "outputs": [],
   "source": []
  }
 ],
 "metadata": {
  "kernelspec": {
   "display_name": "Python 3 (ipykernel)",
   "language": "python",
   "name": "python3"
  },
  "language_info": {
   "codemirror_mode": {
    "name": "ipython",
    "version": 3
   },
   "file_extension": ".py",
   "mimetype": "text/x-python",
   "name": "python",
   "nbconvert_exporter": "python",
   "pygments_lexer": "ipython3",
   "version": "3.9.7"
  },
  "varInspector": {
   "cols": {
    "lenName": 16,
    "lenType": 16,
    "lenVar": 40
   },
   "kernels_config": {
    "python": {
     "delete_cmd_postfix": "",
     "delete_cmd_prefix": "del ",
     "library": "var_list.py",
     "varRefreshCmd": "print(var_dic_list())"
    },
    "r": {
     "delete_cmd_postfix": ") ",
     "delete_cmd_prefix": "rm(",
     "library": "var_list.r",
     "varRefreshCmd": "cat(var_dic_list()) "
    }
   },
   "types_to_exclude": [
    "module",
    "function",
    "builtin_function_or_method",
    "instance",
    "_Feature"
   ],
   "window_display": false
  }
 },
 "nbformat": 4,
 "nbformat_minor": 5
}
