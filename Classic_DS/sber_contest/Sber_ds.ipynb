{
 "cells": [
  {
   "cell_type": "code",
   "execution_count": 25,
   "id": "20873295",
   "metadata": {},
   "outputs": [],
   "source": [
    "import pandas as pd\n",
    "import numpy as np\n",
    "import matplotlib as pl\n",
    "%matplotlib inline\n",
    "import matplotlib.pyplot as plt\n",
    "import seaborn as sns"
   ]
  },
  {
   "cell_type": "code",
   "execution_count": 26,
   "id": "df2024bc",
   "metadata": {},
   "outputs": [],
   "source": [
    "data = pd.read_csv(\"./churn_dataset.csv/churn_dataset.csv\")"
   ]
  },
  {
   "cell_type": "code",
   "execution_count": 27,
   "id": "2df79cdb",
   "metadata": {},
   "outputs": [
    {
     "data": {
      "text/html": [
       "<div>\n",
       "<style scoped>\n",
       "    .dataframe tbody tr th:only-of-type {\n",
       "        vertical-align: middle;\n",
       "    }\n",
       "\n",
       "    .dataframe tbody tr th {\n",
       "        vertical-align: top;\n",
       "    }\n",
       "\n",
       "    .dataframe thead th {\n",
       "        text-align: right;\n",
       "    }\n",
       "</style>\n",
       "<table border=\"1\" class=\"dataframe\">\n",
       "  <thead>\n",
       "    <tr style=\"text-align: right;\">\n",
       "      <th></th>\n",
       "      <th>rev_Mean</th>\n",
       "      <th>mou_Mean</th>\n",
       "      <th>totmrc_Mean</th>\n",
       "      <th>da_Mean</th>\n",
       "      <th>ovrmou_Mean</th>\n",
       "      <th>ovrrev_Mean</th>\n",
       "      <th>vceovr_Mean</th>\n",
       "      <th>datovr_Mean</th>\n",
       "      <th>roam_Mean</th>\n",
       "      <th>change_mou</th>\n",
       "      <th>...</th>\n",
       "      <th>forgntvl</th>\n",
       "      <th>ethnic</th>\n",
       "      <th>kid0_2</th>\n",
       "      <th>kid3_5</th>\n",
       "      <th>kid6_10</th>\n",
       "      <th>kid11_15</th>\n",
       "      <th>kid16_17</th>\n",
       "      <th>creditcd</th>\n",
       "      <th>eqpdays</th>\n",
       "      <th>Customer_ID</th>\n",
       "    </tr>\n",
       "  </thead>\n",
       "  <tbody>\n",
       "    <tr>\n",
       "      <th>0</th>\n",
       "      <td>23.9975</td>\n",
       "      <td>219.25</td>\n",
       "      <td>22.500</td>\n",
       "      <td>0.2475</td>\n",
       "      <td>0.00</td>\n",
       "      <td>0.0</td>\n",
       "      <td>0.0</td>\n",
       "      <td>0.0</td>\n",
       "      <td>0.0</td>\n",
       "      <td>-157.25</td>\n",
       "      <td>...</td>\n",
       "      <td>0.0</td>\n",
       "      <td>N</td>\n",
       "      <td>U</td>\n",
       "      <td>U</td>\n",
       "      <td>U</td>\n",
       "      <td>U</td>\n",
       "      <td>U</td>\n",
       "      <td>Y</td>\n",
       "      <td>361.0</td>\n",
       "      <td>1000001</td>\n",
       "    </tr>\n",
       "    <tr>\n",
       "      <th>1</th>\n",
       "      <td>57.4925</td>\n",
       "      <td>482.75</td>\n",
       "      <td>37.425</td>\n",
       "      <td>0.2475</td>\n",
       "      <td>22.75</td>\n",
       "      <td>9.1</td>\n",
       "      <td>9.1</td>\n",
       "      <td>0.0</td>\n",
       "      <td>0.0</td>\n",
       "      <td>532.25</td>\n",
       "      <td>...</td>\n",
       "      <td>0.0</td>\n",
       "      <td>Z</td>\n",
       "      <td>U</td>\n",
       "      <td>U</td>\n",
       "      <td>U</td>\n",
       "      <td>U</td>\n",
       "      <td>U</td>\n",
       "      <td>Y</td>\n",
       "      <td>240.0</td>\n",
       "      <td>1000002</td>\n",
       "    </tr>\n",
       "    <tr>\n",
       "      <th>2</th>\n",
       "      <td>16.9900</td>\n",
       "      <td>10.25</td>\n",
       "      <td>16.990</td>\n",
       "      <td>0.0000</td>\n",
       "      <td>0.00</td>\n",
       "      <td>0.0</td>\n",
       "      <td>0.0</td>\n",
       "      <td>0.0</td>\n",
       "      <td>0.0</td>\n",
       "      <td>-4.25</td>\n",
       "      <td>...</td>\n",
       "      <td>0.0</td>\n",
       "      <td>N</td>\n",
       "      <td>U</td>\n",
       "      <td>Y</td>\n",
       "      <td>U</td>\n",
       "      <td>U</td>\n",
       "      <td>U</td>\n",
       "      <td>Y</td>\n",
       "      <td>1504.0</td>\n",
       "      <td>1000003</td>\n",
       "    </tr>\n",
       "    <tr>\n",
       "      <th>3</th>\n",
       "      <td>38.0000</td>\n",
       "      <td>7.50</td>\n",
       "      <td>38.000</td>\n",
       "      <td>0.0000</td>\n",
       "      <td>0.00</td>\n",
       "      <td>0.0</td>\n",
       "      <td>0.0</td>\n",
       "      <td>0.0</td>\n",
       "      <td>0.0</td>\n",
       "      <td>-1.50</td>\n",
       "      <td>...</td>\n",
       "      <td>0.0</td>\n",
       "      <td>U</td>\n",
       "      <td>Y</td>\n",
       "      <td>U</td>\n",
       "      <td>U</td>\n",
       "      <td>U</td>\n",
       "      <td>U</td>\n",
       "      <td>Y</td>\n",
       "      <td>1812.0</td>\n",
       "      <td>1000004</td>\n",
       "    </tr>\n",
       "    <tr>\n",
       "      <th>4</th>\n",
       "      <td>55.2300</td>\n",
       "      <td>570.50</td>\n",
       "      <td>71.980</td>\n",
       "      <td>0.0000</td>\n",
       "      <td>0.00</td>\n",
       "      <td>0.0</td>\n",
       "      <td>0.0</td>\n",
       "      <td>0.0</td>\n",
       "      <td>0.0</td>\n",
       "      <td>38.50</td>\n",
       "      <td>...</td>\n",
       "      <td>0.0</td>\n",
       "      <td>I</td>\n",
       "      <td>U</td>\n",
       "      <td>U</td>\n",
       "      <td>U</td>\n",
       "      <td>U</td>\n",
       "      <td>U</td>\n",
       "      <td>Y</td>\n",
       "      <td>434.0</td>\n",
       "      <td>1000005</td>\n",
       "    </tr>\n",
       "  </tbody>\n",
       "</table>\n",
       "<p>5 rows × 100 columns</p>\n",
       "</div>"
      ],
      "text/plain": [
       "   rev_Mean  mou_Mean  totmrc_Mean  da_Mean  ovrmou_Mean  ovrrev_Mean  \\\n",
       "0   23.9975    219.25       22.500   0.2475         0.00          0.0   \n",
       "1   57.4925    482.75       37.425   0.2475        22.75          9.1   \n",
       "2   16.9900     10.25       16.990   0.0000         0.00          0.0   \n",
       "3   38.0000      7.50       38.000   0.0000         0.00          0.0   \n",
       "4   55.2300    570.50       71.980   0.0000         0.00          0.0   \n",
       "\n",
       "   vceovr_Mean  datovr_Mean  roam_Mean  change_mou  ...  forgntvl  ethnic  \\\n",
       "0          0.0          0.0        0.0     -157.25  ...       0.0       N   \n",
       "1          9.1          0.0        0.0      532.25  ...       0.0       Z   \n",
       "2          0.0          0.0        0.0       -4.25  ...       0.0       N   \n",
       "3          0.0          0.0        0.0       -1.50  ...       0.0       U   \n",
       "4          0.0          0.0        0.0       38.50  ...       0.0       I   \n",
       "\n",
       "   kid0_2  kid3_5  kid6_10  kid11_15  kid16_17  creditcd  eqpdays  Customer_ID  \n",
       "0       U       U        U         U         U         Y    361.0      1000001  \n",
       "1       U       U        U         U         U         Y    240.0      1000002  \n",
       "2       U       Y        U         U         U         Y   1504.0      1000003  \n",
       "3       Y       U        U         U         U         Y   1812.0      1000004  \n",
       "4       U       U        U         U         U         Y    434.0      1000005  \n",
       "\n",
       "[5 rows x 100 columns]"
      ]
     },
     "execution_count": 27,
     "metadata": {},
     "output_type": "execute_result"
    }
   ],
   "source": [
    "data.head()"
   ]
  },
  {
   "cell_type": "code",
   "execution_count": 28,
   "id": "7f564f60",
   "metadata": {},
   "outputs": [
    {
     "data": {
      "text/plain": [
       "(100000, 100)"
      ]
     },
     "execution_count": 28,
     "metadata": {},
     "output_type": "execute_result"
    }
   ],
   "source": [
    "data.shape"
   ]
  },
  {
   "cell_type": "code",
   "execution_count": 29,
   "id": "0b76db15",
   "metadata": {},
   "outputs": [
    {
     "data": {
      "text/plain": [
       "array([dtype('float64'), dtype('int64'), dtype('O')], dtype=object)"
      ]
     },
     "execution_count": 29,
     "metadata": {},
     "output_type": "execute_result"
    }
   ],
   "source": [
    "data.dtypes.unique()"
   ]
  },
  {
   "cell_type": "code",
   "execution_count": 30,
   "id": "321c5d87",
   "metadata": {},
   "outputs": [
    {
     "name": "stdout",
     "output_type": "stream",
     "text": [
      "<class 'pandas.core.frame.DataFrame'>\n",
      "RangeIndex: 100000 entries, 0 to 99999\n",
      "Data columns (total 100 columns):\n",
      " #   Column            Non-Null Count   Dtype  \n",
      "---  ------            --------------   -----  \n",
      " 0   rev_Mean          99643 non-null   float64\n",
      " 1   mou_Mean          99643 non-null   float64\n",
      " 2   totmrc_Mean       99643 non-null   float64\n",
      " 3   da_Mean           99643 non-null   float64\n",
      " 4   ovrmou_Mean       99643 non-null   float64\n",
      " 5   ovrrev_Mean       99643 non-null   float64\n",
      " 6   vceovr_Mean       99643 non-null   float64\n",
      " 7   datovr_Mean       99643 non-null   float64\n",
      " 8   roam_Mean         99643 non-null   float64\n",
      " 9   change_mou        99109 non-null   float64\n",
      " 10  change_rev        99109 non-null   float64\n",
      " 11  drop_vce_Mean     100000 non-null  float64\n",
      " 12  drop_dat_Mean     100000 non-null  float64\n",
      " 13  blck_vce_Mean     100000 non-null  float64\n",
      " 14  blck_dat_Mean     100000 non-null  float64\n",
      " 15  unan_vce_Mean     100000 non-null  float64\n",
      " 16  unan_dat_Mean     100000 non-null  float64\n",
      " 17  plcd_vce_Mean     100000 non-null  float64\n",
      " 18  plcd_dat_Mean     100000 non-null  float64\n",
      " 19  recv_vce_Mean     100000 non-null  float64\n",
      " 20  recv_sms_Mean     100000 non-null  float64\n",
      " 21  comp_vce_Mean     100000 non-null  float64\n",
      " 22  comp_dat_Mean     100000 non-null  float64\n",
      " 23  custcare_Mean     100000 non-null  float64\n",
      " 24  ccrndmou_Mean     100000 non-null  float64\n",
      " 25  cc_mou_Mean       100000 non-null  float64\n",
      " 26  inonemin_Mean     100000 non-null  float64\n",
      " 27  threeway_Mean     100000 non-null  float64\n",
      " 28  mou_cvce_Mean     100000 non-null  float64\n",
      " 29  mou_cdat_Mean     100000 non-null  float64\n",
      " 30  mou_rvce_Mean     100000 non-null  float64\n",
      " 31  owylis_vce_Mean   100000 non-null  float64\n",
      " 32  mouowylisv_Mean   100000 non-null  float64\n",
      " 33  iwylis_vce_Mean   100000 non-null  float64\n",
      " 34  mouiwylisv_Mean   100000 non-null  float64\n",
      " 35  peak_vce_Mean     100000 non-null  float64\n",
      " 36  peak_dat_Mean     100000 non-null  float64\n",
      " 37  mou_peav_Mean     100000 non-null  float64\n",
      " 38  mou_pead_Mean     100000 non-null  float64\n",
      " 39  opk_vce_Mean      100000 non-null  float64\n",
      " 40  opk_dat_Mean      100000 non-null  float64\n",
      " 41  mou_opkv_Mean     100000 non-null  float64\n",
      " 42  mou_opkd_Mean     100000 non-null  float64\n",
      " 43  drop_blk_Mean     100000 non-null  float64\n",
      " 44  attempt_Mean      100000 non-null  float64\n",
      " 45  complete_Mean     100000 non-null  float64\n",
      " 46  callfwdv_Mean     100000 non-null  float64\n",
      " 47  callwait_Mean     100000 non-null  float64\n",
      " 48  churn             100000 non-null  int64  \n",
      " 49  months            100000 non-null  int64  \n",
      " 50  uniqsubs          100000 non-null  int64  \n",
      " 51  actvsubs          100000 non-null  int64  \n",
      " 52  new_cell          100000 non-null  object \n",
      " 53  crclscod          100000 non-null  object \n",
      " 54  asl_flag          100000 non-null  object \n",
      " 55  totcalls          100000 non-null  int64  \n",
      " 56  totmou            100000 non-null  float64\n",
      " 57  totrev            100000 non-null  float64\n",
      " 58  adjrev            100000 non-null  float64\n",
      " 59  adjmou            100000 non-null  float64\n",
      " 60  adjqty            100000 non-null  int64  \n",
      " 61  avgrev            100000 non-null  float64\n",
      " 62  avgmou            100000 non-null  float64\n",
      " 63  avgqty            100000 non-null  float64\n",
      " 64  avg3mou           100000 non-null  int64  \n",
      " 65  avg3qty           100000 non-null  int64  \n",
      " 66  avg3rev           100000 non-null  int64  \n",
      " 67  avg6mou           97161 non-null   float64\n",
      " 68  avg6qty           97161 non-null   float64\n",
      " 69  avg6rev           97161 non-null   float64\n",
      " 70  prizm_social_one  92612 non-null   object \n",
      " 71  area              99960 non-null   object \n",
      " 72  dualband          99999 non-null   object \n",
      " 73  refurb_new        99999 non-null   object \n",
      " 74  hnd_price         99153 non-null   float64\n",
      " 75  phones            99999 non-null   float64\n",
      " 76  models            99999 non-null   float64\n",
      " 77  hnd_webcap        89811 non-null   object \n",
      " 78  truck             98268 non-null   float64\n",
      " 79  rv                98268 non-null   float64\n",
      " 80  ownrent           66294 non-null   object \n",
      " 81  lor               69810 non-null   float64\n",
      " 82  dwlltype          68091 non-null   object \n",
      " 83  marital           98268 non-null   object \n",
      " 84  adults            76981 non-null   float64\n",
      " 85  infobase          77921 non-null   object \n",
      " 86  income            74564 non-null   float64\n",
      " 87  numbcars          50634 non-null   float64\n",
      " 88  HHstatin          62077 non-null   object \n",
      " 89  dwllsize          61692 non-null   object \n",
      " 90  forgntvl          98268 non-null   float64\n",
      " 91  ethnic            98268 non-null   object \n",
      " 92  kid0_2            98268 non-null   object \n",
      " 93  kid3_5            98268 non-null   object \n",
      " 94  kid6_10           98268 non-null   object \n",
      " 95  kid11_15          98268 non-null   object \n",
      " 96  kid16_17          98268 non-null   object \n",
      " 97  creditcd          98268 non-null   object \n",
      " 98  eqpdays           99999 non-null   float64\n",
      " 99  Customer_ID       100000 non-null  int64  \n",
      "dtypes: float64(69), int64(10), object(21)\n",
      "memory usage: 76.3+ MB\n"
     ]
    }
   ],
   "source": [
    "data.info()"
   ]
  },
  {
   "cell_type": "markdown",
   "id": "f6c5ab17",
   "metadata": {},
   "source": [
    "# Посмотрим на целевую переменную"
   ]
  },
  {
   "cell_type": "code",
   "execution_count": 31,
   "id": "c6be3caa",
   "metadata": {},
   "outputs": [
    {
     "data": {
      "text/plain": [
       "0    50438\n",
       "1    49562\n",
       "Name: churn, dtype: int64"
      ]
     },
     "execution_count": 31,
     "metadata": {},
     "output_type": "execute_result"
    }
   ],
   "source": [
    "data.churn.value_counts()\n",
    "# Примерно одинаковое количество элементов"
   ]
  },
  {
   "cell_type": "code",
   "execution_count": 32,
   "id": "f38039f1",
   "metadata": {},
   "outputs": [
    {
     "name": "stdout",
     "output_type": "stream",
     "text": [
      "21\n"
     ]
    },
    {
     "data": {
      "text/html": [
       "<div>\n",
       "<style scoped>\n",
       "    .dataframe tbody tr th:only-of-type {\n",
       "        vertical-align: middle;\n",
       "    }\n",
       "\n",
       "    .dataframe tbody tr th {\n",
       "        vertical-align: top;\n",
       "    }\n",
       "\n",
       "    .dataframe thead th {\n",
       "        text-align: right;\n",
       "    }\n",
       "</style>\n",
       "<table border=\"1\" class=\"dataframe\">\n",
       "  <thead>\n",
       "    <tr style=\"text-align: right;\">\n",
       "      <th></th>\n",
       "      <th>new_cell</th>\n",
       "      <th>crclscod</th>\n",
       "      <th>asl_flag</th>\n",
       "      <th>prizm_social_one</th>\n",
       "      <th>area</th>\n",
       "      <th>dualband</th>\n",
       "      <th>refurb_new</th>\n",
       "      <th>hnd_webcap</th>\n",
       "      <th>ownrent</th>\n",
       "      <th>dwlltype</th>\n",
       "      <th>...</th>\n",
       "      <th>infobase</th>\n",
       "      <th>HHstatin</th>\n",
       "      <th>dwllsize</th>\n",
       "      <th>ethnic</th>\n",
       "      <th>kid0_2</th>\n",
       "      <th>kid3_5</th>\n",
       "      <th>kid6_10</th>\n",
       "      <th>kid11_15</th>\n",
       "      <th>kid16_17</th>\n",
       "      <th>creditcd</th>\n",
       "    </tr>\n",
       "  </thead>\n",
       "  <tbody>\n",
       "    <tr>\n",
       "      <th>0</th>\n",
       "      <td>U</td>\n",
       "      <td>A</td>\n",
       "      <td>N</td>\n",
       "      <td>S</td>\n",
       "      <td>NORTHWEST/ROCKY MOUNTAIN AREA</td>\n",
       "      <td>Y</td>\n",
       "      <td>N</td>\n",
       "      <td>WCMB</td>\n",
       "      <td>O</td>\n",
       "      <td>S</td>\n",
       "      <td>...</td>\n",
       "      <td>M</td>\n",
       "      <td>C</td>\n",
       "      <td>A</td>\n",
       "      <td>N</td>\n",
       "      <td>U</td>\n",
       "      <td>U</td>\n",
       "      <td>U</td>\n",
       "      <td>U</td>\n",
       "      <td>U</td>\n",
       "      <td>Y</td>\n",
       "    </tr>\n",
       "    <tr>\n",
       "      <th>1</th>\n",
       "      <td>N</td>\n",
       "      <td>EA</td>\n",
       "      <td>N</td>\n",
       "      <td>U</td>\n",
       "      <td>CHICAGO AREA</td>\n",
       "      <td>N</td>\n",
       "      <td>N</td>\n",
       "      <td>WC</td>\n",
       "      <td>NaN</td>\n",
       "      <td>S</td>\n",
       "      <td>...</td>\n",
       "      <td>M</td>\n",
       "      <td>C</td>\n",
       "      <td>A</td>\n",
       "      <td>Z</td>\n",
       "      <td>U</td>\n",
       "      <td>U</td>\n",
       "      <td>U</td>\n",
       "      <td>U</td>\n",
       "      <td>U</td>\n",
       "      <td>Y</td>\n",
       "    </tr>\n",
       "    <tr>\n",
       "      <th>2</th>\n",
       "      <td>Y</td>\n",
       "      <td>C</td>\n",
       "      <td>N</td>\n",
       "      <td>S</td>\n",
       "      <td>GREAT LAKES AREA</td>\n",
       "      <td>N</td>\n",
       "      <td>N</td>\n",
       "      <td>NaN</td>\n",
       "      <td>O</td>\n",
       "      <td>S</td>\n",
       "      <td>...</td>\n",
       "      <td>M</td>\n",
       "      <td>C</td>\n",
       "      <td>A</td>\n",
       "      <td>N</td>\n",
       "      <td>U</td>\n",
       "      <td>Y</td>\n",
       "      <td>U</td>\n",
       "      <td>U</td>\n",
       "      <td>U</td>\n",
       "      <td>Y</td>\n",
       "    </tr>\n",
       "    <tr>\n",
       "      <th>3</th>\n",
       "      <td>Y</td>\n",
       "      <td>B</td>\n",
       "      <td>N</td>\n",
       "      <td>T</td>\n",
       "      <td>CHICAGO AREA</td>\n",
       "      <td>N</td>\n",
       "      <td>N</td>\n",
       "      <td>NaN</td>\n",
       "      <td>NaN</td>\n",
       "      <td>M</td>\n",
       "      <td>...</td>\n",
       "      <td>M</td>\n",
       "      <td>C</td>\n",
       "      <td>D</td>\n",
       "      <td>U</td>\n",
       "      <td>Y</td>\n",
       "      <td>U</td>\n",
       "      <td>U</td>\n",
       "      <td>U</td>\n",
       "      <td>U</td>\n",
       "      <td>Y</td>\n",
       "    </tr>\n",
       "    <tr>\n",
       "      <th>4</th>\n",
       "      <td>Y</td>\n",
       "      <td>A</td>\n",
       "      <td>N</td>\n",
       "      <td>U</td>\n",
       "      <td>NEW ENGLAND AREA</td>\n",
       "      <td>Y</td>\n",
       "      <td>N</td>\n",
       "      <td>WCMB</td>\n",
       "      <td>R</td>\n",
       "      <td>M</td>\n",
       "      <td>...</td>\n",
       "      <td>M</td>\n",
       "      <td>C</td>\n",
       "      <td>O</td>\n",
       "      <td>I</td>\n",
       "      <td>U</td>\n",
       "      <td>U</td>\n",
       "      <td>U</td>\n",
       "      <td>U</td>\n",
       "      <td>U</td>\n",
       "      <td>Y</td>\n",
       "    </tr>\n",
       "    <tr>\n",
       "      <th>...</th>\n",
       "      <td>...</td>\n",
       "      <td>...</td>\n",
       "      <td>...</td>\n",
       "      <td>...</td>\n",
       "      <td>...</td>\n",
       "      <td>...</td>\n",
       "      <td>...</td>\n",
       "      <td>...</td>\n",
       "      <td>...</td>\n",
       "      <td>...</td>\n",
       "      <td>...</td>\n",
       "      <td>...</td>\n",
       "      <td>...</td>\n",
       "      <td>...</td>\n",
       "      <td>...</td>\n",
       "      <td>...</td>\n",
       "      <td>...</td>\n",
       "      <td>...</td>\n",
       "      <td>...</td>\n",
       "      <td>...</td>\n",
       "      <td>...</td>\n",
       "    </tr>\n",
       "    <tr>\n",
       "      <th>99995</th>\n",
       "      <td>U</td>\n",
       "      <td>B</td>\n",
       "      <td>N</td>\n",
       "      <td>U</td>\n",
       "      <td>LOS ANGELES AREA</td>\n",
       "      <td>N</td>\n",
       "      <td>N</td>\n",
       "      <td>WC</td>\n",
       "      <td>O</td>\n",
       "      <td>S</td>\n",
       "      <td>...</td>\n",
       "      <td>M</td>\n",
       "      <td>NaN</td>\n",
       "      <td>A</td>\n",
       "      <td>S</td>\n",
       "      <td>U</td>\n",
       "      <td>U</td>\n",
       "      <td>U</td>\n",
       "      <td>Y</td>\n",
       "      <td>U</td>\n",
       "      <td>Y</td>\n",
       "    </tr>\n",
       "    <tr>\n",
       "      <th>99996</th>\n",
       "      <td>U</td>\n",
       "      <td>CY</td>\n",
       "      <td>Y</td>\n",
       "      <td>S</td>\n",
       "      <td>LOS ANGELES AREA</td>\n",
       "      <td>N</td>\n",
       "      <td>N</td>\n",
       "      <td>WC</td>\n",
       "      <td>O</td>\n",
       "      <td>S</td>\n",
       "      <td>...</td>\n",
       "      <td>M</td>\n",
       "      <td>I</td>\n",
       "      <td>A</td>\n",
       "      <td>N</td>\n",
       "      <td>U</td>\n",
       "      <td>U</td>\n",
       "      <td>Y</td>\n",
       "      <td>Y</td>\n",
       "      <td>Y</td>\n",
       "      <td>Y</td>\n",
       "    </tr>\n",
       "    <tr>\n",
       "      <th>99997</th>\n",
       "      <td>U</td>\n",
       "      <td>DA</td>\n",
       "      <td>N</td>\n",
       "      <td>U</td>\n",
       "      <td>SOUTHWEST AREA</td>\n",
       "      <td>Y</td>\n",
       "      <td>N</td>\n",
       "      <td>WCMB</td>\n",
       "      <td>NaN</td>\n",
       "      <td>NaN</td>\n",
       "      <td>...</td>\n",
       "      <td>M</td>\n",
       "      <td>NaN</td>\n",
       "      <td>NaN</td>\n",
       "      <td>U</td>\n",
       "      <td>Y</td>\n",
       "      <td>Y</td>\n",
       "      <td>U</td>\n",
       "      <td>U</td>\n",
       "      <td>U</td>\n",
       "      <td>N</td>\n",
       "    </tr>\n",
       "    <tr>\n",
       "      <th>99998</th>\n",
       "      <td>U</td>\n",
       "      <td>EA</td>\n",
       "      <td>N</td>\n",
       "      <td>U</td>\n",
       "      <td>SOUTHWEST AREA</td>\n",
       "      <td>Y</td>\n",
       "      <td>N</td>\n",
       "      <td>WCMB</td>\n",
       "      <td>NaN</td>\n",
       "      <td>NaN</td>\n",
       "      <td>...</td>\n",
       "      <td>NaN</td>\n",
       "      <td>NaN</td>\n",
       "      <td>NaN</td>\n",
       "      <td>S</td>\n",
       "      <td>U</td>\n",
       "      <td>U</td>\n",
       "      <td>U</td>\n",
       "      <td>U</td>\n",
       "      <td>U</td>\n",
       "      <td>N</td>\n",
       "    </tr>\n",
       "    <tr>\n",
       "      <th>99999</th>\n",
       "      <td>U</td>\n",
       "      <td>B</td>\n",
       "      <td>N</td>\n",
       "      <td>S</td>\n",
       "      <td>LOS ANGELES AREA</td>\n",
       "      <td>Y</td>\n",
       "      <td>N</td>\n",
       "      <td>WCMB</td>\n",
       "      <td>NaN</td>\n",
       "      <td>S</td>\n",
       "      <td>...</td>\n",
       "      <td>M</td>\n",
       "      <td>NaN</td>\n",
       "      <td>A</td>\n",
       "      <td>H</td>\n",
       "      <td>U</td>\n",
       "      <td>U</td>\n",
       "      <td>U</td>\n",
       "      <td>U</td>\n",
       "      <td>U</td>\n",
       "      <td>N</td>\n",
       "    </tr>\n",
       "  </tbody>\n",
       "</table>\n",
       "<p>100000 rows × 21 columns</p>\n",
       "</div>"
      ],
      "text/plain": [
       "      new_cell crclscod asl_flag prizm_social_one  \\\n",
       "0            U        A        N                S   \n",
       "1            N       EA        N                U   \n",
       "2            Y        C        N                S   \n",
       "3            Y        B        N                T   \n",
       "4            Y        A        N                U   \n",
       "...        ...      ...      ...              ...   \n",
       "99995        U        B        N                U   \n",
       "99996        U       CY        Y                S   \n",
       "99997        U       DA        N                U   \n",
       "99998        U       EA        N                U   \n",
       "99999        U        B        N                S   \n",
       "\n",
       "                                area dualband refurb_new hnd_webcap ownrent  \\\n",
       "0      NORTHWEST/ROCKY MOUNTAIN AREA        Y          N       WCMB       O   \n",
       "1                       CHICAGO AREA        N          N         WC     NaN   \n",
       "2                   GREAT LAKES AREA        N          N        NaN       O   \n",
       "3                       CHICAGO AREA        N          N        NaN     NaN   \n",
       "4                   NEW ENGLAND AREA        Y          N       WCMB       R   \n",
       "...                              ...      ...        ...        ...     ...   \n",
       "99995               LOS ANGELES AREA        N          N         WC       O   \n",
       "99996               LOS ANGELES AREA        N          N         WC       O   \n",
       "99997                 SOUTHWEST AREA        Y          N       WCMB     NaN   \n",
       "99998                 SOUTHWEST AREA        Y          N       WCMB     NaN   \n",
       "99999               LOS ANGELES AREA        Y          N       WCMB     NaN   \n",
       "\n",
       "      dwlltype  ... infobase HHstatin dwllsize ethnic kid0_2 kid3_5 kid6_10  \\\n",
       "0            S  ...        M        C        A      N      U      U       U   \n",
       "1            S  ...        M        C        A      Z      U      U       U   \n",
       "2            S  ...        M        C        A      N      U      Y       U   \n",
       "3            M  ...        M        C        D      U      Y      U       U   \n",
       "4            M  ...        M        C        O      I      U      U       U   \n",
       "...        ...  ...      ...      ...      ...    ...    ...    ...     ...   \n",
       "99995        S  ...        M      NaN        A      S      U      U       U   \n",
       "99996        S  ...        M        I        A      N      U      U       Y   \n",
       "99997      NaN  ...        M      NaN      NaN      U      Y      Y       U   \n",
       "99998      NaN  ...      NaN      NaN      NaN      S      U      U       U   \n",
       "99999        S  ...        M      NaN        A      H      U      U       U   \n",
       "\n",
       "      kid11_15 kid16_17 creditcd  \n",
       "0            U        U        Y  \n",
       "1            U        U        Y  \n",
       "2            U        U        Y  \n",
       "3            U        U        Y  \n",
       "4            U        U        Y  \n",
       "...        ...      ...      ...  \n",
       "99995        Y        U        Y  \n",
       "99996        Y        Y        Y  \n",
       "99997        U        U        N  \n",
       "99998        U        U        N  \n",
       "99999        U        U        N  \n",
       "\n",
       "[100000 rows x 21 columns]"
      ]
     },
     "execution_count": 32,
     "metadata": {},
     "output_type": "execute_result"
    }
   ],
   "source": [
    "# All string columns\n",
    "obj_col = list(data.select_dtypes(['object']).columns)\n",
    "print(len(obj_col))\n",
    "data[obj_col]"
   ]
  },
  {
   "cell_type": "markdown",
   "id": "165cfac9",
   "metadata": {},
   "source": [
    "# Find and count all NaN values"
   ]
  },
  {
   "cell_type": "code",
   "execution_count": 33,
   "id": "e870b87b",
   "metadata": {},
   "outputs": [
    {
     "name": "stdout",
     "output_type": "stream",
     "text": [
      "[357, 357, 357, 357, 357, 357, 357, 357, 357, 891, 891, 0, 0, 0, 0, 0, 0, 0, 0, 0, 0, 0, 0, 0, 0, 0, 0, 0, 0, 0, 0, 0, 0, 0, 0, 0, 0, 0, 0, 0, 0, 0, 0, 0, 0, 0, 0, 0, 0, 0, 0, 0, 0, 0, 0, 0, 0, 0, 0, 0, 0, 0, 0, 0, 0, 0, 0, 2839, 2839, 2839, 7388, 40, 1, 1, 847, 1, 1, 10189, 1732, 1732, 33706, 30190, 31909, 1732, 23019, 22079, 25436, 49366, 37923, 38308, 1732, 1732, 1732, 1732, 1732, 1732, 1732, 1732, 1, 0]\n"
     ]
    },
    {
     "data": {
      "text/plain": [
       "<BarContainer object of 100 artists>"
      ]
     },
     "execution_count": 33,
     "metadata": {},
     "output_type": "execute_result"
    },
    {
     "data": {
      "image/png": "[encoded data removed]",
      "text/plain": [
       "<Figure size 432x288 with 1 Axes>"
      ]
     },
     "metadata": {
      "needs_background": "light"
     },
     "output_type": "display_data"
    }
   ],
   "source": [
    "none_counts = []\n",
    "for item in data.columns:\n",
    "    none_counts.append(data[item].isna().sum())\n",
    "print(none_counts)\n",
    "plt.bar(data.columns, none_counts)"
   ]
  },
  {
   "cell_type": "code",
   "execution_count": 34,
   "id": "97b8c1ec",
   "metadata": {},
   "outputs": [
    {
     "data": {
      "text/plain": [
       "['new_cell',\n",
       " 'crclscod',\n",
       " 'asl_flag',\n",
       " 'prizm_social_one',\n",
       " 'area',\n",
       " 'dualband',\n",
       " 'refurb_new',\n",
       " 'hnd_webcap',\n",
       " 'ownrent',\n",
       " 'dwlltype',\n",
       " 'marital',\n",
       " 'infobase',\n",
       " 'HHstatin',\n",
       " 'dwllsize',\n",
       " 'ethnic',\n",
       " 'kid0_2',\n",
       " 'kid3_5',\n",
       " 'kid6_10',\n",
       " 'kid11_15',\n",
       " 'kid16_17',\n",
       " 'creditcd']"
      ]
     },
     "execution_count": 34,
     "metadata": {},
     "output_type": "execute_result"
    }
   ],
   "source": [
    "obj_col"
   ]
  },
  {
   "cell_type": "markdown",
   "id": "845cff22",
   "metadata": {},
   "source": [
    "# One hot encoding"
   ]
  },
  {
   "cell_type": "code",
   "execution_count": 35,
   "id": "a57bee06",
   "metadata": {},
   "outputs": [],
   "source": [
    "data = pd.get_dummies(data)"
   ]
  },
  {
   "cell_type": "code",
   "execution_count": 36,
   "id": "b42cc03e",
   "metadata": {},
   "outputs": [
    {
     "data": {
      "text/plain": [
       "(100000, 232)"
      ]
     },
     "execution_count": 36,
     "metadata": {},
     "output_type": "execute_result"
    }
   ],
   "source": [
    "data.shape"
   ]
  },
  {
   "cell_type": "code",
   "execution_count": 37,
   "id": "31687943",
   "metadata": {},
   "outputs": [
    {
     "name": "stdout",
     "output_type": "stream",
     "text": [
      "[357, 357, 357, 357, 357, 357, 357, 357, 357, 891, 891, 0, 0, 0, 0, 0, 0, 0, 0, 0, 0, 0, 0, 0, 0, 0, 0, 0, 0, 0, 0, 0, 0, 0, 0, 0, 0, 0, 0, 0, 0, 0, 0, 0, 0, 0, 0, 0, 0, 0, 0, 0, 0, 0, 0, 0, 0, 0, 0, 0, 0, 0, 0, 0, 2839, 2839, 2839, 847, 1, 1, 1732, 1732, 30190, 23019, 25436, 49366, 1732, 1, 0, 0, 0, 0, 0, 0, 0, 0, 0, 0, 0, 0, 0, 0, 0, 0, 0, 0, 0, 0, 0, 0, 0, 0, 0, 0, 0, 0, 0, 0, 0, 0, 0, 0, 0, 0, 0, 0, 0, 0, 0, 0, 0, 0, 0, 0, 0, 0, 0, 0, 0, 0, 0, 0, 0, 0, 0, 0, 0, 0, 0, 0, 0, 0, 0, 0, 0, 0, 0, 0, 0, 0, 0, 0, 0, 0, 0, 0, 0, 0, 0, 0, 0, 0, 0, 0, 0, 0, 0, 0, 0, 0, 0, 0, 0, 0, 0, 0, 0, 0, 0, 0, 0, 0, 0, 0, 0, 0, 0, 0, 0, 0, 0, 0, 0, 0, 0, 0, 0, 0, 0, 0, 0, 0, 0, 0, 0, 0, 0, 0, 0, 0, 0, 0, 0, 0, 0, 0, 0, 0, 0, 0, 0, 0, 0, 0, 0, 0, 0, 0, 0, 0, 0, 0]\n"
     ]
    },
    {
     "data": {
      "image/png": "[encoded data removed]",
      "text/plain": [
       "<Figure size 432x288 with 1 Axes>"
      ]
     },
     "metadata": {
      "needs_background": "light"
     },
     "output_type": "display_data"
    }
   ],
   "source": [
    "none_counts = []\n",
    "for item in data.columns:\n",
    "    none_counts.append(data[item].isna().sum())\n",
    "print(none_counts)\n",
    "plt.bar(data.columns, none_counts)\n",
    "plt.ylabel('count of NaN values')\n",
    "plt.show()"
   ]
  },
  {
   "cell_type": "code",
   "execution_count": 38,
   "id": "a5811afa",
   "metadata": {},
   "outputs": [
    {
     "name": "stdout",
     "output_type": "stream",
     "text": [
      "float64\n"
     ]
    },
    {
     "data": {
      "text/plain": [
       "count    50634.000000\n",
       "mean         1.567563\n",
       "std          0.625456\n",
       "min          1.000000\n",
       "25%          1.000000\n",
       "50%          1.000000\n",
       "75%          2.000000\n",
       "max          3.000000\n",
       "Name: numbcars, dtype: float64"
      ]
     },
     "execution_count": 38,
     "metadata": {},
     "output_type": "execute_result"
    }
   ],
   "source": [
    "ind_of_max_none = none_counts.index(max(none_counts))\n",
    "column_lots_of_none = data.columns[75]\n",
    "print(data[column_lots_of_none].dtype)\n",
    "data[column_lots_of_none].describe()"
   ]
  },
  {
   "cell_type": "code",
   "execution_count": 39,
   "id": "eedbdb84",
   "metadata": {},
   "outputs": [
    {
     "data": {
      "text/html": [
       "<div>\n",
       "<style scoped>\n",
       "    .dataframe tbody tr th:only-of-type {\n",
       "        vertical-align: middle;\n",
       "    }\n",
       "\n",
       "    .dataframe tbody tr th {\n",
       "        vertical-align: top;\n",
       "    }\n",
       "\n",
       "    .dataframe thead th {\n",
       "        text-align: right;\n",
       "    }\n",
       "</style>\n",
       "<table border=\"1\" class=\"dataframe\">\n",
       "  <thead>\n",
       "    <tr style=\"text-align: right;\">\n",
       "      <th></th>\n",
       "      <th>rev_Mean</th>\n",
       "      <th>mou_Mean</th>\n",
       "      <th>totmrc_Mean</th>\n",
       "      <th>da_Mean</th>\n",
       "      <th>ovrmou_Mean</th>\n",
       "      <th>ovrrev_Mean</th>\n",
       "      <th>vceovr_Mean</th>\n",
       "      <th>datovr_Mean</th>\n",
       "      <th>roam_Mean</th>\n",
       "      <th>change_mou</th>\n",
       "      <th>...</th>\n",
       "      <th>new_cell_U</th>\n",
       "      <th>new_cell_Y</th>\n",
       "      <th>crclscod_A</th>\n",
       "      <th>crclscod_A2</th>\n",
       "      <th>crclscod_A3</th>\n",
       "      <th>crclscod_AA</th>\n",
       "      <th>crclscod_B</th>\n",
       "      <th>crclscod_B2</th>\n",
       "      <th>crclscod_BA</th>\n",
       "      <th>crclscod_C</th>\n",
       "    </tr>\n",
       "  </thead>\n",
       "  <tbody>\n",
       "    <tr>\n",
       "      <th>count</th>\n",
       "      <td>99643.000000</td>\n",
       "      <td>99643.000000</td>\n",
       "      <td>99643.000000</td>\n",
       "      <td>99643.000000</td>\n",
       "      <td>99643.000000</td>\n",
       "      <td>99643.000000</td>\n",
       "      <td>99643.000000</td>\n",
       "      <td>99643.000000</td>\n",
       "      <td>99643.000000</td>\n",
       "      <td>99109.000000</td>\n",
       "      <td>...</td>\n",
       "      <td>100000.000000</td>\n",
       "      <td>100000.000000</td>\n",
       "      <td>100000.00000</td>\n",
       "      <td>100000.00000</td>\n",
       "      <td>100000.000000</td>\n",
       "      <td>100000.000000</td>\n",
       "      <td>100000.000000</td>\n",
       "      <td>100000.000000</td>\n",
       "      <td>100000.000000</td>\n",
       "      <td>100000.000000</td>\n",
       "    </tr>\n",
       "    <tr>\n",
       "      <th>mean</th>\n",
       "      <td>58.719985</td>\n",
       "      <td>513.559937</td>\n",
       "      <td>46.179136</td>\n",
       "      <td>0.888828</td>\n",
       "      <td>41.072247</td>\n",
       "      <td>13.559560</td>\n",
       "      <td>13.295062</td>\n",
       "      <td>0.261318</td>\n",
       "      <td>1.286405</td>\n",
       "      <td>-13.933818</td>\n",
       "      <td>...</td>\n",
       "      <td>0.669140</td>\n",
       "      <td>0.193010</td>\n",
       "      <td>0.16996</td>\n",
       "      <td>0.00861</td>\n",
       "      <td>0.000030</td>\n",
       "      <td>0.365090</td>\n",
       "      <td>0.041100</td>\n",
       "      <td>0.001090</td>\n",
       "      <td>0.126670</td>\n",
       "      <td>0.014560</td>\n",
       "    </tr>\n",
       "    <tr>\n",
       "      <th>std</th>\n",
       "      <td>46.291677</td>\n",
       "      <td>525.168140</td>\n",
       "      <td>23.623489</td>\n",
       "      <td>2.177619</td>\n",
       "      <td>97.296150</td>\n",
       "      <td>30.500885</td>\n",
       "      <td>30.056089</td>\n",
       "      <td>3.126531</td>\n",
       "      <td>14.711374</td>\n",
       "      <td>276.087509</td>\n",
       "      <td>...</td>\n",
       "      <td>0.470525</td>\n",
       "      <td>0.394663</td>\n",
       "      <td>0.37560</td>\n",
       "      <td>0.09239</td>\n",
       "      <td>0.005477</td>\n",
       "      <td>0.481458</td>\n",
       "      <td>0.198523</td>\n",
       "      <td>0.032997</td>\n",
       "      <td>0.332605</td>\n",
       "      <td>0.119784</td>\n",
       "    </tr>\n",
       "    <tr>\n",
       "      <th>min</th>\n",
       "      <td>-6.167500</td>\n",
       "      <td>0.000000</td>\n",
       "      <td>-26.915000</td>\n",
       "      <td>0.000000</td>\n",
       "      <td>0.000000</td>\n",
       "      <td>0.000000</td>\n",
       "      <td>0.000000</td>\n",
       "      <td>0.000000</td>\n",
       "      <td>0.000000</td>\n",
       "      <td>-3875.000000</td>\n",
       "      <td>...</td>\n",
       "      <td>0.000000</td>\n",
       "      <td>0.000000</td>\n",
       "      <td>0.00000</td>\n",
       "      <td>0.00000</td>\n",
       "      <td>0.000000</td>\n",
       "      <td>0.000000</td>\n",
       "      <td>0.000000</td>\n",
       "      <td>0.000000</td>\n",
       "      <td>0.000000</td>\n",
       "      <td>0.000000</td>\n",
       "    </tr>\n",
       "    <tr>\n",
       "      <th>25%</th>\n",
       "      <td>33.260000</td>\n",
       "      <td>150.750000</td>\n",
       "      <td>30.000000</td>\n",
       "      <td>0.000000</td>\n",
       "      <td>0.000000</td>\n",
       "      <td>0.000000</td>\n",
       "      <td>0.000000</td>\n",
       "      <td>0.000000</td>\n",
       "      <td>0.000000</td>\n",
       "      <td>-87.000000</td>\n",
       "      <td>...</td>\n",
       "      <td>0.000000</td>\n",
       "      <td>0.000000</td>\n",
       "      <td>0.00000</td>\n",
       "      <td>0.00000</td>\n",
       "      <td>0.000000</td>\n",
       "      <td>0.000000</td>\n",
       "      <td>0.000000</td>\n",
       "      <td>0.000000</td>\n",
       "      <td>0.000000</td>\n",
       "      <td>0.000000</td>\n",
       "    </tr>\n",
       "    <tr>\n",
       "      <th>50%</th>\n",
       "      <td>48.195000</td>\n",
       "      <td>355.500000</td>\n",
       "      <td>44.990000</td>\n",
       "      <td>0.247500</td>\n",
       "      <td>2.750000</td>\n",
       "      <td>1.000000</td>\n",
       "      <td>0.682500</td>\n",
       "      <td>0.000000</td>\n",
       "      <td>0.000000</td>\n",
       "      <td>-6.250000</td>\n",
       "      <td>...</td>\n",
       "      <td>1.000000</td>\n",
       "      <td>0.000000</td>\n",
       "      <td>0.00000</td>\n",
       "      <td>0.00000</td>\n",
       "      <td>0.000000</td>\n",
       "      <td>0.000000</td>\n",
       "      <td>0.000000</td>\n",
       "      <td>0.000000</td>\n",
       "      <td>0.000000</td>\n",
       "      <td>0.000000</td>\n",
       "    </tr>\n",
       "    <tr>\n",
       "      <th>75%</th>\n",
       "      <td>70.750000</td>\n",
       "      <td>703.000000</td>\n",
       "      <td>59.990000</td>\n",
       "      <td>0.990000</td>\n",
       "      <td>42.000000</td>\n",
       "      <td>14.437500</td>\n",
       "      <td>14.025000</td>\n",
       "      <td>0.000000</td>\n",
       "      <td>0.235000</td>\n",
       "      <td>63.000000</td>\n",
       "      <td>...</td>\n",
       "      <td>1.000000</td>\n",
       "      <td>0.000000</td>\n",
       "      <td>0.00000</td>\n",
       "      <td>0.00000</td>\n",
       "      <td>0.000000</td>\n",
       "      <td>1.000000</td>\n",
       "      <td>0.000000</td>\n",
       "      <td>0.000000</td>\n",
       "      <td>0.000000</td>\n",
       "      <td>0.000000</td>\n",
       "    </tr>\n",
       "    <tr>\n",
       "      <th>max</th>\n",
       "      <td>3843.262500</td>\n",
       "      <td>12206.750000</td>\n",
       "      <td>409.990000</td>\n",
       "      <td>159.390000</td>\n",
       "      <td>4320.750000</td>\n",
       "      <td>1102.400000</td>\n",
       "      <td>896.087500</td>\n",
       "      <td>423.540000</td>\n",
       "      <td>3685.200000</td>\n",
       "      <td>31219.250000</td>\n",
       "      <td>...</td>\n",
       "      <td>1.000000</td>\n",
       "      <td>1.000000</td>\n",
       "      <td>1.00000</td>\n",
       "      <td>1.00000</td>\n",
       "      <td>1.000000</td>\n",
       "      <td>1.000000</td>\n",
       "      <td>1.000000</td>\n",
       "      <td>1.000000</td>\n",
       "      <td>1.000000</td>\n",
       "      <td>1.000000</td>\n",
       "    </tr>\n",
       "  </tbody>\n",
       "</table>\n",
       "<p>8 rows × 90 columns</p>\n",
       "</div>"
      ],
      "text/plain": [
       "           rev_Mean      mou_Mean   totmrc_Mean       da_Mean   ovrmou_Mean  \\\n",
       "count  99643.000000  99643.000000  99643.000000  99643.000000  99643.000000   \n",
       "mean      58.719985    513.559937     46.179136      0.888828     41.072247   \n",
       "std       46.291677    525.168140     23.623489      2.177619     97.296150   \n",
       "min       -6.167500      0.000000    -26.915000      0.000000      0.000000   \n",
       "25%       33.260000    150.750000     30.000000      0.000000      0.000000   \n",
       "50%       48.195000    355.500000     44.990000      0.247500      2.750000   \n",
       "75%       70.750000    703.000000     59.990000      0.990000     42.000000   \n",
       "max     3843.262500  12206.750000    409.990000    159.390000   4320.750000   \n",
       "\n",
       "        ovrrev_Mean   vceovr_Mean   datovr_Mean     roam_Mean    change_mou  \\\n",
       "count  99643.000000  99643.000000  99643.000000  99643.000000  99109.000000   \n",
       "mean      13.559560     13.295062      0.261318      1.286405    -13.933818   \n",
       "std       30.500885     30.056089      3.126531     14.711374    276.087509   \n",
       "min        0.000000      0.000000      0.000000      0.000000  -3875.000000   \n",
       "25%        0.000000      0.000000      0.000000      0.000000    -87.000000   \n",
       "50%        1.000000      0.682500      0.000000      0.000000     -6.250000   \n",
       "75%       14.437500     14.025000      0.000000      0.235000     63.000000   \n",
       "max     1102.400000    896.087500    423.540000   3685.200000  31219.250000   \n",
       "\n",
       "       ...     new_cell_U     new_cell_Y    crclscod_A   crclscod_A2  \\\n",
       "count  ...  100000.000000  100000.000000  100000.00000  100000.00000   \n",
       "mean   ...       0.669140       0.193010       0.16996       0.00861   \n",
       "std    ...       0.470525       0.394663       0.37560       0.09239   \n",
       "min    ...       0.000000       0.000000       0.00000       0.00000   \n",
       "25%    ...       0.000000       0.000000       0.00000       0.00000   \n",
       "50%    ...       1.000000       0.000000       0.00000       0.00000   \n",
       "75%    ...       1.000000       0.000000       0.00000       0.00000   \n",
       "max    ...       1.000000       1.000000       1.00000       1.00000   \n",
       "\n",
       "         crclscod_A3    crclscod_AA     crclscod_B    crclscod_B2  \\\n",
       "count  100000.000000  100000.000000  100000.000000  100000.000000   \n",
       "mean        0.000030       0.365090       0.041100       0.001090   \n",
       "std         0.005477       0.481458       0.198523       0.032997   \n",
       "min         0.000000       0.000000       0.000000       0.000000   \n",
       "25%         0.000000       0.000000       0.000000       0.000000   \n",
       "50%         0.000000       0.000000       0.000000       0.000000   \n",
       "75%         0.000000       1.000000       0.000000       0.000000   \n",
       "max         1.000000       1.000000       1.000000       1.000000   \n",
       "\n",
       "         crclscod_BA     crclscod_C  \n",
       "count  100000.000000  100000.000000  \n",
       "mean        0.126670       0.014560  \n",
       "std         0.332605       0.119784  \n",
       "min         0.000000       0.000000  \n",
       "25%         0.000000       0.000000  \n",
       "50%         0.000000       0.000000  \n",
       "75%         0.000000       0.000000  \n",
       "max         1.000000       1.000000  \n",
       "\n",
       "[8 rows x 90 columns]"
      ]
     },
     "execution_count": 39,
     "metadata": {},
     "output_type": "execute_result"
    }
   ],
   "source": [
    "data.iloc[:,:90].describe()"
   ]
  },
  {
   "cell_type": "markdown",
   "id": "2e0c0928",
   "metadata": {},
   "source": []
  },
  {
   "cell_type": "code",
   "execution_count": 40,
   "id": "21a37def",
   "metadata": {},
   "outputs": [],
   "source": [
    "# Create a new column 'numbcars_NaN'\n",
    "# If there is no value in the \"numbcars\" column, then = 0 and yes value = 1\n",
    "column_max_none = data.columns[ind_of_max_none]\n",
    "data[column_max_none+'_NaN'] = np.where(data[column_max_none].isnull(), 0,1)"
   ]
  },
  {
   "cell_type": "code",
   "execution_count": 41,
   "id": "cb30c29c",
   "metadata": {},
   "outputs": [
    {
     "data": {
      "text/html": [
       "<div>\n",
       "<style scoped>\n",
       "    .dataframe tbody tr th:only-of-type {\n",
       "        vertical-align: middle;\n",
       "    }\n",
       "\n",
       "    .dataframe tbody tr th {\n",
       "        vertical-align: top;\n",
       "    }\n",
       "\n",
       "    .dataframe thead th {\n",
       "        text-align: right;\n",
       "    }\n",
       "</style>\n",
       "<table border=\"1\" class=\"dataframe\">\n",
       "  <thead>\n",
       "    <tr style=\"text-align: right;\">\n",
       "      <th></th>\n",
       "      <th>numbcars</th>\n",
       "      <th>numbcars_NaN</th>\n",
       "    </tr>\n",
       "  </thead>\n",
       "  <tbody>\n",
       "    <tr>\n",
       "      <th>0</th>\n",
       "      <td>3.0</td>\n",
       "      <td>1</td>\n",
       "    </tr>\n",
       "    <tr>\n",
       "      <th>1</th>\n",
       "      <td>1.0</td>\n",
       "      <td>1</td>\n",
       "    </tr>\n",
       "    <tr>\n",
       "      <th>2</th>\n",
       "      <td>2.0</td>\n",
       "      <td>1</td>\n",
       "    </tr>\n",
       "    <tr>\n",
       "      <th>3</th>\n",
       "      <td>1.0</td>\n",
       "      <td>1</td>\n",
       "    </tr>\n",
       "    <tr>\n",
       "      <th>4</th>\n",
       "      <td>1.0</td>\n",
       "      <td>1</td>\n",
       "    </tr>\n",
       "    <tr>\n",
       "      <th>...</th>\n",
       "      <td>...</td>\n",
       "      <td>...</td>\n",
       "    </tr>\n",
       "    <tr>\n",
       "      <th>99995</th>\n",
       "      <td>2.0</td>\n",
       "      <td>1</td>\n",
       "    </tr>\n",
       "    <tr>\n",
       "      <th>99996</th>\n",
       "      <td>2.0</td>\n",
       "      <td>1</td>\n",
       "    </tr>\n",
       "    <tr>\n",
       "      <th>99997</th>\n",
       "      <td>NaN</td>\n",
       "      <td>0</td>\n",
       "    </tr>\n",
       "    <tr>\n",
       "      <th>99998</th>\n",
       "      <td>NaN</td>\n",
       "      <td>0</td>\n",
       "    </tr>\n",
       "    <tr>\n",
       "      <th>99999</th>\n",
       "      <td>NaN</td>\n",
       "      <td>0</td>\n",
       "    </tr>\n",
       "  </tbody>\n",
       "</table>\n",
       "<p>100000 rows × 2 columns</p>\n",
       "</div>"
      ],
      "text/plain": [
       "       numbcars  numbcars_NaN\n",
       "0           3.0             1\n",
       "1           1.0             1\n",
       "2           2.0             1\n",
       "3           1.0             1\n",
       "4           1.0             1\n",
       "...         ...           ...\n",
       "99995       2.0             1\n",
       "99996       2.0             1\n",
       "99997       NaN             0\n",
       "99998       NaN             0\n",
       "99999       NaN             0\n",
       "\n",
       "[100000 rows x 2 columns]"
      ]
     },
     "execution_count": 41,
     "metadata": {},
     "output_type": "execute_result"
    }
   ],
   "source": [
    "data[[column_max_none,column_max_none+'_NaN' ]]"
   ]
  },
  {
   "cell_type": "code",
   "execution_count": 42,
   "id": "b0c83ab5",
   "metadata": {},
   "outputs": [
    {
     "data": {
      "text/plain": [
       "1    50634\n",
       "0    49366\n",
       "Name: numbcars_NaN, dtype: int64"
      ]
     },
     "execution_count": 42,
     "metadata": {},
     "output_type": "execute_result"
    }
   ],
   "source": [
    "data['numbcars_NaN'].value_counts()"
   ]
  },
  {
   "cell_type": "code",
   "execution_count": 43,
   "id": "f3a461af",
   "metadata": {},
   "outputs": [
    {
     "data": {
      "text/plain": [
       "numbcars_NaN  churn\n",
       "0             1        0.502330\n",
       "              0        0.497670\n",
       "1             0        0.510922\n",
       "              1        0.489078\n",
       "Name: churn, dtype: float64"
      ]
     },
     "execution_count": 43,
     "metadata": {},
     "output_type": "execute_result"
    }
   ],
   "source": [
    "# Churn passengers by 'numbcars_NaN'\n",
    "data.groupby(['numbcars_NaN']) ['churn'].value_counts(normalize=True)"
   ]
  },
  {
   "cell_type": "code",
   "execution_count": null,
   "id": "285d830e",
   "metadata": {},
   "outputs": [],
   "source": []
  },
  {
   "cell_type": "code",
   "execution_count": null,
   "id": "0154b46b",
   "metadata": {},
   "outputs": [],
   "source": []
  },
  {
   "cell_type": "code",
   "execution_count": null,
   "id": "53f4a528",
   "metadata": {},
   "outputs": [],
   "source": []
  },
  {
   "cell_type": "code",
   "execution_count": null,
   "id": "3cad1132",
   "metadata": {},
   "outputs": [],
   "source": []
  },
  {
   "cell_type": "code",
   "execution_count": 44,
   "id": "23e674b9",
   "metadata": {},
   "outputs": [],
   "source": [
    "# drop numbcars and numbcars_NaN\n",
    "data = data.drop(['numbcars_NaN','numbcars'],axis=1)"
   ]
  },
  {
   "cell_type": "code",
   "execution_count": 45,
   "id": "2aa1931a",
   "metadata": {},
   "outputs": [
    {
     "name": "stdout",
     "output_type": "stream",
     "text": [
      "[357, 357, 357, 357, 357, 357, 357, 357, 357, 891, 891, 0, 0, 0, 0, 0, 0, 0, 0, 0, 0, 0, 0, 0, 0, 0, 0, 0, 0, 0, 0, 0, 0, 0, 0, 0, 0, 0, 0, 0, 0, 0, 0, 0, 0, 0, 0, 0, 0, 0, 0, 0, 0, 0, 0, 0, 0, 0, 0, 0, 0, 0, 0, 0, 2839, 2839, 2839, 847, 1, 1, 1732, 1732, 30190, 23019, 25436, 1732, 1, 0, 0, 0, 0, 0, 0, 0, 0, 0, 0, 0, 0, 0, 0, 0, 0, 0, 0, 0, 0, 0, 0, 0, 0, 0, 0, 0, 0, 0, 0, 0, 0, 0, 0, 0, 0, 0, 0, 0, 0, 0, 0, 0, 0, 0, 0, 0, 0, 0, 0, 0, 0, 0, 0, 0, 0, 0, 0, 0, 0, 0, 0, 0, 0, 0, 0, 0, 0, 0, 0, 0, 0, 0, 0, 0, 0, 0, 0, 0, 0, 0, 0, 0, 0, 0, 0, 0, 0, 0, 0, 0, 0, 0, 0, 0, 0, 0, 0, 0, 0, 0, 0, 0, 0, 0, 0, 0, 0, 0, 0, 0, 0, 0, 0, 0, 0, 0, 0, 0, 0, 0, 0, 0, 0, 0, 0, 0, 0, 0, 0, 0, 0, 0, 0, 0, 0, 0, 0, 0, 0, 0, 0, 0, 0, 0, 0, 0, 0, 0, 0, 0, 0, 0, 0]\n"
     ]
    },
    {
     "data": {
      "image/png": "[encoded data removed]",
      "text/plain": [
       "<Figure size 432x288 with 1 Axes>"
      ]
     },
     "metadata": {
      "needs_background": "light"
     },
     "output_type": "display_data"
    }
   ],
   "source": [
    "none_counts = []\n",
    "for item in data.columns:\n",
    "    none_counts.append(data[item].isna().sum())\n",
    "print(none_counts)\n",
    "plt.bar(data.columns, none_counts)\n",
    "plt.ylabel('count of NaN values')\n",
    "plt.show()"
   ]
  },
  {
   "cell_type": "markdown",
   "id": "514222b2",
   "metadata": {},
   "source": [
    "Lets look at NaN of other columns, where lots of missed values "
   ]
  },
  {
   "cell_type": "code",
   "execution_count": 46,
   "id": "95a36169",
   "metadata": {},
   "outputs": [],
   "source": [
    "Nan_ind1 = none_counts.index(30190)\n",
    "Nan_ind2 = none_counts.index(23019)\n",
    "Nan_ind3 = none_counts.index(25436)"
   ]
  },
  {
   "cell_type": "code",
   "execution_count": 47,
   "id": "2518b714",
   "metadata": {},
   "outputs": [],
   "source": [
    "# create Nan columns\n",
    "column_max_none1 = data.columns[Nan_ind1]\n",
    "column_max_none2 = data.columns[Nan_ind2]\n",
    "column_max_none3 = data.columns[Nan_ind3]\n",
    "data[column_max_none1+'_NaN'] = np.where(data[column_max_none1].isnull(), 0,1)\n",
    "data[column_max_none2+'_NaN'] = np.where(data[column_max_none2].isnull(), 0,1)\n",
    "data[column_max_none3+'_NaN'] = np.where(data[column_max_none3].isnull(), 0,1)"
   ]
  },
  {
   "cell_type": "code",
   "execution_count": 49,
   "id": "4f48026a",
   "metadata": {},
   "outputs": [
    {
     "name": "stdout",
     "output_type": "stream",
     "text": [
      "1    69810\n",
      "0    30190\n",
      "Name: lor_NaN, dtype: int64\n",
      "1    76981\n",
      "0    23019\n",
      "Name: adults_NaN, dtype: int64\n",
      "1    74564\n",
      "0    25436\n",
      "Name: income_NaN, dtype: int64\n"
     ]
    }
   ],
   "source": [
    "print(data[column_max_none1+'_NaN'].value_counts())\n",
    "print(data[column_max_none2+'_NaN'].value_counts())\n",
    "print(data[column_max_none3+'_NaN'].value_counts())"
   ]
  },
  {
   "cell_type": "code",
   "execution_count": 171,
   "id": "12b24714",
   "metadata": {},
   "outputs": [
    {
     "name": "stdout",
     "output_type": "stream",
     "text": [
      "lor_NaN  churn\n",
      "0        1        0.513581\n",
      "         0        0.486419\n",
      "1        0        0.512147\n",
      "         1        0.487853\n",
      "Name: churn, dtype: float64\n",
      "adults_NaN  churn\n",
      "0           1        0.517181\n",
      "            0        0.482819\n",
      "1           0        0.510827\n",
      "            1        0.489173\n",
      "Name: churn, dtype: float64\n",
      "income_NaN  churn\n",
      "0           1        0.514350\n",
      "            0        0.485650\n",
      "1           0        0.510769\n",
      "            1        0.489231\n",
      "Name: churn, dtype: float64\n"
     ]
    }
   ],
   "source": [
    "# Churn passengers by 'numbcars_NaN'\n",
    "print(data.groupby([column_max_none1+'_NaN']) ['churn'].value_counts(normalize=True))\n",
    "print(data.groupby([column_max_none2+'_NaN']) ['churn'].value_counts(normalize=True))\n",
    "print(data.groupby([column_max_none3+'_NaN']) ['churn'].value_counts(normalize=True))"
   ]
  },
  {
   "cell_type": "code",
   "execution_count": 50,
   "id": "0e8ee7aa",
   "metadata": {},
   "outputs": [
    {
     "data": {
      "text/plain": [
       "(100000, 234)"
      ]
     },
     "execution_count": 50,
     "metadata": {},
     "output_type": "execute_result"
    }
   ],
   "source": [
    "data.shape"
   ]
  },
  {
   "cell_type": "code",
   "execution_count": 51,
   "id": "b9c0ef22",
   "metadata": {},
   "outputs": [],
   "source": [
    "data.drop([column_max_none1+'_NaN',column_max_none2+'_NaN',column_max_none3+'_NaN',\n",
    "          column_max_none1,column_max_none2,column_max_none3],axis=1, inplace=True)"
   ]
  },
  {
   "cell_type": "code",
   "execution_count": 52,
   "id": "749343b8",
   "metadata": {},
   "outputs": [
    {
     "data": {
      "text/plain": [
       "(100000, 228)"
      ]
     },
     "execution_count": 52,
     "metadata": {},
     "output_type": "execute_result"
    }
   ],
   "source": [
    "data.shape"
   ]
  },
  {
   "cell_type": "code",
   "execution_count": null,
   "id": "c90cd701",
   "metadata": {},
   "outputs": [],
   "source": []
  },
  {
   "cell_type": "code",
   "execution_count": null,
   "id": "b027c146",
   "metadata": {},
   "outputs": [],
   "source": []
  },
  {
   "cell_type": "code",
   "execution_count": null,
   "id": "733ec4ad",
   "metadata": {},
   "outputs": [],
   "source": []
  },
  {
   "cell_type": "code",
   "execution_count": null,
   "id": "aff3dae9",
   "metadata": {},
   "outputs": [],
   "source": []
  },
  {
   "cell_type": "code",
   "execution_count": null,
   "id": "c48e410c",
   "metadata": {},
   "outputs": [],
   "source": []
  },
  {
   "cell_type": "code",
   "execution_count": null,
   "id": "0c82d014",
   "metadata": {},
   "outputs": [],
   "source": []
  },
  {
   "cell_type": "code",
   "execution_count": 79,
   "id": "2055b516",
   "metadata": {},
   "outputs": [],
   "source": [
    "names_area = list(map(str, data.area.unique().tolist()))\n",
    "count_area = list(map(int,data.area.value_counts().to_list()))"
   ]
  },
  {
   "cell_type": "code",
   "execution_count": 122,
   "id": "5135d39f",
   "metadata": {},
   "outputs": [
    {
     "name": "stdout",
     "output_type": "stream",
     "text": [
      "<class 'list'> <class 'list'>\n",
      "<class 'str'> <class 'int'>\n",
      "NORTHWEST/ROCKY MOUNTAIN AREA 29 <class 'str'>\n",
      "CHICAGO AREA 12 <class 'str'>\n",
      "GREAT LAKES AREA 16 <class 'str'>\n",
      "NEW ENGLAND AREA 16 <class 'str'>\n",
      "DALLAS AREA 11 <class 'str'>\n",
      "CENTRAL/SOUTH TEXAS AREA 24 <class 'str'>\n",
      "TENNESSEE AREA 14 <class 'str'>\n",
      "MIDWEST AREA 12 <class 'str'>\n",
      "PHILADELPHIA AREA 17 <class 'str'>\n",
      "OHIO AREA 9 <class 'str'>\n",
      "HOUSTON AREA 12 <class 'str'>\n",
      "SOUTHWEST AREA 14 <class 'str'>\n",
      "NEW YORK CITY AREA 18 <class 'str'>\n",
      "ATLANTIC SOUTH AREA 19 <class 'str'>\n",
      "SOUTH FLORIDA AREA 18 <class 'str'>\n",
      "CALIFORNIA NORTH AREA 21 <class 'str'>\n",
      "DC/MARYLAND/VIRGINIA AREA 25 <class 'str'>\n",
      "NORTH FLORIDA AREA 18 <class 'str'>\n",
      "nan 3 <class 'str'>\n",
      "LOS ANGELES AREA 16 <class 'str'>\n",
      "\n",
      "11098 <class 'int'>\n",
      "6636 <class 'int'>\n",
      "6567 <class 'int'>\n",
      "6346 <class 'int'>\n",
      "6187 <class 'int'>\n",
      "6132 <class 'int'>\n",
      "5913 <class 'int'>\n",
      "5452 <class 'int'>\n",
      "5426 <class 'int'>\n",
      "5141 <class 'int'>\n",
      "4649 <class 'int'>\n",
      "4580 <class 'int'>\n",
      "4350 <class 'int'>\n",
      "4341 <class 'int'>\n",
      "4328 <class 'int'>\n",
      "4299 <class 'int'>\n",
      "3332 <class 'int'>\n",
      "2737 <class 'int'>\n",
      "2446 <class 'int'>\n"
     ]
    }
   ],
   "source": [
    "print(type(names_area), type(count_area))\n",
    "print(type(names_area[0]), type(count_area[0]))\n",
    "for i in names_area:\n",
    "    print(i,len(i), type(i))\n",
    "    \n",
    "print()\n",
    "for i in count_area:\n",
    "    print(i, type(i))"
   ]
  },
  {
   "cell_type": "code",
   "execution_count": 87,
   "id": "44ddf37b",
   "metadata": {},
   "outputs": [
    {
     "name": "stdout",
     "output_type": "stream",
     "text": [
      "20 19\n"
     ]
    }
   ],
   "source": [
    "print(len(names_area), len(count_area))"
   ]
  },
  {
   "cell_type": "code",
   "execution_count": 102,
   "id": "5663ec07",
   "metadata": {},
   "outputs": [
    {
     "name": "stdout",
     "output_type": "stream",
     "text": [
      "hnd_webcap\n"
     ]
    }
   ],
   "source": [
    "ind = none_counts.index(10189)\n",
    "print(data.columns[ind])\n"
   ]
  },
  {
   "cell_type": "code",
   "execution_count": 121,
   "id": "442c3e27",
   "metadata": {},
   "outputs": [
    {
     "data": {
      "text/plain": [
       "0        NORTHWEST/ROCKY MOUNTAIN AREA\n",
       "1                         CHICAGO AREA\n",
       "2                     GREAT LAKES AREA\n",
       "3                         CHICAGO AREA\n",
       "4                     NEW ENGLAND AREA\n",
       "                     ...              \n",
       "99995                 LOS ANGELES AREA\n",
       "99996                 LOS ANGELES AREA\n",
       "99997                   SOUTHWEST AREA\n",
       "99998                   SOUTHWEST AREA\n",
       "99999                 LOS ANGELES AREA\n",
       "Name: area, Length: 99960, dtype: object"
      ]
     },
     "execution_count": 121,
     "metadata": {},
     "output_type": "execute_result"
    }
   ],
   "source": [
    "tmp = data[~data['area'].isnull()]\n"
   ]
  },
  {
   "cell_type": "code",
   "execution_count": 124,
   "id": "695d5a22",
   "metadata": {},
   "outputs": [
    {
     "data": {
      "text/plain": [
       "99960"
      ]
     },
     "execution_count": 124,
     "metadata": {},
     "output_type": "execute_result"
    }
   ],
   "source": [
    "len(tmp.area)"
   ]
  },
  {
   "cell_type": "code",
   "execution_count": 125,
   "id": "a76e8972",
   "metadata": {},
   "outputs": [
    {
     "data": {
      "text/plain": [
       "<BarContainer object of 19 artists>"
      ]
     },
     "execution_count": 125,
     "metadata": {},
     "output_type": "execute_result"
    },
    {
     "data": {
      "image/png": "[encoded data removed]",
      "text/plain": [
       "<Figure size 432x288 with 1 Axes>"
      ]
     },
     "metadata": {
      "needs_background": "light"
     },
     "output_type": "display_data"
    }
   ],
   "source": [
    "plt.bar(x=tmp.area.unique(), height=tmp.area.value_counts())"
   ]
  },
  {
   "cell_type": "code",
   "execution_count": null,
   "id": "7995164a",
   "metadata": {},
   "outputs": [],
   "source": []
  },
  {
   "cell_type": "code",
   "execution_count": null,
   "id": "c45ba4f8",
   "metadata": {},
   "outputs": [],
   "source": []
  }
 ],
 "metadata": {
  "kernelspec": {
   "display_name": "Python 3 (ipykernel)",
   "language": "python",
   "name": "python3"
  },
  "language_info": {
   "codemirror_mode": {
    "name": "ipython",
    "version": 3
   },
   "file_extension": ".py",
   "mimetype": "text/x-python",
   "name": "python",
   "nbconvert_exporter": "python",
   "pygments_lexer": "ipython3",
   "version": "3.9.7"
  },
  "varInspector": {
   "cols": {
    "lenName": 16,
    "lenType": 16,
    "lenVar": 40
   },
   "kernels_config": {
    "python": {
     "delete_cmd_postfix": "",
     "delete_cmd_prefix": "del ",
     "library": "var_list.py",
     "varRefreshCmd": "print(var_dic_list())"
    },
    "r": {
     "delete_cmd_postfix": ") ",
     "delete_cmd_prefix": "rm(",
     "library": "var_list.r",
     "varRefreshCmd": "cat(var_dic_list()) "
    }
   },
   "types_to_exclude": [
    "module",
    "function",
    "builtin_function_or_method",
    "instance",
    "_Feature"
   ],
   "window_display": false
  }
 },
 "nbformat": 4,
 "nbformat_minor": 5
}
