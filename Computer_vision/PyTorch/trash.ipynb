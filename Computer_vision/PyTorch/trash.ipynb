{
 "cells": [
  {
   "cell_type": "code",
   "execution_count": 13,
   "id": "65a5bf87",
   "metadata": {},
   "outputs": [
    {
     "name": "stdout",
     "output_type": "stream",
     "text": [
      "tensor([[[[ 0.,  0.,  0.,  0.,  0.],\n",
      "          [ 0.,  0.,  1.,  2.,  0.],\n",
      "          [ 0.,  3.,  4.,  5.,  0.],\n",
      "          [ 0.,  6.,  7.,  8.,  0.],\n",
      "          [ 0.,  0.,  0.,  0.,  0.]],\n",
      "\n",
      "         [[ 0.,  0.,  0.,  0.,  0.],\n",
      "          [ 0.,  9., 10., 11.,  0.],\n",
      "          [ 0., 12., 13., 14.,  0.],\n",
      "          [ 0., 15., 16., 17.,  0.],\n",
      "          [ 0.,  0.,  0.,  0.,  0.]],\n",
      "\n",
      "         [[ 0.,  0.,  0.,  0.,  0.],\n",
      "          [ 0., 18., 19., 20.,  0.],\n",
      "          [ 0., 21., 22., 23.,  0.],\n",
      "          [ 0., 24., 25., 26.,  0.],\n",
      "          [ 0.,  0.,  0.,  0.,  0.]]],\n",
      "\n",
      "\n",
      "        [[[ 0.,  0.,  0.,  0.,  0.],\n",
      "          [ 0., 27., 28., 29.,  0.],\n",
      "          [ 0., 30., 31., 32.,  0.],\n",
      "          [ 0., 33., 34., 35.,  0.],\n",
      "          [ 0.,  0.,  0.,  0.,  0.]],\n",
      "\n",
      "         [[ 0.,  0.,  0.,  0.,  0.],\n",
      "          [ 0., 36., 37., 38.,  0.],\n",
      "          [ 0., 39., 40., 41.,  0.],\n",
      "          [ 0., 42., 43., 44.,  0.],\n",
      "          [ 0.,  0.,  0.,  0.,  0.]],\n",
      "\n",
      "         [[ 0.,  0.,  0.,  0.,  0.],\n",
      "          [ 0., 45., 46., 47.,  0.],\n",
      "          [ 0., 48., 49., 50.,  0.],\n",
      "          [ 0., 51., 52., 53.,  0.],\n",
      "          [ 0.,  0.,  0.,  0.,  0.]]]])\n",
      "True\n"
     ]
    }
   ],
   "source": [
    "import torch\n",
    "\n",
    "# Создаем входной массив из двух изображений RGB 3*3\n",
    "input_images = torch.tensor(\n",
    "      [[[[0,  1,  2],\n",
    "         [3,  4,  5],\n",
    "         [6,  7,  8]],\n",
    "\n",
    "        [[9, 10, 11],\n",
    "         [12, 13, 14],\n",
    "         [15, 16, 17]],\n",
    "\n",
    "        [[18, 19, 20],\n",
    "         [21, 22, 23],\n",
    "         [24, 25, 26]]],\n",
    "\n",
    "\n",
    "       [[[27, 28, 29],\n",
    "         [30, 31, 32],\n",
    "         [33, 34, 35]],\n",
    "\n",
    "        [[36, 37, 38],\n",
    "         [39, 40, 41],\n",
    "         [42, 43, 44]],\n",
    "\n",
    "        [[45, 46, 47],\n",
    "         [48, 49, 50],\n",
    "         [51, 52, 53]]]])\n",
    "\n",
    "\n",
    "def get_padding2d(input_images):\n",
    "    padded_images = torch.zeros(2, 3, 5, 5)\n",
    "    for i in range(0,3):\n",
    "        for j in range(1,4):\n",
    "            for k in range(1,4):\n",
    "                padded_images[0][i][j][k] =  input_images[0][i][j-1][k-1]\n",
    "                padded_images[1][i][j][k] =  input_images[1][i][j-1][k-1]\n",
    "    return padded_images\n",
    "\n",
    "\n",
    "correct_padded_images = torch.tensor(\n",
    "       [[[[0.,  0.,  0.,  0.,  0.],\n",
    "          [0.,  0.,  1.,  2.,  0.],\n",
    "          [0.,  3.,  4.,  5.,  0.],\n",
    "          [0.,  6.,  7.,  8.,  0.],\n",
    "          [0.,  0.,  0.,  0.,  0.]],\n",
    "\n",
    "         [[0.,  0.,  0.,  0.,  0.],\n",
    "          [0.,  9., 10., 11.,  0.],\n",
    "          [0., 12., 13., 14.,  0.],\n",
    "          [0., 15., 16., 17.,  0.],\n",
    "          [0.,  0.,  0.,  0.,  0.]],\n",
    "\n",
    "         [[0.,  0.,  0.,  0.,  0.],\n",
    "          [0., 18., 19., 20.,  0.],\n",
    "          [0., 21., 22., 23.,  0.],\n",
    "          [0., 24., 25., 26.,  0.],\n",
    "          [0.,  0.,  0.,  0.,  0.]]],\n",
    "\n",
    "\n",
    "        [[[0.,  0.,  0.,  0.,  0.],\n",
    "          [0., 27., 28., 29.,  0.],\n",
    "          [0., 30., 31., 32.,  0.],\n",
    "          [0., 33., 34., 35.,  0.],\n",
    "          [0.,  0.,  0.,  0.,  0.]],\n",
    "\n",
    "         [[0.,  0.,  0.,  0.,  0.],\n",
    "          [0., 36., 37., 38.,  0.],\n",
    "          [0., 39., 40., 41.,  0.],\n",
    "          [0., 42., 43., 44.,  0.],\n",
    "          [0.,  0.,  0.,  0.,  0.]],\n",
    "\n",
    "         [[0.,  0.,  0.,  0.,  0.],\n",
    "          [0., 45., 46., 47.,  0.],\n",
    "          [0., 48., 49., 50.,  0.],\n",
    "          [0., 51., 52., 53.,  0.],\n",
    "          [0.,  0.,  0.,  0.,  0.]]]])\n",
    "\n",
    "# Проверка происходит автоматически вызовом следующего кода\n",
    "# (раскомментируйте для самостоятельной проверки,\n",
    "#  в коде для сдачи задания должно быть закомментировано):\n",
    "print(torch.allclose(get_padding2d(input_images), correct_padded_images))"
   ]
  },
  {
   "cell_type": "code",
   "execution_count": 14,
   "id": "dae16d20",
   "metadata": {},
   "outputs": [],
   "source": [
    "import torch\n",
    "from abc import ABC, abstractmethod\n",
    "\n",
    "\n",
    "def calc_out_shape(input_matrix_shape, out_channels, kernel_size, stride, padding):\n",
    "    batch_size, channels_count, input_height, input_width = input_matrix_shape\n",
    "    output_height = (input_height + 2 * padding - (kernel_size - 1) - 1) // stride + 1\n",
    "    output_width = (input_width + 2 * padding - (kernel_size - 1) - 1) // stride + 1\n",
    "\n",
    "    return batch_size, out_channels, output_height, output_width\n",
    "\n",
    "\n",
    "class ABCConv2d(ABC):\n",
    "    def __init__(self, in_channels, out_channels, kernel_size, stride):\n",
    "        self.in_channels = in_channels\n",
    "        self.out_channels = out_channels\n",
    "        self.kernel_size = kernel_size\n",
    "        self.stride = stride\n",
    "\n",
    "    def set_kernel(self, kernel):\n",
    "        self.kernel = kernel\n",
    "\n",
    "    @abstractmethod\n",
    "    def __call__(self, input_tensor):\n",
    "        pass\n",
    "\n",
    "\n",
    "class Conv2d(ABCConv2d):\n",
    "    def __init__(self, in_channels, out_channels, kernel_size, stride):\n",
    "        self.conv2d = torch.nn.Conv2d(in_channels, out_channels, kernel_size,\n",
    "                                      stride, padding=0, bias=False)\n",
    "\n",
    "    def set_kernel(self, kernel):\n",
    "        self.conv2d.weight.data = kernel\n",
    "\n",
    "    def __call__(self, input_tensor):\n",
    "        return self.conv2d(input_tensor)\n",
    "\n",
    "\n",
    "def create_and_call_conv2d_layer(conv2d_layer_class, stride, kernel, input_matrix):\n",
    "    out_channels = kernel.shape[0]\n",
    "    in_channels = kernel.shape[1]\n",
    "    kernel_size = kernel.shape[2]\n",
    "\n",
    "    layer = conv2d_layer_class(in_channels, out_channels, kernel_size, stride)\n",
    "    layer.set_kernel(kernel)\n",
    "\n",
    "    return layer(input_matrix)\n",
    "\n",
    "\n",
    "def test_conv2d_layer(conv2d_layer_class, batch_size=2,\n",
    "                      input_height=4, input_width=4, stride=2):\n",
    "    kernel = torch.tensor(\n",
    "                      [[[[0., 1, 0],\n",
    "                         [1,  2, 1],\n",
    "                         [0,  1, 0]],\n",
    "\n",
    "                        [[1, 2, 1],\n",
    "                         [0, 3, 3],\n",
    "                         [0, 1, 10]],\n",
    "\n",
    "                        [[10, 11, 12],\n",
    "                         [13, 14, 15],\n",
    "                         [16, 17, 18]]]])\n",
    "\n",
    "    in_channels = kernel.shape[1]\n",
    "\n",
    "    input_tensor = torch.arange(0, batch_size * in_channels *\n",
    "                                input_height * input_width,\n",
    "                                out=torch.FloatTensor()) \\\n",
    "        .reshape(batch_size, in_channels, input_height, input_width)\n",
    "\n",
    "    custom_conv2d_out = create_and_call_conv2d_layer(\n",
    "        conv2d_layer_class, stride, kernel, input_tensor)\n",
    "    conv2d_out = create_and_call_conv2d_layer(\n",
    "        Conv2d, stride, kernel, input_tensor)\n",
    "\n",
    "    return torch.allclose(custom_conv2d_out, conv2d_out) \\\n",
    "             and (custom_conv2d_out.shape == conv2d_out.shape)\n",
    "\n",
    "\n"
   ]
  },
  {
   "cell_type": "code",
   "execution_count": null,
   "id": "6963627b",
   "metadata": {},
   "outputs": [],
   "source": [
    "# Сверточный слой через циклы.\n",
    "class Conv2dLoop(ABCConv2d):\n",
    "    def __call__(self, input_tensor):\n",
    "        output_tensor =\n",
    "        return output_tensor\n",
    "\n",
    "# Корректность реализации определится в сравнении со стандартным слоем из pytorch.\n",
    "# Проверка происходит автоматически вызовом следующего кода\n",
    "# (раскомментируйте для самостоятельной проверки,\n",
    "#  в коде для сдачи задания должно быть закомментировано):\n",
    "# print(test_conv2d_layer(Conv2dLoop))"
   ]
  },
  {
   "cell_type": "code",
   "execution_count": 3,
   "id": "03a5a7e3",
   "metadata": {},
   "outputs": [
    {
     "name": "stdout",
     "output_type": "stream",
     "text": [
      "torch.Size([10, 10])\n"
     ]
    }
   ],
   "source": [
    "import torch\n",
    "conv = torch.nn.Conv2d(1,1,kernel_size=5, padding=0, stride= 1, bias=False)\n",
    "x = torch.ones(1, 1, 14, 14)\n",
    "conv.weight.data = torch.ones(1, 1, 5, 5)\n",
    "print(conv(x).data[0,0].shape)"
   ]
  },
  {
   "cell_type": "code",
   "execution_count": null,
   "id": "55423fc1",
   "metadata": {},
   "outputs": [],
   "source": []
  },
  {
   "cell_type": "code",
   "execution_count": 43,
   "id": "75318a9d",
   "metadata": {},
   "outputs": [
    {
     "name": "stdout",
     "output_type": "stream",
     "text": [
      "True\n"
     ]
    }
   ],
   "source": [
    "import numpy as np\n",
    "import torch\n",
    "import torch.nn as nn\n",
    "\n",
    "def custom_batch_norm1d(input_tensor, eps):\n",
    "    normed_tensor = (input_tensor-torch.mean(input_tensor,dim=0))/(torch.sqrt(\n",
    "    torch.var(input_tensor, unbiased = False, dim=0)+eps)) \n",
    "    return normed_tensor\n",
    "\n",
    "\n",
    "input_tensor = torch.Tensor([[0.0, 0, 1, 0, 2], [0, 1, 1, 0, 10]])\n",
    "batch_norm = nn.BatchNorm1d(input_tensor.shape[1], affine=False)\n",
    "\n",
    "# Проверка происходит автоматически вызовом следующего кода\n",
    "# (раскомментируйте для самостоятельной проверки,\n",
    "#  в коде для сдачи задания должно быть закомментировано):\n",
    "# import numpy as np\n",
    "all_correct = True\n",
    "for eps_power in range(10):\n",
    "    eps = np.power(10., -eps_power)\n",
    "    batch_norm.eps = eps\n",
    "    batch_norm_out = batch_norm(input_tensor)\n",
    "    custom_batch_norm_out = custom_batch_norm1d(input_tensor, eps)\n",
    "\n",
    "    all_correct &= torch.allclose(batch_norm_out, custom_batch_norm_out)\n",
    "    all_correct &= batch_norm_out.shape == custom_batch_norm_out.shape\n",
    "print(all_correct)"
   ]
  },
  {
   "cell_type": "code",
   "execution_count": 21,
   "id": "71abac6f",
   "metadata": {},
   "outputs": [
    {
     "data": {
      "text/plain": [
       "0.64"
      ]
     },
     "execution_count": 21,
     "metadata": {},
     "output_type": "execute_result"
    }
   ],
   "source": [
    "a =torch.tensor([0., 0., 1., 0., 2.])\n",
    "k = a.numpy()\n",
    "np.var(k)"
   ]
  },
  {
   "cell_type": "code",
   "execution_count": 1,
   "id": "485765c8",
   "metadata": {},
   "outputs": [
    {
     "name": "stdout",
     "output_type": "stream",
     "text": [
      "1\n"
     ]
    }
   ],
   "source": [
    "import torch\n",
    "import numpy as np\n",
    "\n",
    "seed = int(input())\n",
    "np.random.seed(seed)\n",
    "torch.manual_seed(seed)\n",
    "\n",
    "NUMBER_OF_EXPERIMENTS = 200\n",
    "\n",
    "class SimpleNet(torch.nn.Module):\n",
    "    def __init__(self, activation):\n",
    "        super().__init__()\n",
    "\n",
    "        self.activation = activation\n",
    "        self.fc1 = torch.nn.Linear(1, 1, bias=False)  # one neuron without bias\n",
    "        self.fc1.weight.data.fill_(1.)  # init weight with 1\n",
    "        self.fc2 = torch.nn.Linear(1, 1, bias=False)\n",
    "        self.fc2.weight.data.fill_(1.)\n",
    "        self.fc3 = torch.nn.Linear(1, 1, bias=False)\n",
    "        self.fc3.weight.data.fill_(1.)\n",
    "\n",
    "    def forward(self, x):\n",
    "        x = self.activation(self.fc1(x))\n",
    "        x = self.activation(self.fc2(x))\n",
    "        x = self.activation(self.fc3(x))\n",
    "        return x\n",
    "\n",
    "    def get_fc1_grad_abs_value(self):\n",
    "        return torch.abs(self.fc1.weight.grad)\n",
    "\n",
    "def get_fc1_grad_abs_value(net, x):\n",
    "    output = net.forward(x)\n",
    "    output.backward()  # no loss function. Pretending that we want to minimize output\n",
    "                       # In our case output is scalar, so we can calculate backward\n",
    "    fc1_grad = net.get_fc1_grad_abs_value().item()\n",
    "    net.zero_grad()\n",
    "    return fc1_grad\n",
    "\n",
    "\n",
    "\n"
   ]
  },
  {
   "cell_type": "code",
   "execution_count": 2,
   "id": "dfe92b0c",
   "metadata": {},
   "outputs": [],
   "source": [
    "activation =  {'ELU': torch.nn.ELU(), 'Hardtanh': torch.nn.Hardtanh(),\n",
    "               'LeakyReLU': torch.nn.LeakyReLU(), 'LogSigmoid': torch.nn.LogSigmoid(),\n",
    "               'PReLU': torch.nn.PReLU(), 'ReLU': torch.nn.ReLU(), 'ReLU6': torch.nn.ReLU6(),\n",
    "               'RReLU': torch.nn.RReLU(), 'SELU': torch.nn.SELU(), 'CELU': torch.nn.CELU(),\n",
    "               'Sigmoid': torch.nn.Sigmoid(), 'Softplus': torch.nn.Softplus(),\n",
    "               'Softshrink': torch.nn.Softshrink(), 'Softsign': torch.nn.Softsign(),\n",
    "               'Tanh': torch.nn.Tanh(), 'Tanhshrink': torch.nn.Tanhshrink(),\n",
    "               'Hardshrink': torch.nn.Hardshrink()}"
   ]
  },
  {
   "cell_type": "code",
   "execution_count": 16,
   "id": "6ad17512",
   "metadata": {},
   "outputs": [],
   "source": [
    "def mean(act):\n",
    "    net = SimpleNet(activation=act)\n",
    "\n",
    "    fc1_grads = []\n",
    "    for x in torch.randn((NUMBER_OF_EXPERIMENTS, 1)):\n",
    "        fc1_grads.append(get_fc1_grad_abs_value(net, x))\n",
    "\n",
    "    return np.mean(fc1_grads)"
   ]
  },
  {
   "cell_type": "code",
   "execution_count": 17,
   "id": "d1c7981c",
   "metadata": {},
   "outputs": [],
   "source": [
    "grad_arr = []\n",
    "for item in activation.values():\n",
    "    grad_arr.append(mean(item))"
   ]
  },
  {
   "cell_type": "code",
   "execution_count": 21,
   "id": "4b8f1ebb",
   "metadata": {},
   "outputs": [
    {
     "data": {
      "text/plain": [
       "16"
      ]
     },
     "execution_count": 21,
     "metadata": {},
     "output_type": "execute_result"
    }
   ],
   "source": [
    "max(grad_arr)\n",
    "grad_arr.index(0.8162519589066506)"
   ]
  },
  {
   "cell_type": "code",
   "execution_count": 24,
   "id": "ab7f9781",
   "metadata": {},
   "outputs": [
    {
     "data": {
      "text/plain": [
       "Hardshrink(0.5)"
      ]
     },
     "execution_count": 24,
     "metadata": {},
     "output_type": "execute_result"
    }
   ],
   "source": [
    "list(activation.values())[16]"
   ]
  },
  {
   "cell_type": "code",
   "execution_count": 38,
   "id": "921505e5",
   "metadata": {},
   "outputs": [],
   "source": [
    "import math\n",
    "t = math.tanh\n",
    "w_1 = 100*(1-(t(t(t(t(100)))))**2)*(1-(t(t(t(100))))**2)*(1-(t(t(100)))**2)*(1-(t(100))**2)\n",
    "\n",
    "w_2 = (1-(t(t(t(t(100)))))**2)*(1-(t(t(t(100))))**2)*(1-(t(t(100)))**2)*t(100)\n",
    "\n",
    "w_3 = (1-(t(t(t(t(100)))))**2)*(1-(t(t(t(100))))**2)*(t(t(100)))\n",
    "\n",
    "w_4 = (1-(t(t(t(t(100)))))**2)*t(t(t(100)))"
   ]
  },
  {
   "cell_type": "code",
   "execution_count": 39,
   "id": "91d5bfcb",
   "metadata": {},
   "outputs": [
    {
     "data": {
      "text/plain": [
       "[0.0, 0.1677068587693903, 0.30412468309754653, 0.43614538244454387]"
      ]
     },
     "execution_count": 39,
     "metadata": {},
     "output_type": "execute_result"
    }
   ],
   "source": [
    "[w_1,w_2,w_3,w_4]"
   ]
  },
  {
   "cell_type": "code",
   "execution_count": 40,
   "id": "3457797f",
   "metadata": {},
   "outputs": [
    {
     "data": {
      "text/plain": [
       "[0.0, 0.168, 0.304, 0.436]"
      ]
     },
     "execution_count": 40,
     "metadata": {},
     "output_type": "execute_result"
    }
   ],
   "source": [
    "list(map(lambda x: round(x,3),[w_1,w_2,w_3,w_4]))"
   ]
  }
 ],
 "metadata": {
  "kernelspec": {
   "display_name": "Python 3 (ipykernel)",
   "language": "python",
   "name": "python3"
  },
  "language_info": {
   "codemirror_mode": {
    "name": "ipython",
    "version": 3
   },
   "file_extension": ".py",
   "mimetype": "text/x-python",
   "name": "python",
   "nbconvert_exporter": "python",
   "pygments_lexer": "ipython3",
   "version": "3.9.7"
  },
  "varInspector": {
   "cols": {
    "lenName": 16,
    "lenType": 16,
    "lenVar": 40
   },
   "kernels_config": {
    "python": {
     "delete_cmd_postfix": "",
     "delete_cmd_prefix": "del ",
     "library": "var_list.py",
     "varRefreshCmd": "print(var_dic_list())"
    },
    "r": {
     "delete_cmd_postfix": ") ",
     "delete_cmd_prefix": "rm(",
     "library": "var_list.r",
     "varRefreshCmd": "cat(var_dic_list()) "
    }
   },
   "types_to_exclude": [
    "module",
    "function",
    "builtin_function_or_method",
    "instance",
    "_Feature"
   ],
   "window_display": false
  }
 },
 "nbformat": 4,
 "nbformat_minor": 5
}
