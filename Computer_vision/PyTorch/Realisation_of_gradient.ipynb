{
 "cells": [
  {
   "cell_type": "code",
   "execution_count": 1,
   "id": "930f572e",
   "metadata": {},
   "outputs": [],
   "source": [
    "import torch"
   ]
  },
  {
   "cell_type": "code",
   "execution_count": 2,
   "id": "47c84762",
   "metadata": {},
   "outputs": [],
   "source": [
    "#requires_grad = True for gradient\n",
    "X = torch.tensor([\n",
    "    [1.,2.,3.,4.,5.],\n",
    "    [6.,7.,8.,9.,10.],\n",
    "    [11.,12.,13.,14.,15.],\n",
    "    [16.,17.,18.,19.,20.]\n",
    "    ],requires_grad=True)"
   ]
  },
  {
   "cell_type": "code",
   "execution_count": 9,
   "id": "641624f4",
   "metadata": {},
   "outputs": [],
   "source": [
    "# Using GPU or CPU\n",
    "# device = torch.device('cuda: 0')\n",
    "device = torch.device('cuda: 0'\n",
    "                      if torch.cuda.is_available()\n",
    "                      else 'cpu'\n",
    "            )\n",
    "X = X.to(device)"
   ]
  },
  {
   "cell_type": "code",
   "execution_count": 10,
   "id": "97efdcdb",
   "metadata": {},
   "outputs": [],
   "source": [
    "# function for diff\n",
    "function = 10*(X**2).sum()\n",
    "function.backward()"
   ]
  },
  {
   "cell_type": "code",
   "execution_count": 11,
   "id": "867ffc57",
   "metadata": {},
   "outputs": [
    {
     "data": {
      "text/plain": [
       "tensor([[ 40.,  80., 120., 160., 200.],\n",
       "        [240., 280., 320., 360., 400.],\n",
       "        [440., 480., 520., 560., 600.],\n",
       "        [640., 680., 720., 760., 800.]])"
      ]
     },
     "execution_count": 11,
     "metadata": {},
     "output_type": "execute_result"
    }
   ],
   "source": [
    "X.grad"
   ]
  },
  {
   "cell_type": "code",
   "execution_count": 12,
   "id": "2e25cb5c",
   "metadata": {},
   "outputs": [
    {
     "data": {
      "text/plain": [
       "device(type='cpu')"
      ]
     },
     "execution_count": 12,
     "metadata": {},
     "output_type": "execute_result"
    }
   ],
   "source": [
    "device"
   ]
  },
  {
   "cell_type": "code",
   "execution_count": null,
   "id": "72e9e60c",
   "metadata": {},
   "outputs": [],
   "source": []
  },
  {
   "cell_type": "code",
   "execution_count": 15,
   "id": "f13d2d90",
   "metadata": {},
   "outputs": [],
   "source": [
    "w = torch.tensor([[5.,10.],[1.,2.]],requires_grad=True )"
   ]
  },
  {
   "cell_type": "code",
   "execution_count": 18,
   "id": "3a170dec",
   "metadata": {},
   "outputs": [],
   "source": [
    "function_1 = torch.log(torch.log(w+7)).prod()"
   ]
  },
  {
   "cell_type": "code",
   "execution_count": 19,
   "id": "4feb35a3",
   "metadata": {},
   "outputs": [
    {
     "data": {
      "text/plain": [
       "tensor([[0.0201, 0.0109],\n",
       "        [0.0449, 0.0351]])"
      ]
     },
     "execution_count": 19,
     "metadata": {},
     "output_type": "execute_result"
    }
   ],
   "source": [
    "function_1.backward()\n",
    "w.grad"
   ]
  },
  {
   "cell_type": "code",
   "execution_count": null,
   "id": "a8cc1f34",
   "metadata": {},
   "outputs": [],
   "source": [
    "# func_ '_' - меняться будет данной объект\n",
    "# zero_() обнуляет данный объект (градиенты запоминаются, потому надо обновлять)\n",
    "X.grad.zero_()"
   ]
  },
  {
   "cell_type": "code",
   "execution_count": null,
   "id": "e32dd5ab",
   "metadata": {},
   "outputs": [],
   "source": [
    "# x -= 0.01*x.grad is not working \n",
    "# use x.data -= 0.01*x.grad\n",
    "# requires_grad = True"
   ]
  },
  {
   "cell_type": "code",
   "execution_count": null,
   "id": "f44a42d6",
   "metadata": {},
   "outputs": [],
   "source": []
  },
  {
   "cell_type": "code",
   "execution_count": 28,
   "id": "793547bd",
   "metadata": {},
   "outputs": [],
   "source": [
    "w= torch.tensor([[5.,10.],[1.,2.]],requires_grad=True)\n",
    "function = (w + 7).log().log().prod()\n",
    "alpha = 0.001"
   ]
  },
  {
   "cell_type": "code",
   "execution_count": 29,
   "id": "9891a733",
   "metadata": {},
   "outputs": [],
   "source": [
    "for _ in range(500):\n",
    "    # critical: calculate the function inside the loop\n",
    "    function_1 = (w + 7).log().log().prod()\n",
    "    function_1.backward()\n",
    "    w.data -= alpha*w.grad\n",
    "    w.grad.zero_()\n",
    "    # something is missing"
   ]
  },
  {
   "cell_type": "code",
   "execution_count": null,
   "id": "cbeb517f",
   "metadata": {},
   "outputs": [],
   "source": []
  },
  {
   "cell_type": "code",
   "execution_count": 31,
   "id": "dfc46d26",
   "metadata": {},
   "outputs": [],
   "source": [
    "x = torch.tensor([8.,8.],requires_grad=True)\n",
    "\n",
    "optimizer = torch.optim.SGD([x], lr=0.001)\n",
    "\n",
    "def funcktion_parabola(variable):\n",
    "    return 10*(variable**2).sum()\n",
    "\n",
    "def make_gradient_step(function, variable):\n",
    "    function_result = function(variable)\n",
    "    function_result.backward()\n",
    "    optimizer.step()\n",
    "    optimizer.zero_grad()\n",
    "    \n",
    "for i in range(500):\n",
    "    make_gradient_step(funcktion_parabola, x)"
   ]
  },
  {
   "cell_type": "code",
   "execution_count": null,
   "id": "9febf3fe",
   "metadata": {},
   "outputs": [],
   "source": []
  },
  {
   "cell_type": "code",
   "execution_count": null,
   "id": "9b8b687e",
   "metadata": {},
   "outputs": [],
   "source": []
  },
  {
   "cell_type": "code",
   "execution_count": null,
   "id": "88ae23e1",
   "metadata": {},
   "outputs": [],
   "source": []
  },
  {
   "cell_type": "code",
   "execution_count": null,
   "id": "9de33a83",
   "metadata": {},
   "outputs": [],
   "source": []
  },
  {
   "cell_type": "code",
   "execution_count": null,
   "id": "0ab24b0c",
   "metadata": {},
   "outputs": [],
   "source": []
  },
  {
   "cell_type": "code",
   "execution_count": null,
   "id": "5c3495c0",
   "metadata": {},
   "outputs": [],
   "source": []
  },
  {
   "cell_type": "code",
   "execution_count": null,
   "id": "a9e0a18b",
   "metadata": {},
   "outputs": [],
   "source": []
  }
 ],
 "metadata": {
  "kernelspec": {
   "display_name": "Python 3 (ipykernel)",
   "language": "python",
   "name": "python3"
  },
  "language_info": {
   "codemirror_mode": {
    "name": "ipython",
    "version": 3
   },
   "file_extension": ".py",
   "mimetype": "text/x-python",
   "name": "python",
   "nbconvert_exporter": "python",
   "pygments_lexer": "ipython3",
   "version": "3.9.7"
  },
  "varInspector": {
   "cols": {
    "lenName": 16,
    "lenType": 16,
    "lenVar": 40
   },
   "kernels_config": {
    "python": {
     "delete_cmd_postfix": "",
     "delete_cmd_prefix": "del ",
     "library": "var_list.py",
     "varRefreshCmd": "print(var_dic_list())"
    },
    "r": {
     "delete_cmd_postfix": ") ",
     "delete_cmd_prefix": "rm(",
     "library": "var_list.r",
     "varRefreshCmd": "cat(var_dic_list()) "
    }
   },
   "types_to_exclude": [
    "module",
    "function",
    "builtin_function_or_method",
    "instance",
    "_Feature"
   ],
   "window_display": false
  }
 },
 "nbformat": 4,
 "nbformat_minor": 5
}
